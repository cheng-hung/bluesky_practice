{
 "cells": [
  {
   "cell_type": "code",
   "execution_count": 15,
   "id": "3e55aaef-9878-4eb5-993b-e53c547a283f",
   "metadata": {},
   "outputs": [],
   "source": [
    "from gc import collect\n",
    "import logging\n",
    "import time\n",
    "\n",
    "import epics\n",
    "\n",
    "from ophyd import (Device, Component as Cpt, FormattedComponent as FC,\n",
    "                   Signal)\n",
    "from ophyd import (EpicsSignal, EpicsSignalRO, DeviceStatus, DerivedSignal)\n",
    "from ophyd.areadetector import EpicsSignalWithRBV as SignalWithRBV\n",
    "from ophyd.status import SubscriptionStatus, Status\n",
    "#from ophyd import status"
   ]
  },
  {
   "cell_type": "code",
   "execution_count": 27,
   "id": "becb2185-5730-457f-9d9f-df01d9a9b8dc",
   "metadata": {},
   "outputs": [
    {
     "name": "stderr",
     "output_type": "stream",
     "text": [
      "/nsls2/conda/envs/2022-3.2-py39-tiled/lib/python3.9/site-packages/epics/ca.py:1522: UserWarning: ca.get('XF:28ID2-ES{QEPro:Spec-1}:MODEL') timed out after 10.00 seconds.\n",
      "  warnings.warn(msg % (name(chid), timeout))\n",
      "/nsls2/conda/envs/2022-3.2-py39-tiled/lib/python3.9/site-packages/epics/ca.py:1522: UserWarning: ca.get('XF:28ID2-ES{QEPro:Spec-1}:STATUS_MSG') timed out after 10.00 seconds.\n",
      "  warnings.warn(msg % (name(chid), timeout))\n",
      "/nsls2/conda/envs/2022-3.2-py39-tiled/lib/python3.9/site-packages/epics/ca.py:1522: UserWarning: ca.get('XF:28ID2-ES{QEPro:Spec-1}:SERIAL') timed out after 10.00 seconds.\n",
      "  warnings.warn(msg % (name(chid), timeout))\n",
      "/nsls2/conda/envs/2022-3.2-py39-tiled/lib/python3.9/site-packages/epics/ca.py:1522: UserWarning: ca.get('XF:28ID2-ES{QEPro:Spec-1}:STATUS') timed out after 10.00 seconds.\n",
      "  warnings.warn(msg % (name(chid), timeout))\n",
      "/nsls2/conda/envs/2022-3.2-py39-tiled/lib/python3.9/site-packages/epics/ca.py:1522: UserWarning: ca.get('XF:28ID2-ES{QEPro:Spec-1}:CONNECTED_RBV') timed out after 10.00 seconds.\n",
      "  warnings.warn(msg % (name(chid), timeout))\n",
      "/nsls2/conda/envs/2022-3.2-py39-tiled/lib/python3.9/site-packages/epics/ca.py:1522: UserWarning: ca.get('XF:28ID2-ES{QEPro:Spec-1}:FEATURES_RBV') timed out after 10.00 seconds.\n",
      "  warnings.warn(msg % (name(chid), timeout))\n",
      "/nsls2/conda/envs/2022-3.2-py39-tiled/lib/python3.9/site-packages/epics/ca.py:1522: UserWarning: ca.get('XF:28ID2-ES{QEPro:Spec-1}:CHECK_STATUS') timed out after 10.00 seconds.\n",
      "  warnings.warn(msg % (name(chid), timeout))\n",
      "/nsls2/conda/envs/2022-3.2-py39-tiled/lib/python3.9/site-packages/epics/ca.py:1522: UserWarning: ca.get('XF:28ID2-ES{QEPro:Spec-1}:STROBE_RBV') timed out after 10.00 seconds.\n",
      "  warnings.warn(msg % (name(chid), timeout))\n",
      "/nsls2/conda/envs/2022-3.2-py39-tiled/lib/python3.9/site-packages/epics/ca.py:1522: UserWarning: ca.get('XF:28ID2-ES{QEPro:Spec-1}:STROBE') timed out after 10.00 seconds.\n",
      "  warnings.warn(msg % (name(chid), timeout))\n",
      "/nsls2/conda/envs/2022-3.2-py39-tiled/lib/python3.9/site-packages/epics/ca.py:1522: UserWarning: ca.get('XF:28ID2-ES{QEPro:Spec-1}:EDC_RBV') timed out after 10.00 seconds.\n",
      "  warnings.warn(msg % (name(chid), timeout))\n",
      "/nsls2/conda/envs/2022-3.2-py39-tiled/lib/python3.9/site-packages/epics/ca.py:1522: UserWarning: ca.get('XF:28ID2-ES{QEPro:Spec-1}:EDC') timed out after 10.00 seconds.\n",
      "  warnings.warn(msg % (name(chid), timeout))\n",
      "/nsls2/conda/envs/2022-3.2-py39-tiled/lib/python3.9/site-packages/epics/ca.py:1522: UserWarning: ca.get('XF:28ID2-ES{QEPro:Spec-1}:NLC_RBV') timed out after 10.00 seconds.\n",
      "  warnings.warn(msg % (name(chid), timeout))\n",
      "/nsls2/conda/envs/2022-3.2-py39-tiled/lib/python3.9/site-packages/epics/ca.py:1522: UserWarning: ca.get('XF:28ID2-ES{QEPro:Spec-1}:NLC') timed out after 10.00 seconds.\n",
      "  warnings.warn(msg % (name(chid), timeout))\n",
      "/nsls2/conda/envs/2022-3.2-py39-tiled/lib/python3.9/site-packages/epics/ca.py:1522: UserWarning: ca.get('XF:28ID2-ES{QEPro:Spec-1}:SHUTTER_RBV') timed out after 10.00 seconds.\n",
      "  warnings.warn(msg % (name(chid), timeout))\n",
      "/nsls2/conda/envs/2022-3.2-py39-tiled/lib/python3.9/site-packages/epics/ca.py:1522: UserWarning: ca.get('XF:28ID2-ES{QEPro:Spec-1}:SHUTTER') timed out after 10.00 seconds.\n",
      "  warnings.warn(msg % (name(chid), timeout))\n",
      "/nsls2/conda/envs/2022-3.2-py39-tiled/lib/python3.9/site-packages/epics/ca.py:1522: UserWarning: ca.get('XF:28ID2-ES{QEPro:Spec-1}:TEC_RBV') timed out after 10.00 seconds.\n",
      "  warnings.warn(msg % (name(chid), timeout))\n",
      "/nsls2/conda/envs/2022-3.2-py39-tiled/lib/python3.9/site-packages/epics/ca.py:1522: UserWarning: ca.get('XF:28ID2-ES{QEPro:Spec-1}:TEC') timed out after 10.00 seconds.\n",
      "  warnings.warn(msg % (name(chid), timeout))\n",
      "/nsls2/conda/envs/2022-3.2-py39-tiled/lib/python3.9/site-packages/epics/ca.py:1522: UserWarning: ca.get('XF:28ID2-ES{QEPro:Spec-1}:TEC_TEMP') timed out after 10.00 seconds.\n",
      "  warnings.warn(msg % (name(chid), timeout))\n",
      "/nsls2/conda/envs/2022-3.2-py39-tiled/lib/python3.9/site-packages/epics/ca.py:1522: UserWarning: ca.get('XF:28ID2-ES{QEPro:Spec-1}:CURR_TEC_TEMP_RBV') timed out after 10.00 seconds.\n",
      "  warnings.warn(msg % (name(chid), timeout))\n",
      "/nsls2/conda/envs/2022-3.2-py39-tiled/lib/python3.9/site-packages/epics/ca.py:1522: UserWarning: ca.get('XF:28ID2-ES{QEPro:Spec-1}:TEC_TEMP_RBV') timed out after 10.00 seconds.\n",
      "  warnings.warn(msg % (name(chid), timeout))\n",
      "/nsls2/conda/envs/2022-3.2-py39-tiled/lib/python3.9/site-packages/epics/ca.py:1522: UserWarning: ca.get('XF:28ID2-ES{QEPro:Spec-1}:LIGHT_SOURCE_RBV') timed out after 10.00 seconds.\n",
      "  warnings.warn(msg % (name(chid), timeout))\n",
      "/nsls2/conda/envs/2022-3.2-py39-tiled/lib/python3.9/site-packages/epics/ca.py:1522: UserWarning: ca.get('XF:28ID2-ES{QEPro:Spec-1}:LIGHT_SOURCE') timed out after 10.00 seconds.\n",
      "  warnings.warn(msg % (name(chid), timeout))\n",
      "/nsls2/conda/envs/2022-3.2-py39-tiled/lib/python3.9/site-packages/epics/ca.py:1522: UserWarning: ca.get('XF:28ID2-ES{QEPro:Spec-1}:LIGHT_SOURCE_INTENSITY_RBV') timed out after 10.00 seconds.\n",
      "  warnings.warn(msg % (name(chid), timeout))\n",
      "/nsls2/conda/envs/2022-3.2-py39-tiled/lib/python3.9/site-packages/epics/ca.py:1522: UserWarning: ca.get('XF:28ID2-ES{QEPro:Spec-1}:LIGHT_SOURCE_INTENSITY') timed out after 10.00 seconds.\n",
      "  warnings.warn(msg % (name(chid), timeout))\n",
      "/nsls2/conda/envs/2022-3.2-py39-tiled/lib/python3.9/site-packages/epics/ca.py:1522: UserWarning: ca.get('XF:28ID2-ES{QEPro:Spec-1}:LIGHT_SOURCE_COUNT_RBV') timed out after 10.00 seconds.\n",
      "  warnings.warn(msg % (name(chid), timeout))\n",
      "/nsls2/conda/envs/2022-3.2-py39-tiled/lib/python3.9/site-packages/epics/ca.py:1522: UserWarning: ca.get('XF:28ID2-ES{QEPro:Spec-1}:NUM_SPECTRA_RBV') timed out after 10.00 seconds.\n",
      "  warnings.warn(msg % (name(chid), timeout))\n",
      "/nsls2/conda/envs/2022-3.2-py39-tiled/lib/python3.9/site-packages/epics/ca.py:1522: UserWarning: ca.get('XF:28ID2-ES{QEPro:Spec-1}:NUM_SPECTRA') timed out after 10.00 seconds.\n",
      "  warnings.warn(msg % (name(chid), timeout))\n",
      "/nsls2/conda/envs/2022-3.2-py39-tiled/lib/python3.9/site-packages/epics/ca.py:1522: UserWarning: ca.get('XF:28ID2-ES{QEPro:Spec-1}:SPECTRA_COLLECTED_RBV') timed out after 10.00 seconds.\n",
      "  warnings.warn(msg % (name(chid), timeout))\n",
      "/nsls2/conda/envs/2022-3.2-py39-tiled/lib/python3.9/site-packages/epics/ca.py:1522: UserWarning: ca.get('XF:28ID2-ES{QEPro:Spec-1}:INT_MIN_TIME_RBV') timed out after 10.00 seconds.\n",
      "  warnings.warn(msg % (name(chid), timeout))\n"
     ]
    }
   ],
   "source": [
    "class QEProTEC(Device):\n",
    "\n",
    "    # Thermal electric cooler settings\n",
    "    tec = Cpt(SignalWithRBV, 'TEC')\n",
    "    tec_temp = Cpt(SignalWithRBV, 'TEC_TEMP', kind='config')\n",
    "    curr_tec_temp = Cpt(EpicsSignalRO, 'CURR_TEC_TEMP_RBV')\n",
    "\n",
    "    def __init__(self, *args, tolerance=1, **kwargs):\n",
    "        self.tolerance = tolerance\n",
    "        super().__init__(*args, **kwargs)\n",
    "\n",
    "    def set(self, value):\n",
    "\n",
    "        def check_setpoint(value, old_value, **kwargs):\n",
    "            if abs(value - self.tec_temp.get()) < self.tolerance:\n",
    "                print(f'Reached setpoint {self.tec_temp.get()}.')\n",
    "                return True\n",
    "            return False\n",
    "\n",
    "        status = SubscriptionStatus(self.curr_tec_temp, run=False, callback=check_setpoint)\n",
    "        self.tec_temp.put(value)\n",
    "        self.tec.put(1)\n",
    "\n",
    "        return status\n",
    "\n",
    "\n",
    "class QEPro(Device):\n",
    "\n",
    "    # Device information\n",
    "    serial = Cpt(EpicsSignal, 'SERIAL')\n",
    "    model = Cpt(EpicsSignal, 'MODEL')\n",
    "\n",
    "    # Device Status\n",
    "    status = Cpt(EpicsSignal, 'STATUS')\n",
    "    status_msg = Cpt(EpicsSignal, 'STATUS_MSG')\n",
    "    device_connected = Cpt(EpicsSignalRO, 'CONNECTED_RBV')\n",
    "\n",
    "    # Utility signal that periodically checks device temps.\n",
    "    __check_status = Cpt(EpicsSignal, 'CHECK_STATUS')\n",
    "\n",
    "    # Bit array outlining which features are supported by the device\n",
    "    features = Cpt(EpicsSignalRO, 'FEATURES_RBV')\n",
    "    \n",
    "    # Togglable features (if supported)\n",
    "    strobe = Cpt(SignalWithRBV, 'STROBE')\n",
    "    electric_dark_correction = Cpt(SignalWithRBV, 'EDC', kind='config')\n",
    "    non_linearity_correction = Cpt(SignalWithRBV, 'NLC', kind='config')\n",
    "    shutter = Cpt(SignalWithRBV, 'SHUTTER')\n",
    "    \n",
    "    # Thermal electric cooler\n",
    "    tec_device = Cpt(QEProTEC, '')\n",
    "    \n",
    "    # Light source feature signals\n",
    "    light_source = Cpt(SignalWithRBV, 'LIGHT_SOURCE')\n",
    "    light_source_intensity = Cpt(SignalWithRBV, 'LIGHT_SOURCE_INTENSITY')\n",
    "    light_source_count = Cpt(EpicsSignalRO, 'LIGHT_SOURCE_COUNT_RBV')\n",
    "\n",
    "    # Signals for specifying the number of spectra to average and counter for spectra\n",
    "    # collected in current scan\n",
    "    num_spectra = Cpt(SignalWithRBV, 'NUM_SPECTRA', kind='hinted')\n",
    "    spectra_collected = Cpt(EpicsSignalRO, 'SPECTRA_COLLECTED_RBV')\n",
    "\n",
    "    # Integration time settings (in ms)\n",
    "    int_min_time = Cpt(EpicsSignalRO, 'INT_MIN_TIME_RBV')\n",
    "    int_max_time = Cpt(EpicsSignalRO, 'INT_MAX_TIME_RBV')\n",
    "    integration_time = Cpt(SignalWithRBV, 'INTEGRATION_TIME', kind='hinted')\n",
    "    \n",
    "    # Internal buffer feature settings\n",
    "    buff_min_capacity = Cpt(EpicsSignalRO, 'BUFF_MIN_CAPACITY_RBV')\n",
    "    buff_max_capacity = Cpt(EpicsSignalRO, 'BUFF_MAX_CAPACITY_RBV')\n",
    "    buff_capacity = Cpt(SignalWithRBV, 'BUFF_CAPACITY')\n",
    "    buff_element_count = Cpt(EpicsSignalRO, 'BUFF_ELEMENT_COUNT_RBV')\n",
    "\n",
    "    # Formatted Spectra\n",
    "    output = Cpt(EpicsSignal, 'OUTPUT', kind='hinted')\n",
    "    sample = Cpt(EpicsSignal, 'SAMPLE', kind='hinted')\n",
    "    dark = Cpt(EpicsSignal, 'DARK', kind='hinted')\n",
    "    reference = Cpt(EpicsSignal, 'REFERENCE', kind='hinted')\n",
    "    \n",
    "    # Length of spectrum (in pixels)\n",
    "    formatted_spectrum_len = Cpt(EpicsSignalRO, 'FORMATTED_SPECTRUM_LEN_RBV')\n",
    "\n",
    "    # X-axis format and array\n",
    "    x_axis = Cpt(EpicsSignal, 'X_AXIS', kind='hinted')\n",
    "    x_axis_format = Cpt(SignalWithRBV, 'X_AXIS_FORMAT')\n",
    "\n",
    "    # Dark/Ref available signals\n",
    "    dark_available = Cpt(EpicsSignalRO, 'DARK_AVAILABLE_RBV')\n",
    "    ref_available = Cpt(EpicsSignalRO, 'REF_AVAILABLE_RBV')\n",
    "\n",
    "    # Collection settings and start signals.\n",
    "    acquire = Cpt(SignalWithRBV, 'COLLECT')\n",
    "    collect_mode = Cpt(SignalWithRBV, 'COLLECT_MODE', kind='hinted')\n",
    "    spectrum_type = Cpt(SignalWithRBV, 'SPECTRUM_TYPE', kind='hinted')\n",
    "    correction = Cpt(SignalWithRBV, 'CORRECTION', kind='hinted')\n",
    "    trigger_mode = Cpt(SignalWithRBV, 'TRIGGER_MODE')\n",
    "\n",
    "\n",
    "    @property\n",
    "    def has_nlc_feature(self):\n",
    "        return self.features.get() & 32\n",
    "\n",
    "    @property\n",
    "    def has_lightsource_feature(self):\n",
    "        return self.features.get() & 16\n",
    "\n",
    "    @property\n",
    "    def has_edc_feature(self):\n",
    "        return self.features.get() & 8\n",
    "\n",
    "    @property\n",
    "    def has_buffer_feature(self):\n",
    "        return self.features.get() & 4\n",
    "\n",
    "    @property\n",
    "    def has_tec_feature(self):\n",
    "        return self.features.get() & 2\n",
    "\n",
    "    @property\n",
    "    def has_irrad_feature(self):\n",
    "        return self.features.get() & 1\n",
    "\n",
    "\n",
    "    def set_temp(self, temperature):\n",
    "        self.tec_device.set(temperature).wait()\n",
    "\n",
    "\n",
    "    def get_dark_frame(self):\n",
    "\n",
    "        current_spectrum = self.spectrum_type.get()\n",
    "        self.spectrum_type.put('Dark')\n",
    "        self.acquire.put(1, wait=True)\n",
    "        time.sleep(1)\n",
    "        self.spectrum_type.put(current_spectrum)\n",
    "    \n",
    "    def get_reference_frame(self):\n",
    "\n",
    "        current_spectrum = self.spectrum_type.get()\n",
    "        self.spectrum_type.put('Reference')\n",
    "        self.acquire.put(1, wait=True)\n",
    "        time.sleep(1)\n",
    "        self.spectrum_type.put(current_spectrum)\n",
    "\n",
    "\n",
    "    def setup_collection(self, integration_time=100, num_spectra_to_average=10, \n",
    "                         spectrum_type='Absorbtion', correction_type='Reference', \n",
    "                         electric_dark_correction=True):\n",
    "        \n",
    "        # For absorbance: spectrum_type='Absorbtion', correction_type='Reference'\n",
    "        # For fluorescence: spectrum_type='Corrected Sample', correction_type='Dark'\n",
    "        \n",
    "        self.integration_time.put(integration_time)\n",
    "        self.num_spectra.put(num_spectra_to_average)\n",
    "        if num_spectra_to_average > 1:\n",
    "            self.collect_mode.put('Average')\n",
    "        else:\n",
    "            self.collect_mode.put('Single')\n",
    "\n",
    "        if electric_dark_correction:\n",
    "            self.electric_dark_correction.put(1)\n",
    "\n",
    "        self.correction.put(correction_type)\n",
    "\n",
    "        self.spectrum_type.put(spectrum_type)\n",
    "\n",
    "\n",
    "    def grab_frame(self):\n",
    "\n",
    "        def is_done(value, old_value, **kwargs):\n",
    "            if old_value == 1 and value ==0:\n",
    "                return True\n",
    "            return False\n",
    "\n",
    "        status = SubscriptionStatus(self.acquire, run=False, callback=is_done)\n",
    "\n",
    "        self.acquire.put(1)\n",
    "        return status\n",
    "\n",
    "    def trigger(self):\n",
    "        #self.grab_frame().wait()\n",
    "        return self.grab_frame()\n",
    "\n",
    "    def write_as_csv(self, write_path):\n",
    "    \n",
    "        print(f'Writing out CSV file to {write_path}...')\n",
    "\n",
    "        with open(write_path, 'w') as fp:\n",
    "            x_axis_data = self.x_axis.get()\n",
    "            output_data = self.output.get()\n",
    "            sample_data = self.sample.get()\n",
    "            dark_data = self.dark.get()\n",
    "            reference_data = self.reference.get()\n",
    "            if self.spectrum_type.get(as_string=True) == 'Absorbtion':\n",
    "                fp.write('Energy,Dark,Reference,Sample,Absorbtion\\n')\n",
    "            else:\n",
    "                fp.write('Energy,Dark,Raw Sample,Corrected Sample\\n')\n",
    "\n",
    "            for i in range(len(output_data)):\n",
    "                if self.spectrum_type.get(as_string=True) == 'Absorbtion':\n",
    "                    fp.write(f'{x_axis_data[i]},{dark_data[i]},{reference_data[i]},{sample_data[i]},{output_data[i]}\\n')\n",
    "                else:\n",
    "                    fp.write(f'{x_axis_data[i]},{dark_data[i]},{sample_data[i]},{output_data[i]}\\n')\n",
    "\n",
    "            print('Done.')\n",
    "\n",
    "    def plot_spectra(self):\n",
    "        x_axis_data = self.x_axis.get()\n",
    "        output_data = self.output.get()\n",
    "\n",
    "        x_axis_label = self.x_axis_format.get(as_string=True)\n",
    "        y_axis_label = self.spectrum_type.get(as_string=True)\n",
    "\n",
    "\n",
    "        plt.plot(x_axis_data, output_data)\n",
    "        plt.xlabel(x_axis_label)\n",
    "        plt.ylabel(y_axis_label)\n",
    "        plt.show()\n",
    "        \n",
    "        \n",
    "    def take_uvvis(self, sample_type='test',\n",
    "                   integration_time=100, num_spectra_to_average=10, \n",
    "                   spectrum_type='Absorbtion', correction_type='Reference',\n",
    "                   electric_dark_correction=True, plot=False,\n",
    "                   csv_path=None, dark=False, reference=False):\n",
    "        \n",
    "        # For absorbance: spectrum_type='Absorbtion', correction_type='Reference'\n",
    "        # For fluorescence: spectrum_type='Corrected Sample', correction_type='Dark'\n",
    "        \n",
    "        self.setup_collection(integration_time=integration_time, num_spectra_to_average=num_spectra_to_average, \n",
    "                              spectrum_type=spectrum_type, correction_type=correction_type, \n",
    "                              electric_dark_correction=electric_dark_correction)\n",
    "        \n",
    "#         if dark == True:            \n",
    "#             yield from LED_off()\n",
    "#             yield from shutter_close()\n",
    "#             self.get_dark_frame()\n",
    "        \n",
    "#         if reference == True:\n",
    "#             yield from LED_off()\n",
    "#             yield from shutter_open()\n",
    "#             self.get_reference_frame()\n",
    "        \n",
    "        if spectrum_type == 'Absorbtion':\n",
    "            yield from LED_off()\n",
    "            yield from shutter_open()       \n",
    "            yield from count([self])\n",
    "            \n",
    "        else:\n",
    "            yield from shutter_close()\n",
    "            yield from LED_on()       \n",
    "            yield from count([self])\n",
    "            \n",
    "        if plot == True:\n",
    "            self.plot_spectra()\n",
    "            \n",
    "        if csv_path != None:\n",
    "            f_out = f'{csv_path}/{sample_type}_{spectrum_type[0:3]}_001.csv'\n",
    "            \n",
    "            i = 2\n",
    "            while f_out in glob.glob(csv_path + '/**.csv'):\n",
    "                f_out = f'{csv_path}/{sample_type}_{spectrum_type[0:3]}_{i:03d}.csv'\n",
    "                i += 1\n",
    "                \n",
    "            self.write_as_csv(f_out)\n",
    "\n",
    "\n",
    "qepro = QEPro('XF:28ID2-ES{QEPro:Spec-1}:', name='QEPro', )\n"
   ]
  },
  {
   "cell_type": "code",
   "execution_count": 23,
   "id": "d4d0dc22-ee29-434d-881f-a0bd8d3768df",
   "metadata": {},
   "outputs": [
    {
     "name": "stdout",
     "output_type": "stream",
     "text": [
      "002\n"
     ]
    }
   ],
   "source": [
    "i=2\n",
    "print(f'{i:03d}')"
   ]
  },
  {
   "cell_type": "code",
   "execution_count": 24,
   "id": "c62044ca-6060-4587-8de0-e86d32acb82f",
   "metadata": {},
   "outputs": [
    {
     "name": "stdout",
     "output_type": "stream",
     "text": [
      "Reached setpoint -5.0.\n"
     ]
    }
   ],
   "source": [
    "qepro.set_temp(-5)"
   ]
  },
  {
   "cell_type": "code",
   "execution_count": 25,
   "id": "abf41940-b6f3-4896-a7ad-0a7d43d114b3",
   "metadata": {
    "tags": []
   },
   "outputs": [],
   "source": [
    "qepro.setup_collection(integration_time=15, num_spectra_to_average=16)"
   ]
  },
  {
   "cell_type": "code",
   "execution_count": 30,
   "id": "7d0a9741-49cc-4088-ab6e-7e04e9be0f06",
   "metadata": {},
   "outputs": [
    {
     "data": {
      "text/plain": [
       "()"
      ]
     },
     "execution_count": 30,
     "metadata": {},
     "output_type": "execute_result"
    }
   ],
   "source": [
    "RE(LED_off())"
   ]
  },
  {
   "cell_type": "code",
   "execution_count": 31,
   "id": "125986d3-f925-4f97-9d23-7adf82326937",
   "metadata": {},
   "outputs": [
    {
     "data": {
      "text/plain": [
       "()"
      ]
     },
     "execution_count": 31,
     "metadata": {},
     "output_type": "execute_result"
    }
   ],
   "source": [
    "RE(shutter_close())"
   ]
  },
  {
   "cell_type": "code",
   "execution_count": 32,
   "id": "a891e39f-b255-4dcb-a8ff-9e73fbb02d54",
   "metadata": {},
   "outputs": [],
   "source": [
    "qepro.get_dark_frame()"
   ]
  },
  {
   "cell_type": "code",
   "execution_count": 33,
   "id": "dce1732b-31e7-4276-bc80-8d464f86e68c",
   "metadata": {},
   "outputs": [
    {
     "data": {
      "text/plain": [
       "()"
      ]
     },
     "execution_count": 33,
     "metadata": {},
     "output_type": "execute_result"
    }
   ],
   "source": [
    "RE(shutter_open())"
   ]
  },
  {
   "cell_type": "code",
   "execution_count": 34,
   "id": "e184fdbd-614f-43bf-a041-1f20cf1375e0",
   "metadata": {
    "tags": []
   },
   "outputs": [],
   "source": [
    "qepro.get_reference_frame()"
   ]
  },
  {
   "cell_type": "code",
   "execution_count": null,
   "id": "4dde52ff-1d7a-4854-a66d-27307ad41524",
   "metadata": {},
   "outputs": [],
   "source": [
    "qepro.trigger()"
   ]
  },
  {
   "cell_type": "code",
   "execution_count": null,
   "id": "fcdce24a-8cb4-4c99-848e-802d5622f964",
   "metadata": {},
   "outputs": [],
   "source": [
    "RE(count([qepro]))"
   ]
  },
  {
   "cell_type": "code",
   "execution_count": null,
   "id": "ab743c93-2cb5-42ea-9a4d-d2659080c945",
   "metadata": {},
   "outputs": [],
   "source": [
    "db[-1].table().columns"
   ]
  },
  {
   "cell_type": "code",
   "execution_count": 40,
   "id": "17c598ef-6f32-4c1f-89ed-401bb4d93080",
   "metadata": {},
   "outputs": [
    {
     "data": {
      "image/png": "[encoded data removed]",
      "text/plain": [
       "<Figure size 432x288 with 1 Axes>"
      ]
     },
     "metadata": {
      "needs_background": "light"
     },
     "output_type": "display_data"
    }
   ],
   "source": [
    "qepro.plot_spectra()"
   ]
  },
  {
   "cell_type": "code",
   "execution_count": null,
   "id": "7d5dc60a-f72e-4a6b-a962-2bfd88f063ea",
   "metadata": {},
   "outputs": [],
   "source": [
    "db[-1].table().QEPro_dark"
   ]
  },
  {
   "cell_type": "code",
   "execution_count": 42,
   "id": "04714a64-450f-4acf-84e8-68f5ed1318c0",
   "metadata": {},
   "outputs": [
    {
     "name": "stdout",
     "output_type": "stream",
     "text": [
      "\n",
      "\n",
      "Transient Scan ID: 4     Time: 2022-10-27 20:29:05\n",
      "Persistent Unique Scan ID: 'e5817bd7-0800-49e2-a686-e5c03e3cce48'\n",
      "\n",
      "\n",
      "Transient Scan ID: 4     Time: 2022-10-27 20:29:05\n",
      "Persistent Unique Scan ID: 'e5817bd7-0800-49e2-a686-e5c03e3cce48'\n",
      "\n",
      "\n",
      "Transient Scan ID: 4     Time: 2022-10-27 20:29:05\n",
      "Persistent Unique Scan ID: 'e5817bd7-0800-49e2-a686-e5c03e3cce48'\n",
      "\n",
      "\n",
      "Transient Scan ID: 4     Time: 2022-10-27 20:29:05\n",
      "Persistent Unique Scan ID: 'e5817bd7-0800-49e2-a686-e5c03e3cce48'\n",
      "QEPro_acquire [In progress. No progress bar available.]                         \n",
      "QEPro_acquire [In progress. No progress bar available.]                         \n",
      "                                                                                \n",
      "New stream: 'primary'\n",
      "+-----------+------------+-------------------+------------------------+--------------------+---------------------+------------------+\n",
      "|   seq_num |       time | QEPro_num_spectra | QEPro_integration_time | QEPro_collect_mode | QEPro_spectrum_type | QEPro_correction |\n",
      "+-----------+------------+-------------------+------------------------+--------------------+---------------------+------------------+\n",
      "New stream: 'primary'\n",
      "+-----------+------------+-------------------+------------------------+--------------------+---------------------+------------------+\n",
      "|   seq_num |       time | QEPro_num_spectra | QEPro_integration_time | QEPro_collect_mode | QEPro_spectrum_type | QEPro_correction |\n",
      "+-----------+------------+-------------------+------------------------+--------------------+---------------------+------------------+\n",
      "New stream: 'primary'\n",
      "+-----------+------------+-------------------+------------------------+--------------------+---------------------+------------------+\n",
      "|   seq_num |       time | QEPro_num_spectra | QEPro_integration_time | QEPro_collect_mode | QEPro_spectrum_type | QEPro_correction |\n",
      "+-----------+------------+-------------------+------------------------+--------------------+---------------------+------------------+\n",
      "New stream: 'primary'\n",
      "+-----------+------------+-------------------+------------------------+--------------------+---------------------+------------------+\n",
      "|   seq_num |       time | QEPro_num_spectra | QEPro_integration_time | QEPro_collect_mode | QEPro_spectrum_type | QEPro_correction |\n",
      "+-----------+------------+-------------------+------------------------+--------------------+---------------------+------------------+\n",
      "|         1 | 20:29:07.9 |                16 |                 15.000 |                  1 |                   3 |                2 |\n",
      "|         1 | 20:29:07.9 |                16 |                 15.000 |                  1 |                   3 |                2 |\n",
      "|         1 | 20:29:07.9 |                16 |                 15.000 |                  1 |                   3 |                2 |\n",
      "|         1 | 20:29:07.9 |                16 |                 15.000 |                  1 |                   3 |                2 |\n",
      "+-----------+------------+-------------------+------------------------+--------------------+---------------------+------------------+\n",
      "generator count ['e5817bd7'] (scan num: 4)\n",
      "\n",
      "\n",
      "\n",
      "+-----------+------------+-------------------+------------------------+--------------------+---------------------+------------------+\n",
      "generator count ['e5817bd7'] (scan num: 4)\n",
      "\n",
      "\n",
      "\n",
      "+-----------+------------+-------------------+------------------------+--------------------+---------------------+------------------+\n",
      "generator count ['e5817bd7'] (scan num: 4)\n",
      "\n",
      "\n",
      "\n",
      "+-----------+------------+-------------------+------------------------+--------------------+---------------------+------------------+\n",
      "generator count ['e5817bd7'] (scan num: 4)\n",
      "\n",
      "\n",
      "\n"
     ]
    },
    {
     "data": {
      "image/png": "[encoded data removed]",
      "text/plain": [
       "<Figure size 432x288 with 1 Axes>"
      ]
     },
     "metadata": {
      "needs_background": "light"
     },
     "output_type": "display_data"
    },
    {
     "name": "stdout",
     "output_type": "stream",
     "text": [
      "Writing out CSV file to /nsls2/users/clin1/Documents/Cheng-Hung/temp/20221027_qepro/rhodamine_15ms_Abs_004.csv...\n",
      "Done.\n"
     ]
    },
    {
     "data": {
      "text/plain": [
       "('e5817bd7-0800-49e2-a686-e5c03e3cce48',)"
      ]
     },
     "execution_count": 42,
     "metadata": {},
     "output_type": "execute_result"
    }
   ],
   "source": [
    "RE(qepro.take_uvvis(sample_type=f, integration_time=15, num_spectra_to_average=16, csv_path=path, plot=True))"
   ]
  },
  {
   "cell_type": "code",
   "execution_count": 47,
   "id": "ebe3c8b9-5ebf-43d7-8a42-06902525fa93",
   "metadata": {},
   "outputs": [
    {
     "name": "stdout",
     "output_type": "stream",
     "text": [
      "\n",
      "\n",
      "Transient Scan ID: 9     Time: 2022-10-27 20:30:37\n",
      "Persistent Unique Scan ID: '958fed6b-5c16-47e8-ab92-049b6af24a81'\n",
      "\n",
      "\n",
      "Transient Scan ID: 9     Time: 2022-10-27 20:30:37\n",
      "Persistent Unique Scan ID: '958fed6b-5c16-47e8-ab92-049b6af24a81'\n",
      "\n",
      "\n",
      "Transient Scan ID: 9     Time: 2022-10-27 20:30:37\n",
      "Persistent Unique Scan ID: '958fed6b-5c16-47e8-ab92-049b6af24a81'\n",
      "\n",
      "\n",
      "Transient Scan ID: 9     Time: 2022-10-27 20:30:37\n",
      "Persistent Unique Scan ID: '958fed6b-5c16-47e8-ab92-049b6af24a81'\n",
      "QEPro_acquire [In progress. No progress bar available.]                         \n",
      "QEPro_acquire [In progress. No progress bar available.]                         \n",
      "                                                                                \n",
      "New stream: 'primary'\n",
      "+-----------+------------+-------------------+------------------------+--------------------+---------------------+------------------+\n",
      "|   seq_num |       time | QEPro_num_spectra | QEPro_integration_time | QEPro_collect_mode | QEPro_spectrum_type | QEPro_correction |\n",
      "+-----------+------------+-------------------+------------------------+--------------------+---------------------+------------------+\n",
      "New stream: 'primary'\n",
      "+-----------+------------+-------------------+------------------------+--------------------+---------------------+------------------+\n",
      "|   seq_num |       time | QEPro_num_spectra | QEPro_integration_time | QEPro_collect_mode | QEPro_spectrum_type | QEPro_correction |\n",
      "+-----------+------------+-------------------+------------------------+--------------------+---------------------+------------------+\n",
      "New stream: 'primary'\n",
      "+-----------+------------+-------------------+------------------------+--------------------+---------------------+------------------+\n",
      "|   seq_num |       time | QEPro_num_spectra | QEPro_integration_time | QEPro_collect_mode | QEPro_spectrum_type | QEPro_correction |\n",
      "+-----------+------------+-------------------+------------------------+--------------------+---------------------+------------------+\n",
      "New stream: 'primary'\n",
      "+-----------+------------+-------------------+------------------------+--------------------+---------------------+------------------+\n",
      "|   seq_num |       time | QEPro_num_spectra | QEPro_integration_time | QEPro_collect_mode | QEPro_spectrum_type | QEPro_correction |\n",
      "+-----------+------------+-------------------+------------------------+--------------------+---------------------+------------------+\n",
      "|         1 | 20:30:39.5 |                16 |                 15.000 |                  1 |                   2 |                1 |\n",
      "|         1 | 20:30:39.5 |                16 |                 15.000 |                  1 |                   2 |                1 |\n",
      "|         1 | 20:30:39.5 |                16 |                 15.000 |                  1 |                   2 |                1 |\n",
      "|         1 | 20:30:39.5 |                16 |                 15.000 |                  1 |                   2 |                1 |\n",
      "+-----------+------------+-------------------+------------------------+--------------------+---------------------+------------------+\n",
      "generator count ['958fed6b'] (scan num: 9)\n",
      "\n",
      "\n",
      "\n",
      "+-----------+------------+-------------------+------------------------+--------------------+---------------------+------------------+\n",
      "generator count ['958fed6b'] (scan num: 9)\n",
      "\n",
      "\n",
      "\n",
      "+-----------+------------+-------------------+------------------------+--------------------+---------------------+------------------+\n",
      "generator count ['958fed6b'] (scan num: 9)\n",
      "\n",
      "\n",
      "\n",
      "+-----------+------------+-------------------+------------------------+--------------------+---------------------+------------------+\n",
      "generator count ['958fed6b'] (scan num: 9)\n",
      "\n",
      "\n",
      "\n"
     ]
    },
    {
     "data": {
      "image/png": "[encoded data removed]",
      "text/plain": [
       "<Figure size 432x288 with 1 Axes>"
      ]
     },
     "metadata": {
      "needs_background": "light"
     },
     "output_type": "display_data"
    },
    {
     "name": "stdout",
     "output_type": "stream",
     "text": [
      "Writing out CSV file to /nsls2/users/clin1/Documents/Cheng-Hung/temp/20221027_qepro/rhodamine_15ms_Cor_004.csv...\n",
      "Done.\n"
     ]
    },
    {
     "data": {
      "text/plain": [
       "('958fed6b-5c16-47e8-ab92-049b6af24a81',)"
      ]
     },
     "execution_count": 47,
     "metadata": {},
     "output_type": "execute_result"
    }
   ],
   "source": [
    "RE(qepro.take_uvvis(sample_type=f, integration_time=15, num_spectra_to_average=16, csv_path=path, plot=True, spectrum_type='Corrected Sample', correction_type='Dark'))"
   ]
  },
  {
   "cell_type": "code",
   "execution_count": 36,
   "id": "3d7992b0-c3ce-4c17-960d-c56c65c71d93",
   "metadata": {},
   "outputs": [],
   "source": [
    "path = '/nsls2/users/clin1/Documents/Cheng-Hung/temp/20221027_qepro'\n",
    "f = 'rhodamine_15ms'"
   ]
  },
  {
   "cell_type": "code",
   "execution_count": null,
   "id": "1b88bc0c-baeb-49e9-9cd7-1e5fe0bfccfa",
   "metadata": {},
   "outputs": [],
   "source": []
  }
 ],
 "metadata": {
  "kernelspec": {
   "display_name": "Python 3 (ipykernel)",
   "language": "python",
   "name": "python3"
  },
  "language_info": {
   "codemirror_mode": {
    "name": "ipython",
    "version": 3
   },
   "file_extension": ".py",
   "mimetype": "text/x-python",
   "name": "python",
   "nbconvert_exporter": "python",
   "pygments_lexer": "ipython3",
   "version": "3.9.13"
  }
 },
 "nbformat": 4,
 "nbformat_minor": 5
}
