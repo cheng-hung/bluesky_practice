{
 "cells": [
  {
   "cell_type": "code",
   "execution_count": 1,
   "id": "64934e05-23ec-4c22-8f97-fd4420b0888e",
   "metadata": {},
   "outputs": [],
   "source": [
    "from ophyd import Device, EpicsMotor, EpicsSignal, EpicsSignalRO\n",
    "from ophyd import Component as Cpt\n",
    "from ophyd.utils import set_and_wait"
   ]
  },
  {
   "cell_type": "code",
   "execution_count": null,
   "id": "2f66ca66-475f-41c3-a9ef-04e8a5fea1fa",
   "metadata": {},
   "outputs": [],
   "source": [
    "class syrng_ultra(Device):\n",
    "    status = Cpt(EpicsSignalRO, 'STATUS')\n",
    "    \n",
    "    communication = Cpt(EpicsSignal, 'DISABLE')\n",
    "    # 1: DISABLE\n",
    "    # 0: Enable\n",
    "    \n",
    "    update_pump = Cpt(EpicsSignal, 'UPDATE.SCAN')\n",
    "    # 0: Passive\n",
    "    # 1: Event\n",
    "    # 2: I/O Intr\n",
    "    # 3: 10 second\n",
    "    # 4: 5 second\n",
    "    # 5: 2 second\n",
    "    # 6: 1 second\n",
    "    # 7: .5 second\n",
    "    # 8: .2 second\n",
    "    # 9: .1 second\n",
    "    \n",
    "    pump_infuse = Cpt(EpicsSignal, 'IRUN')\n",
    "    pump_withdraw = Cpt(EpicsSignal, 'WRUN')\n",
    "    pump_stop = Cpt(EpicsSignal, 'STOP')\n",
    "\n",
    "\n",
    "'''\n",
    "class Syringepump(Device):\n",
    "    rate = Cpt(EpicsSignal, 'A')\n",
    "    pump = Cpt(EpicsSignal, 'B')\n",
    "    pump_on = 1\n",
    "    pump_off = 0\n",
    "\n",
    "ultra1_p1 = Syringepump('simple:ultra:', name='ultra1_p1')\n",
    "# ultra1_p2 = Syringepump('simple:ultra:', name='ultra1_p2')\n",
    "\n",
    "dds1_p1 = Syringepump('simple:dds:', name='dds1_p1')\n",
    "dds1_p2 = Syringepump('simple:dds:', name='dds1_p2')\n",
    "\n",
    "\n",
    "# ultra2_p1 = Syringepump('simple:ultra:', name='ultra2_p1')\n",
    "# ultra2_p2 = Syringepump('simple:ultra:', name='ultra2_p2')\n",
    "\n",
    "# dds2_p1 = Syringepump('simple:dds:', name='dds2_p1')\n",
    "# dds2_p2 = Syringepump('simple:dds:', name='dds2_p2')\n",
    "'''"
   ]
  },
  {
   "cell_type": "code",
   "execution_count": null,
   "id": "633048e7-0783-41d3-99bc-e55f6d07ce8a",
   "metadata": {},
   "outputs": [],
   "source": [
    "ultra1 = syrng_ultra('XF:28IDC-ES:1{Pump:Syrng-Ultra:1}:', name='Pump_Ultra1', read_attrs=['status'])"
   ]
  }
 ],
 "metadata": {
  "kernelspec": {
   "display_name": "Python 3 (ipykernel)",
   "language": "python",
   "name": "python3"
  },
  "language_info": {
   "codemirror_mode": {
    "name": "ipython",
    "version": 3
   },
   "file_extension": ".py",
   "mimetype": "text/x-python",
   "name": "python",
   "nbconvert_exporter": "python",
   "pygments_lexer": "ipython3",
   "version": "3.7.11"
  }
 },
 "nbformat": 4,
 "nbformat_minor": 5
}
