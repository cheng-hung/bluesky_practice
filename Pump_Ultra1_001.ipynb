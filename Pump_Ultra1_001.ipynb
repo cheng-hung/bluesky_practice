{
 "cells": [
  {
   "cell_type": "code",
   "execution_count": 1,
   "id": "64934e05-23ec-4c22-8f97-fd4420b0888e",
   "metadata": {},
   "outputs": [],
   "source": [
    "from ophyd import Device, EpicsMotor, EpicsSignal, EpicsSignalRO\n",
    "from ophyd import Component as Cpt\n",
    "from ophyd.utils import set_and_wait"
   ]
  },
  {
   "cell_type": "code",
   "execution_count": 87,
   "id": "2f66ca66-475f-41c3-a9ef-04e8a5fea1fa",
   "metadata": {},
   "outputs": [
    {
     "data": {
      "text/plain": [
       "\"\\nclass Syringepump(Device):\\n    rate = Cpt(EpicsSignal, 'A')\\n    pump = Cpt(EpicsSignal, 'B')\\n    pump_on = 1\\n    pump_off = 0\\n\\nultra1_p1 = Syringepump('simple:ultra:', name='ultra1_p1')\\n# ultra1_p2 = Syringepump('simple:ultra:', name='ultra1_p2')\\n\\ndds1_p1 = Syringepump('simple:dds:', name='dds1_p1')\\ndds1_p2 = Syringepump('simple:dds:', name='dds1_p2')\\n\\n\\n# ultra2_p1 = Syringepump('simple:ultra:', name='ultra2_p1')\\n# ultra2_p2 = Syringepump('simple:ultra:', name='ultra2_p2')\\n\\n# dds2_p1 = Syringepump('simple:dds:', name='dds2_p1')\\n# dds2_p2 = Syringepump('simple:dds:', name='dds2_p2')\\n\""
      ]
     },
     "execution_count": 87,
     "metadata": {},
     "output_type": "execute_result"
    }
   ],
   "source": [
    "class syrng_ultra(Device):\n",
    "    status = Cpt(EpicsSignalRO, 'STATUS', string=True)\n",
    "    # 0: Idle\n",
    "    # 1: Infusing\n",
    "    # 2: Withdrawing\n",
    "    # 4: Target Reached\n",
    "    \n",
    "    communication = Cpt(EpicsSignal, 'DISABLE', string=True)\n",
    "    # 1: DISABLE\n",
    "    # 0: Enable\n",
    "    \n",
    "    update_pump = Cpt(EpicsSignal, 'UPDATE.SCAN', string=True)\n",
    "    # 0: Passive\n",
    "    # 1: Event\n",
    "    # 2: I/O Intr\n",
    "    # 3: 10 second\n",
    "    # 4: 5 second\n",
    "    # 5: 2 second\n",
    "    # 6: 1 second\n",
    "    # 7: .5 second\n",
    "    # 8: .2 second\n",
    "    # 9: .1 second\n",
    "    \n",
    "    pump_infuse = Cpt(EpicsSignal, 'IRUN', string=True)\n",
    "    pump_withdraw = Cpt(EpicsSignal, 'WRUN', string=True)\n",
    "    pump_stop = Cpt(EpicsSignal, 'STOP', string=True)\n",
    "    \n",
    "    \n",
    "    target_vol = Cpt(EpicsSignal, 'TVOLUME')\n",
    "    target_vol_unit = Cpt(EpicsSignal, 'TVOLUMEUNITS', string=True)\n",
    "    read_target_vol = Cpt(EpicsSignalRO, 'TVOLUME:RBV', string=True)\n",
    "    read_target_vol_unit = Cpt(EpicsSignalRO, 'TVOLUMEUNITS:RBV', string=True)\n",
    "    \n",
    "    clear_infused = Cpt(EpicsSignal, 'CLEARINFUSED', string=True)\n",
    "    clear_withdrawn = Cpt(EpicsSignal, 'CLEARWITHDRAWN', string=True)\n",
    "    \n",
    "    read_infused = Cpt(EpicsSignalRO, 'IVOLUME:RBV', string=True)\n",
    "    read_withdrawn = Cpt(EpicsSignalRO, 'WVOLUME:RBV', string=True)\n",
    "    read_infused_unit = Cpt(EpicsSignalRO, 'TVOLUMEUNITS:RBV', string=True)\n",
    "    read_withdrawn_unit = Cpt(EpicsSignalRO, 'WVOLUMEUNITS:RBV', string=True)\n",
    "\n",
    "\n",
    "'''\n",
    "class Syringepump(Device):\n",
    "    rate = Cpt(EpicsSignal, 'A')\n",
    "    pump = Cpt(EpicsSignal, 'B')\n",
    "    pump_on = 1\n",
    "    pump_off = 0\n",
    "\n",
    "ultra1_p1 = Syringepump('simple:ultra:', name='ultra1_p1')\n",
    "# ultra1_p2 = Syringepump('simple:ultra:', name='ultra1_p2')\n",
    "\n",
    "dds1_p1 = Syringepump('simple:dds:', name='dds1_p1')\n",
    "dds1_p2 = Syringepump('simple:dds:', name='dds1_p2')\n",
    "\n",
    "\n",
    "# ultra2_p1 = Syringepump('simple:ultra:', name='ultra2_p1')\n",
    "# ultra2_p2 = Syringepump('simple:ultra:', name='ultra2_p2')\n",
    "\n",
    "# dds2_p1 = Syringepump('simple:dds:', name='dds2_p1')\n",
    "# dds2_p2 = Syringepump('simple:dds:', name='dds2_p2')\n",
    "'''"
   ]
  },
  {
   "cell_type": "code",
   "execution_count": 88,
   "id": "633048e7-0783-41d3-99bc-e55f6d07ce8a",
   "metadata": {},
   "outputs": [],
   "source": [
    "ultra1 = syrng_ultra('XF:28IDC-ES:1{Pump:Syrng-Ultra:1}:', name='Pump_Ultra1', \n",
    "                     read_attrs=['status', 'communication', 'update_pump', 'read_target_vol', 'read_target_vol_unit',\n",
    "                                 'read_infused', 'read_infused_unit', 'read_withdrawn', 'read_withdrawn_unit'])"
   ]
  },
  {
   "cell_type": "code",
   "execution_count": 89,
   "id": "01b6ccee-8885-4d85-a071-e794b4f5e2af",
   "metadata": {},
   "outputs": [
    {
     "data": {
      "text/plain": [
       "'Pump_Ultra1'"
      ]
     },
     "execution_count": 89,
     "metadata": {},
     "output_type": "execute_result"
    }
   ],
   "source": [
    "ultra1.name"
   ]
  },
  {
   "cell_type": "code",
   "execution_count": 108,
   "id": "552f684f-c029-47d3-8fe3-e1c4da263856",
   "metadata": {},
   "outputs": [
    {
     "data": {
      "text/plain": [
       "OrderedDict([('Pump_Ultra1_status',\n",
       "              {'value': 'Withdrawing', 'timestamp': 1661470260.988056}),\n",
       "             ('Pump_Ultra1_communication',\n",
       "              {'value': 'Enabled', 'timestamp': 1661462888.146174}),\n",
       "             ('Pump_Ultra1_update_pump',\n",
       "              {'value': 'Event', 'timestamp': 1660256292.593106}),\n",
       "             ('Pump_Ultra1_read_target_vol',\n",
       "              {'value': '5', 'timestamp': 1661470236.389542}),\n",
       "             ('Pump_Ultra1_read_target_vol_unit',\n",
       "              {'value': 'ul', 'timestamp': 1661470236.389514}),\n",
       "             ('Pump_Ultra1_read_infused',\n",
       "              {'value': '0', 'timestamp': 1660256292.621434}),\n",
       "             ('Pump_Ultra1_read_withdrawn',\n",
       "              {'value': '0', 'timestamp': 1660256292.626348}),\n",
       "             ('Pump_Ultra1_read_infused_unit',\n",
       "              {'value': 'ul', 'timestamp': 1661470236.389514}),\n",
       "             ('Pump_Ultra1_read_withdrawn_unit',\n",
       "              {'value': 'ul', 'timestamp': 1660256292.62634})])"
      ]
     },
     "execution_count": 108,
     "metadata": {},
     "output_type": "execute_result"
    }
   ],
   "source": [
    "ultra1.read()"
   ]
  },
  {
   "cell_type": "code",
   "execution_count": 79,
   "id": "d9adf378-c728-47ee-be16-faa53e7bd304",
   "metadata": {},
   "outputs": [],
   "source": [
    "from bluesky import RunEngine\n",
    "import bluesky.plan_stubs as bps\n",
    "RE = RunEngine({})"
   ]
  },
  {
   "cell_type": "code",
   "execution_count": 106,
   "id": "18187854-6837-4f39-a8bf-357809d89763",
   "metadata": {},
   "outputs": [
    {
     "data": {
      "text/plain": [
       "()"
      ]
     },
     "execution_count": 106,
     "metadata": {},
     "output_type": "execute_result"
    }
   ],
   "source": [
    "RE(bps.abs_set(ultra1.pump_withdraw, 1))"
   ]
  },
  {
   "cell_type": "code",
   "execution_count": 109,
   "id": "a5501c2f-5727-4914-b872-0db293864a15",
   "metadata": {},
   "outputs": [
    {
     "data": {
      "text/plain": [
       "()"
      ]
     },
     "execution_count": 109,
     "metadata": {},
     "output_type": "execute_result"
    }
   ],
   "source": [
    "RE(bps.abs_set(ultra1.pump_stop, 1))"
   ]
  },
  {
   "cell_type": "code",
   "execution_count": 112,
   "id": "b2227def-a78a-4cb0-a0e8-9e7b26220141",
   "metadata": {},
   "outputs": [
    {
     "data": {
      "text/plain": [
       "()"
      ]
     },
     "execution_count": 112,
     "metadata": {},
     "output_type": "execute_result"
    }
   ],
   "source": [
    "RE(bps.abs_set(ultra1.clear_withdrawn, 1))"
   ]
  },
  {
   "cell_type": "code",
   "execution_count": 148,
   "id": "94cecefa-594e-4f0a-85ec-66faf348828c",
   "metadata": {},
   "outputs": [
    {
     "data": {
      "text/plain": [
       "{'Pump_Ultra1_read_target_vol_unit': {'value': 'ml',\n",
       "  'timestamp': 1661470893.351323}}"
      ]
     },
     "execution_count": 148,
     "metadata": {},
     "output_type": "execute_result"
    }
   ],
   "source": [
    "RE(bps.abs_set(ultra1.target_vol_unit, 'ul'))\n",
    "RE(bps.abs_set(ultra1.target_vol, 5))\n",
    "#RE(bps.abs_set(ultra1.target_vol_unit, 'ml'))\n",
    "#ultra1.read_target_vol.read()\n",
    "ultra1.read_target_vol_unit.read()\n",
    "#RE(bps.read(ultra1))"
   ]
  },
  {
   "cell_type": "code",
   "execution_count": null,
   "id": "1d12ffb3-05a0-445f-a892-951f81311008",
   "metadata": {},
   "outputs": [],
   "source": []
  },
  {
   "cell_type": "code",
   "execution_count": null,
   "id": "daf2b1d1-9305-4037-b979-561ccd8d3685",
   "metadata": {},
   "outputs": [],
   "source": []
  }
 ],
 "metadata": {
  "kernelspec": {
   "display_name": "Python 3 (ipykernel)",
   "language": "python",
   "name": "python3"
  },
  "language_info": {
   "codemirror_mode": {
    "name": "ipython",
    "version": 3
   },
   "file_extension": ".py",
   "mimetype": "text/x-python",
   "name": "python",
   "nbconvert_exporter": "python",
   "pygments_lexer": "ipython3",
   "version": "3.7.12"
  }
 },
 "nbformat": 4,
 "nbformat_minor": 5
}
