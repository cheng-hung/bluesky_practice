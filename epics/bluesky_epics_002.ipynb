{
 "cells": [
  {
   "cell_type": "markdown",
   "id": "c48f9d54",
   "metadata": {},
   "source": [
    "# 1. Preparation before running plans... "
   ]
  },
  {
   "cell_type": "markdown",
   "id": "2ab70fdc",
   "metadata": {},
   "source": [
    "## 1.1. Import Numpy and Matplotlib"
   ]
  },
  {
   "cell_type": "code",
   "execution_count": 1,
   "id": "871b764d",
   "metadata": {},
   "outputs": [],
   "source": [
    "import numpy as np\n",
    "import matplotlib.pyplot as plt\n",
    "%matplotlib notebook"
   ]
  },
  {
   "cell_type": "markdown",
   "id": "f0c24414",
   "metadata": {},
   "source": [
    "## 1.2. Create a RunEngine:"
   ]
  },
  {
   "cell_type": "code",
   "execution_count": 2,
   "id": "39f0e049",
   "metadata": {},
   "outputs": [],
   "source": [
    "from bluesky import RunEngine\n",
    "RE = RunEngine({})"
   ]
  },
  {
   "cell_type": "markdown",
   "id": "f577bd78",
   "metadata": {},
   "source": [
    "## 1.3. Prepare Live Visualization¶"
   ]
  },
  {
   "cell_type": "code",
   "execution_count": 3,
   "id": "53a23049",
   "metadata": {},
   "outputs": [],
   "source": [
    "from bluesky.callbacks.best_effort import BestEffortCallback\n",
    "bec = BestEffortCallback()\n",
    "\n",
    "# Send all metadata/data captured to the BestEffortCallback.\n",
    "RE.subscribe(bec)\n",
    "\n",
    "# Make plots update live while scans run.\n",
    "from bluesky.utils import install_kicker\n",
    "install_kicker()"
   ]
  },
  {
   "cell_type": "markdown",
   "id": "db5b1c18",
   "metadata": {},
   "source": [
    "## 1.4. Prepare Data Storage"
   ]
  },
  {
   "cell_type": "code",
   "execution_count": 4,
   "id": "f7f6a0e0",
   "metadata": {},
   "outputs": [
    {
     "data": {
      "text/plain": [
       "1"
      ]
     },
     "execution_count": 4,
     "metadata": {},
     "output_type": "execute_result"
    }
   ],
   "source": [
    "from databroker import Broker\n",
    "db = Broker.named('temp')\n",
    "\n",
    "# Insert all metadata/data captured into db.\n",
    "RE.subscribe(db.insert)"
   ]
  },
  {
   "cell_type": "markdown",
   "id": "cb3b4a4b",
   "metadata": {},
   "source": [
    "##### This example makes a temporary database. Do not use it for important data. The data will become difficult to access once Python exits or the variable db is deleted. Running Broker.named('temp') a second time creates a fresh, separate temporary database."
   ]
  },
  {
   "cell_type": "markdown",
   "id": "af8a3ba0",
   "metadata": {},
   "source": [
    "## 1.5. Add a Progress Bar"
   ]
  },
  {
   "cell_type": "code",
   "execution_count": 5,
   "id": "eb957b27",
   "metadata": {},
   "outputs": [],
   "source": [
    "from bluesky.utils import ProgressBarManager\n",
    "RE.waiting_hook = ProgressBarManager()"
   ]
  },
  {
   "cell_type": "markdown",
   "id": "e00a7aa0-a0f6-4502-8a59-b2f41d351ffb",
   "metadata": {},
   "source": [
    "# 2. Flow Experiment Plan"
   ]
  },
  {
   "cell_type": "code",
   "execution_count": 6,
   "id": "bb04e333-fa27-4dc9-bf1a-d6926edb606e",
   "metadata": {},
   "outputs": [],
   "source": [
    "from ophyd import Component as Cpt, Device, EpicsMotor, EpicsSignal, EpicsSignalRO"
   ]
  },
  {
   "cell_type": "markdown",
   "id": "a4a2254f-6a58-44b5-b318-9e3f47b0aa69",
   "metadata": {},
   "source": [
    "Use simpleIOC in caproto as simulated EPICS\n",
    "\n",
    "$ python -m caproto.ioc_examples.simple --prefix=\"simple:ultra:\" --list-pvs\n",
    "\n",
    "$ python -m caproto.ioc_examples.simple --prefix=\"simple:dds:\" --list-pvs"
   ]
  },
  {
   "cell_type": "code",
   "execution_count": 7,
   "id": "bbd0e897-b1c3-42c6-b4eb-7d73959ea131",
   "metadata": {},
   "outputs": [],
   "source": [
    "### Two phdultra, two pump33dds  ==>  Each has tow syringe pumps. ==> Totla eight pumps.\n",
    "# PVs = {'ultra1_A' : 'simple:A',\n",
    "#        'ultra1_B' : 'simple:B',\n",
    "#        'ultra2_A' : 'TBD',\n",
    "#        'ultra2_B' : 'TBD',\n",
    "#        'dds1_A' : 'TBD',\n",
    "#        'dds1_B' : 'TBD',\n",
    "#        'dds2_A' : 'TBD',\n",
    "#        'dds2_B' : 'TBD',\n",
    "#       }"
   ]
  },
  {
   "cell_type": "code",
   "execution_count": 8,
   "id": "69a6099f-3a74-4afe-8c77-1c644ad9ef60",
   "metadata": {},
   "outputs": [],
   "source": [
    "# PV_list = list(PVs.keys())\n",
    "# print(PV_list)"
   ]
  },
  {
   "cell_type": "code",
   "execution_count": 21,
   "id": "24fb8b95-e1b9-45f5-9211-0a6de93631e2",
   "metadata": {},
   "outputs": [],
   "source": [
    "class ultra_dds(Device):\n",
    "    rate = Cpt(EpicsSignal, 'A')\n",
    "    pump = Cpt(EpicsSignal, 'B')\n",
    "\n",
    "ultra1 = ultra_dds('simple:ultra:', name='ultra1')\n",
    "dds1 = ultra_dds('simple:dds:', name='dds1')\n",
    "\n",
    "\n",
    "\n",
    "# class ultra_dds(Device):\n",
    "#     A = Cpt(EpicsSignal, 'A')\n",
    "#     B = Cpt(EpicsSignal, 'B')\n",
    "\n",
    "# class ultra2(Device):\n",
    "#     A = Cpt(EpicsSignal, PV_list[2])\n",
    "#     B = Cpt(EpicsSignal, PV_list[3])\n",
    "\n",
    "# class dds1(Device):\n",
    "#     A = Cpt(EpicsSignal, PV_list[4])\n",
    "#     B = Cpt(EpicsSignal, PV_list[5])\n",
    "    \n",
    "# class dds2(Device):\n",
    "#     A = Cpt(EpicsSignal, PV_list[6])\n",
    "#     B = Cpt(EpicsSignal, PV_list[7])"
   ]
  },
  {
   "cell_type": "code",
   "execution_count": 22,
   "id": "f7bf79a7-93ac-428b-b548-726c1a16ad36",
   "metadata": {},
   "outputs": [],
   "source": [
    "ultra1.wait_for_connection()\n",
    "dds1.wait_for_connection()"
   ]
  },
  {
   "cell_type": "code",
   "execution_count": 23,
   "id": "a98ad24d-04e4-498c-99b2-5d7e4f6dc5d2",
   "metadata": {},
   "outputs": [
    {
     "data": {
      "text/plain": [
       "1"
      ]
     },
     "execution_count": 23,
     "metadata": {},
     "output_type": "execute_result"
    }
   ],
   "source": [
    "from bluesky import RunEngine\n",
    "from bluesky.callbacks import LiveTable\n",
    "\n",
    "RE = RunEngine()\n",
    "token = RE.subscribe(LiveTable([\"ultra1_A\", \"ultra1_B\", \"dds1_A\", \"dds1_B\"]))\n",
    "\n",
    "# Insert all metadata/data captured into db.\n",
    "RE.subscribe(db.insert)"
   ]
  },
  {
   "cell_type": "code",
   "execution_count": 16,
   "id": "f220be5b-7380-4d28-b8b7-da93f4d4c566",
   "metadata": {},
   "outputs": [
    {
     "name": "stdout",
     "output_type": "stream",
     "text": [
      "\n",
      "\n",
      "+-----------+------------+------------+\n",
      "|   seq_num |       time |     dds1_B |\n",
      "+-----------+------------+------------+\n",
      "|         1 | 17:29:09.4 |          2 |\n",
      "|         2 | 17:29:10.4 |          2 |\n",
      "|         3 | 17:29:11.4 |          2 |\n",
      "+-----------+------------+------------+\n",
      "generator count ['265731d3'] (scan num: 1)\n",
      "\n",
      "\n"
     ]
    },
    {
     "data": {
      "text/plain": [
       "('265731d3-2eda-4473-86a6-bd2c4d060ddd',)"
      ]
     },
     "execution_count": 16,
     "metadata": {},
     "output_type": "execute_result"
    }
   ],
   "source": [
    "from bluesky.plans import count\n",
    "\n",
    "RE(count([dds1.B], num=3, delay=1))"
   ]
  },
  {
   "cell_type": "code",
   "execution_count": 20,
   "id": "c5bc34d4-a382-4535-ab49-b322aaaf73a5",
   "metadata": {},
   "outputs": [
    {
     "data": {
      "text/plain": [
       "OrderedDict([('ultra1_A', {'value': 5, 'timestamp': 1645049307.503526}),\n",
       "             ('ultra1_B', {'value': 2.0, 'timestamp': 1645048040.024462})])"
      ]
     },
     "execution_count": 20,
     "metadata": {},
     "output_type": "execute_result"
    }
   ],
   "source": [
    "ultra1.read()"
   ]
  },
  {
   "cell_type": "code",
   "execution_count": null,
   "id": "3b6af225-4c41-403e-9f18-8a24da332c6f",
   "metadata": {},
   "outputs": [],
   "source": [
    "dds1.read()"
   ]
  },
  {
   "cell_type": "code",
   "execution_count": null,
   "id": "5af622aa-c178-4c1f-9ad6-94641395d439",
   "metadata": {},
   "outputs": [],
   "source": [
    "ultra1.A.set(5).wait(timeout=1)"
   ]
  },
  {
   "cell_type": "code",
   "execution_count": null,
   "id": "57850c5c-b486-4768-bae5-c414eb4f0975",
   "metadata": {},
   "outputs": [],
   "source": [
    "RE(count([ultra1.A], num=3, delay=1))"
   ]
  },
  {
   "cell_type": "code",
   "execution_count": 17,
   "id": "2222ce3a-731f-4cc4-b9ad-4083ee5c674b",
   "metadata": {},
   "outputs": [
    {
     "data": {
      "text/html": [
       "<div>\n",
       "<style scoped>\n",
       "    .dataframe tbody tr th:only-of-type {\n",
       "        vertical-align: middle;\n",
       "    }\n",
       "\n",
       "    .dataframe tbody tr th {\n",
       "        vertical-align: top;\n",
       "    }\n",
       "\n",
       "    .dataframe thead th {\n",
       "        text-align: right;\n",
       "    }\n",
       "</style>\n",
       "<table border=\"1\" class=\"dataframe\">\n",
       "  <thead>\n",
       "    <tr style=\"text-align: right;\">\n",
       "      <th></th>\n",
       "      <th>time</th>\n",
       "      <th>dds1_B</th>\n",
       "    </tr>\n",
       "    <tr>\n",
       "      <th>seq_num</th>\n",
       "      <th></th>\n",
       "      <th></th>\n",
       "    </tr>\n",
       "  </thead>\n",
       "  <tbody>\n",
       "    <tr>\n",
       "      <th>1</th>\n",
       "      <td>2022-02-16 22:29:09.456007957</td>\n",
       "      <td>2.0</td>\n",
       "    </tr>\n",
       "    <tr>\n",
       "      <th>2</th>\n",
       "      <td>2022-02-16 22:29:10.449524879</td>\n",
       "      <td>2.0</td>\n",
       "    </tr>\n",
       "    <tr>\n",
       "      <th>3</th>\n",
       "      <td>2022-02-16 22:29:11.450499058</td>\n",
       "      <td>2.0</td>\n",
       "    </tr>\n",
       "  </tbody>\n",
       "</table>\n",
       "</div>"
      ],
      "text/plain": [
       "                                 time  dds1_B\n",
       "seq_num                                      \n",
       "1       2022-02-16 22:29:09.456007957     2.0\n",
       "2       2022-02-16 22:29:10.449524879     2.0\n",
       "3       2022-02-16 22:29:11.450499058     2.0"
      ]
     },
     "execution_count": 17,
     "metadata": {},
     "output_type": "execute_result"
    }
   ],
   "source": [
    "header = db[-1]\n",
    "header.table()"
   ]
  },
  {
   "cell_type": "code",
   "execution_count": 18,
   "id": "bb3e744e-f8bd-4f78-b464-48fc1621d792",
   "metadata": {},
   "outputs": [],
   "source": [
    "from ophyd.device import DeviceStatus"
   ]
  },
  {
   "cell_type": "code",
   "execution_count": 19,
   "id": "3e1ecb0c-9843-431e-ad6d-9643f9db51ac",
   "metadata": {},
   "outputs": [
    {
     "data": {
      "text/plain": [
       "DeviceStatus(device=ultra1, done=False, success=False)"
      ]
     },
     "execution_count": 19,
     "metadata": {},
     "output_type": "execute_result"
    }
   ],
   "source": [
    "DeviceStatus(ultra1)"
   ]
  },
  {
   "cell_type": "code",
   "execution_count": null,
   "id": "5232ca82-630e-4ee4-be09-df9866362c50",
   "metadata": {},
   "outputs": [],
   "source": []
  }
 ],
 "metadata": {
  "kernelspec": {
   "display_name": "Python 3 (ipykernel)",
   "language": "python",
   "name": "python3"
  },
  "language_info": {
   "codemirror_mode": {
    "name": "ipython",
    "version": 3
   },
   "file_extension": ".py",
   "mimetype": "text/x-python",
   "name": "python",
   "nbconvert_exporter": "python",
   "pygments_lexer": "ipython3",
   "version": "3.7.11"
  }
 },
 "nbformat": 4,
 "nbformat_minor": 5
}
