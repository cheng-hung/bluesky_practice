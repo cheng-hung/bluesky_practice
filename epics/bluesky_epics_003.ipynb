{
 "cells": [
  {
   "cell_type": "markdown",
   "id": "c48f9d54",
   "metadata": {},
   "source": [
    "# 1. Preparation before running plans... "
   ]
  },
  {
   "cell_type": "markdown",
   "id": "2ab70fdc",
   "metadata": {},
   "source": [
    "## 1.1. Import Numpy and Matplotlib"
   ]
  },
  {
   "cell_type": "code",
   "execution_count": 1,
   "id": "871b764d",
   "metadata": {},
   "outputs": [],
   "source": [
    "import numpy as np\n",
    "import matplotlib.pyplot as plt\n",
    "%matplotlib notebook"
   ]
  },
  {
   "cell_type": "markdown",
   "id": "f0c24414",
   "metadata": {},
   "source": [
    "## 1.2. Create a RunEngine:"
   ]
  },
  {
   "cell_type": "code",
   "execution_count": 60,
   "id": "39f0e049",
   "metadata": {},
   "outputs": [],
   "source": [
    "from bluesky import RunEngine\n",
    "RE = RunEngine({})"
   ]
  },
  {
   "cell_type": "markdown",
   "id": "f577bd78",
   "metadata": {},
   "source": [
    "## 1.3. Prepare Live Visualization¶"
   ]
  },
  {
   "cell_type": "code",
   "execution_count": 61,
   "id": "53a23049",
   "metadata": {},
   "outputs": [],
   "source": [
    "from bluesky.callbacks.best_effort import BestEffortCallback\n",
    "bec = BestEffortCallback()\n",
    "\n",
    "# Send all metadata/data captured to the BestEffortCallback.\n",
    "RE.subscribe(bec)\n",
    "\n",
    "# Make plots update live while scans run.\n",
    "from bluesky.utils import install_kicker\n",
    "install_kicker()"
   ]
  },
  {
   "cell_type": "markdown",
   "id": "db5b1c18",
   "metadata": {},
   "source": [
    "## 1.4. Prepare Data Storage"
   ]
  },
  {
   "cell_type": "code",
   "execution_count": 62,
   "id": "f7f6a0e0",
   "metadata": {},
   "outputs": [
    {
     "data": {
      "text/plain": [
       "1"
      ]
     },
     "execution_count": 62,
     "metadata": {},
     "output_type": "execute_result"
    }
   ],
   "source": [
    "from databroker import Broker\n",
    "db = Broker.named('temp')\n",
    "\n",
    "# Insert all metadata/data captured into db.\n",
    "RE.subscribe(db.insert)"
   ]
  },
  {
   "cell_type": "markdown",
   "id": "cb3b4a4b",
   "metadata": {},
   "source": [
    "##### This example makes a temporary database. Do not use it for important data. The data will become difficult to access once Python exits or the variable db is deleted. Running Broker.named('temp') a second time creates a fresh, separate temporary database."
   ]
  },
  {
   "cell_type": "markdown",
   "id": "af8a3ba0",
   "metadata": {},
   "source": [
    "## 1.5. Add a Progress Bar"
   ]
  },
  {
   "cell_type": "code",
   "execution_count": 63,
   "id": "eb957b27",
   "metadata": {},
   "outputs": [],
   "source": [
    "from bluesky.utils import ProgressBarManager\n",
    "RE.waiting_hook = ProgressBarManager()"
   ]
  },
  {
   "cell_type": "markdown",
   "id": "e00a7aa0-a0f6-4502-8a59-b2f41d351ffb",
   "metadata": {},
   "source": [
    "# 2. Flow Experiment Plan"
   ]
  },
  {
   "cell_type": "code",
   "execution_count": 6,
   "id": "bb04e333-fa27-4dc9-bf1a-d6926edb606e",
   "metadata": {},
   "outputs": [],
   "source": [
    "from ophyd import Component as Cpt, Device, EpicsMotor, EpicsSignal, EpicsSignalRO"
   ]
  },
  {
   "cell_type": "markdown",
   "id": "a4a2254f-6a58-44b5-b318-9e3f47b0aa69",
   "metadata": {},
   "source": [
    "Use simpleIOC in caproto as simulated EPICS\n",
    "\n",
    "$ python -m caproto.ioc_examples.simple --prefix=\"simple:ultra:\" --list-pvs\n",
    "\n",
    "$ python -m caproto.ioc_examples.simple --prefix=\"simple:dds:\" --list-pvs\n",
    "\n",
    "$ python -m caproto.ioc_examples.simple --prefix=\"simple:shutter:\" --list-pvs"
   ]
  },
  {
   "cell_type": "code",
   "execution_count": 140,
   "id": "24fb8b95-e1b9-45f5-9211-0a6de93631e2",
   "metadata": {},
   "outputs": [],
   "source": [
    "## Create a class of EPICS device for syringe pumps, UVVSI(shutter, detector)\n",
    "\n",
    "class Syringepump(Device):\n",
    "    rate = Cpt(EpicsSignal, 'A')\n",
    "    pump = Cpt(EpicsSignal, 'B')\n",
    "    pump_on = 1\n",
    "    pump_off = 0\n",
    "\n",
    "ultra1_p1 = Syringepump('simple:ultra:', name='ultra1_p1')\n",
    "# ultra1_p2 = Syringepump('simple:ultra:', name='ultra1_p2')\n",
    "\n",
    "dds1_p1 = Syringepump('simple:dds:', name='dds1_p1')\n",
    "dds1_p2 = Syringepump('simple:dds:', name='dds1_p2')\n",
    "\n",
    "\n",
    "# ultra2_p1 = Syringepump('simple:ultra:', name='ultra2_p1')\n",
    "# ultra2_p2 = Syringepump('simple:ultra:', name='ultra2_p2')\n",
    "\n",
    "# dds2_p1 = Syringepump('simple:dds:', name='dds2_p1')\n",
    "# dds2_p2 = Syringepump('simple:dds:', name='dds2_p2')\n",
    "\n",
    "\n",
    "class UV_shutter(Device):\n",
    "    open_cmd = Cpt(EpicsSignal, 'A')\n",
    "    open_val = 1\n",
    "\n",
    "    close_cmd = Cpt(EpicsSignal, 'B')\n",
    "    close_val = 0\n",
    "\n",
    "UV_shutter_e = UV_shutter('simple:shutter:', name='UV_shutter_e')  ## For emission\n",
    "UV_shutter_a = UV_shutter('simple:shutter:', name='UV_shutter_a')  ## For absorption\n",
    "\n",
    "\n",
    "### if detector is a ready-to-use EPICS device\n",
    "# det_e = EpicsMotor('detector_emission_PV', name='det_e')\n",
    "# det_a = EpicsMotor('detector_absorption_PV', name='det_a')\n",
    "\n",
    "### For test, use ophyd.sim to simulate two detectors\n",
    "from ophyd.sim import det1 as det_e, det2 as det_a\n"
   ]
  },
  {
   "cell_type": "code",
   "execution_count": 125,
   "id": "558cbc3c-9b59-49b4-ac1f-35fa8c190cc4",
   "metadata": {},
   "outputs": [],
   "source": [
    "live_talbe_list = ['ultra1_p1_rate', 'ultra1_p1_pump',\n",
    "                   'ultra1_p2_rate', 'ultra1_p2_pump',\n",
    "                   'dds1_p1_rate', 'dds1_p1_pump',\n",
    "                   'dds1_p2_rate', 'dds1_p2_pump',\n",
    "                  ]"
   ]
  },
  {
   "cell_type": "code",
   "execution_count": 126,
   "id": "f7bf79a7-93ac-428b-b548-726c1a16ad36",
   "metadata": {},
   "outputs": [],
   "source": [
    "## Check if the EPICS devices are connected.\n",
    "\n",
    "ultra1_p1.wait_for_connection()\n",
    "# ultra1_p2.wait_for_connection()\n",
    "dds1_p1.wait_for_connection()\n",
    "dds1_p2.wait_for_connection()\n",
    "\n",
    "UV_shutter_a.wait_for_connection()\n",
    "UV_shutter_e.wait_for_connection()"
   ]
  },
  {
   "cell_type": "code",
   "execution_count": null,
   "id": "3d0ee84c-3e30-4fb3-bcad-aa1a9ac6ac6e",
   "metadata": {},
   "outputs": [],
   "source": []
  },
  {
   "cell_type": "code",
   "execution_count": 129,
   "id": "5d6647ad-3744-4144-8c49-c6c7a07ec65b",
   "metadata": {},
   "outputs": [],
   "source": [
    "from bluesky import RunEngine\n",
    "RE = RunEngine({})"
   ]
  },
  {
   "cell_type": "code",
   "execution_count": 130,
   "id": "a98ad24d-04e4-498c-99b2-5d7e4f6dc5d2",
   "metadata": {},
   "outputs": [],
   "source": [
    "from bluesky.callbacks import LiveTable\n",
    "# token = RE.subscribe(LiveTable(live_talbe_list))\n",
    "\n",
    "# # Insert all metadata/data captured into db.\n",
    "RE.subscribe(db.insert)\n",
    "RE.waiting_hook = ProgressBarManager()"
   ]
  },
  {
   "cell_type": "code",
   "execution_count": 185,
   "id": "f220be5b-7380-4d28-b8b7-da93f4d4c566",
   "metadata": {},
   "outputs": [
    {
     "name": "stdout",
     "output_type": "stream",
     "text": [
      "\n",
      "\n",
      "+-----------+------------+--------------+--------------+\n",
      "|   seq_num |       time | dds1_p2_rate | dds1_p1_rate |\n",
      "+-----------+------------+--------------+--------------+\n",
      "|         1 | 19:24:29.5 |            7 |            7 |\n",
      "|         2 | 19:24:30.5 |            7 |            7 |\n",
      "|         3 | 19:24:31.5 |            7 |            7 |\n",
      "+-----------+------------+--------------+--------------+\n",
      "generator count ['452be370'] (scan num: 2)\n",
      "\n",
      "\n"
     ]
    },
    {
     "data": {
      "text/plain": [
       "('452be370-5d36-487c-8eea-6e9f5159e274',)"
      ]
     },
     "execution_count": 185,
     "metadata": {},
     "output_type": "execute_result"
    }
   ],
   "source": [
    "## Test the simulated EPICS by taking a count\n",
    "\n",
    "from bluesky.plans import count\n",
    "device = [dds1_p2.rate, dds1_p1.rate]\n",
    "RE(count(device, num=3, delay=1), LiveTable(device))"
   ]
  },
  {
   "cell_type": "code",
   "execution_count": 132,
   "id": "01370959-1177-482d-a845-1de8d5de15dd",
   "metadata": {},
   "outputs": [
    {
     "data": {
      "text/html": [
       "<div>\n",
       "<style scoped>\n",
       "    .dataframe tbody tr th:only-of-type {\n",
       "        vertical-align: middle;\n",
       "    }\n",
       "\n",
       "    .dataframe tbody tr th {\n",
       "        vertical-align: top;\n",
       "    }\n",
       "\n",
       "    .dataframe thead th {\n",
       "        text-align: right;\n",
       "    }\n",
       "</style>\n",
       "<table border=\"1\" class=\"dataframe\">\n",
       "  <thead>\n",
       "    <tr style=\"text-align: right;\">\n",
       "      <th></th>\n",
       "      <th>time</th>\n",
       "      <th>dds1_p2_rate</th>\n",
       "      <th>dds1_p1_rate</th>\n",
       "    </tr>\n",
       "    <tr>\n",
       "      <th>seq_num</th>\n",
       "      <th></th>\n",
       "      <th></th>\n",
       "      <th></th>\n",
       "    </tr>\n",
       "  </thead>\n",
       "  <tbody>\n",
       "    <tr>\n",
       "      <th>1</th>\n",
       "      <td>2022-02-17 22:33:52.789866924</td>\n",
       "      <td>1</td>\n",
       "      <td>1</td>\n",
       "    </tr>\n",
       "    <tr>\n",
       "      <th>2</th>\n",
       "      <td>2022-02-17 22:33:53.783720016</td>\n",
       "      <td>1</td>\n",
       "      <td>1</td>\n",
       "    </tr>\n",
       "    <tr>\n",
       "      <th>3</th>\n",
       "      <td>2022-02-17 22:33:54.785616875</td>\n",
       "      <td>1</td>\n",
       "      <td>1</td>\n",
       "    </tr>\n",
       "  </tbody>\n",
       "</table>\n",
       "</div>"
      ],
      "text/plain": [
       "                                 time  dds1_p2_rate  dds1_p1_rate\n",
       "seq_num                                                          \n",
       "1       2022-02-17 22:33:52.789866924             1             1\n",
       "2       2022-02-17 22:33:53.783720016             1             1\n",
       "3       2022-02-17 22:33:54.785616875             1             1"
      ]
     },
     "execution_count": 132,
     "metadata": {},
     "output_type": "execute_result"
    }
   ],
   "source": [
    "## Check if the data are save in databroker\n",
    "\n",
    "header = db[-1]\n",
    "header.table()"
   ]
  },
  {
   "cell_type": "code",
   "execution_count": 170,
   "id": "5af622aa-c178-4c1f-9ad6-94641395d439",
   "metadata": {},
   "outputs": [
    {
     "data": {
      "text/plain": [
       "()"
      ]
     },
     "execution_count": 170,
     "metadata": {},
     "output_type": "execute_result"
    }
   ],
   "source": [
    "## Set flow rate\n",
    "\n",
    "# Method 1:\n",
    "ultra1_p1.rate.set(5).wait(timeout=1)\n",
    "\n",
    "# Method 2:\n",
    "import bluesky.plan_stubs as bps\n",
    "RE(bps.abs_set(ultra1_p1.rate, 15, wait=True))"
   ]
  },
  {
   "cell_type": "code",
   "execution_count": 167,
   "id": "57850c5c-b486-4768-bae5-c414eb4f0975",
   "metadata": {},
   "outputs": [
    {
     "data": {
      "text/plain": [
       "'ultra1_p1'"
      ]
     },
     "execution_count": 167,
     "metadata": {},
     "output_type": "execute_result"
    }
   ],
   "source": [
    "ultra1_p1.name"
   ]
  },
  {
   "cell_type": "code",
   "execution_count": 139,
   "id": "2222ce3a-731f-4cc4-b9ad-4083ee5c674b",
   "metadata": {},
   "outputs": [
    {
     "data": {
      "text/plain": [
       "()"
      ]
     },
     "execution_count": 139,
     "metadata": {},
     "output_type": "execute_result"
    }
   ],
   "source": [
    "## Start or stop the syringe pump\n",
    "\n",
    "# Method 1: if the device can be triggered\n",
    "ultra1_p1.trigger()\n",
    "RE(bps.trigger(ultra1_p1, wait=True))\n",
    "\n",
    "# Method 2: if there is a PV to strart/stop the pump\n",
    "# such as 'simple:ultra:B' Assume set the value to 1 is on; to 0 is off \n",
    "ultra1_p1.pump.set(ultra1_p1.pump_off).wait(timeout=1)\n",
    "RE(bps.abs_set(ultra1_p1.pump, ultra1_p1.pump_off, wait=True))"
   ]
  },
  {
   "cell_type": "code",
   "execution_count": 171,
   "id": "bb3e744e-f8bd-4f78-b464-48fc1621d792",
   "metadata": {},
   "outputs": [
    {
     "data": {
      "text/plain": [
       "15"
      ]
     },
     "execution_count": 171,
     "metadata": {},
     "output_type": "execute_result"
    }
   ],
   "source": [
    "ultra1_p1.rate.get()\n",
    "getattr(ultra1_p1, 'rate').get()"
   ]
  },
  {
   "cell_type": "code",
   "execution_count": 179,
   "id": "4dfb8ff1-8b9a-407c-86ac-e64c2a0b8e24",
   "metadata": {},
   "outputs": [],
   "source": [
    "### Define a plan to set all flow rates\n",
    "\n",
    "\n",
    "\n",
    "rates = {'ultra1_p1': 2,\n",
    "         #'ultra1_p2': 3,\n",
    "         # 'ultra2_p1': 4,\n",
    "         #'ultra2_p2': 5,\n",
    "         'dds1_p1': 10,\n",
    "         'dds1_p2': 7,\n",
    "         # 'dds2_p1': 8,\n",
    "         # 'dds2_p2': 9,\n",
    "        }\n",
    "\n",
    "def set_pump_rate(rates):\n",
    "    for i in rates.keys():\n",
    "        eval(i).rate.set(rates[i]).wait(timeout=1)\n",
    "\n",
    "# ultra1_p1.rate.set(rates['ultra1_p1']).wait(timeout=1)\n",
    "# ultra1_p1.rate.set(rates['ultra1_p1']).wait(timeout=1)\n",
    "# dds1_p1.rate.set(rates['dds1_p1']).wait(timeout=1)\n",
    "# dds1_p2.rate.set(rates['dds1_p2']).wait(timeout=1)"
   ]
  },
  {
   "cell_type": "code",
   "execution_count": 180,
   "id": "1192025d-e6fd-4d87-9d61-ae6cc70d652f",
   "metadata": {},
   "outputs": [],
   "source": [
    "set_pump_rate(rates)"
   ]
  },
  {
   "cell_type": "code",
   "execution_count": 186,
   "id": "9f1e64db-8085-431f-9df9-047d9f0fd15c",
   "metadata": {},
   "outputs": [
    {
     "name": "stdout",
     "output_type": "stream",
     "text": [
      "2\n",
      "7\n",
      "7\n"
     ]
    }
   ],
   "source": [
    "for i in rates.keys():\n",
    "    print(eval(i).rate.get())"
   ]
  },
  {
   "cell_type": "code",
   "execution_count": 182,
   "id": "a4ae41fa-5510-4050-921d-a43ba7e36e13",
   "metadata": {},
   "outputs": [
    {
     "data": {
      "text/plain": [
       "10"
      ]
     },
     "execution_count": 182,
     "metadata": {},
     "output_type": "execute_result"
    }
   ],
   "source": [
    "rates['dds1_p1']"
   ]
  },
  {
   "cell_type": "code",
   "execution_count": 184,
   "id": "c0cfd8df-4cf3-4709-a2e8-50605809b9eb",
   "metadata": {},
   "outputs": [
    {
     "data": {
      "text/plain": [
       "7"
      ]
     },
     "execution_count": 184,
     "metadata": {},
     "output_type": "execute_result"
    }
   ],
   "source": [
    "dds1_p1.rate.get()"
   ]
  },
  {
   "cell_type": "code",
   "execution_count": null,
   "id": "7e318644-5143-4766-b3b7-fd16beaa3a13",
   "metadata": {},
   "outputs": [],
   "source": []
  }
 ],
 "metadata": {
  "kernelspec": {
   "display_name": "Python 3 (ipykernel)",
   "language": "python",
   "name": "python3"
  },
  "language_info": {
   "codemirror_mode": {
    "name": "ipython",
    "version": 3
   },
   "file_extension": ".py",
   "mimetype": "text/x-python",
   "name": "python",
   "nbconvert_exporter": "python",
   "pygments_lexer": "ipython3",
   "version": "3.7.11"
  }
 },
 "nbformat": 4,
 "nbformat_minor": 5
}
