{
 "cells": [
  {
   "cell_type": "code",
   "execution_count": 16,
   "id": "0f2791c9-c60e-4e37-a451-20a48c989e74",
   "metadata": {
    "tags": []
   },
   "outputs": [],
   "source": [
    "import pyFAI\n",
    "import pyFAI.calibrant\n",
    "import pyFAI.detectors\n",
    "import os, glob, re\n",
    "from ipywidgets import interact, interactive, fixed, interact_manual, HBox, VBox\n",
    "import ipywidgets as widgets\n",
    "from tifffile import imread, imshow, imsave\n",
    "import numpy as np\n",
    "import numpy.ma as ma\n",
    "import matplotlib.pyplot as plt\n",
    "import matplotlib.colors as colors\n",
    "from matplotlib import gridspec\n",
    "from matplotlib.widgets import Slider, Button\n",
    "import yaml, tifffile\n",
    "%matplotlib widget\n",
    "\n",
    "def sum_everything(my_im1, my_im2, my_im3, use_mask_1, use_mask_2, use_mask_3, osetx = 27, osety = 27):\n",
    "    \"\"\" Assuming im2 offset by -osetx, -osety, and im3 offset by +osetx, +osety \"\"\"\n",
    "    \n",
    "    my_imsum = np.ones((my_im1.shape[0]+int(2*osetx), my_im2.shape[1]+int(2*osety),3))*np.nan\n",
    "\n",
    "    my_imsum[osetx:-osetx,osety:-osety,0] = my_im1\n",
    "    my_imsum[osetx:-osetx,osety:-osety,0][use_mask_1==1] = np.nan\n",
    "\n",
    "    my_imsum[:-int(2*osetx),:-int(2*osety):,1] = my_im2\n",
    "    my_imsum[:-int(2*osetx),:-int(2*osety):,1][use_mask_2==1] = np.nan\n",
    "\n",
    "    my_imsum[int(2*osetx):,int(2*osety):,2] = my_im3\n",
    "    my_imsum[int(2*osetx):,int(2*osety):,2][use_mask_3==1] = np.nan\n",
    "    return np.nanmean(my_imsum,axis=2)\n",
    "\n",
    "def image_sum():\n",
    "    data_dir = tiff_base_path + \"dark_sub/\"\n",
    "    meta_dir = tiff_base_path + \"meta/\"\n",
    "    Data = []\n",
    "    \n",
    "    os.chdir(data_dir)\n",
    "    Tiff, Meta = [], []\n",
    "    for file in os.listdir(data_dir):\n",
    "        if file.endswith(\".tiff\"):\n",
    "            Tiff.append(file)\n",
    "    #A.sort(key=lambda x: os.path.getmtime(x))\n",
    "    for file in os.listdir(meta_dir):\n",
    "        if file.endswith(\".yaml\"):\n",
    "            Meta.append(file)\n",
    "    Tiff.sort()\n",
    "    Meta.sort()\n",
    "    F_number = len(Tiff)\n",
    "    print(F_number)\n",
    "    print(len(Meta))\n",
    "\n",
    "    File_Name_Prefix = folder_name = os.path.basename(tiff_base_path.rstrip('/'))\n",
    "    sum_dir = os.path.join(data_dir, 'sum')\n",
    "    os.makedirs(sum_dir, exist_ok=True)  # Create 'sum' directory if it doesn't exist\n",
    "    \n",
    "    \n",
    "    # for i in range(1, F_number, 3):  # Iterate with a step of 3\n",
    "    #     if (i+2) >= F_number:\n",
    "    #         break\n",
    "    for i in range(0, int(F_number/3)):\n",
    "        \n",
    "        im_spotA = imread(Tiff[i*3+0])\n",
    "        im_spotB = imread(Tiff[i*3+1])\n",
    "        im_spotC = imread(Tiff[i*3+2])\n",
    "    \n",
    "        with open(os.path.join(meta_dir, Meta[i*3]), 'r') as f:\n",
    "            data = yaml.unsafe_load(f)\n",
    "            T = data.get('more_info')['cryostat_A']\n",
    "    \n",
    "        full_imsum = sum_everything(im_spotC, im_spotB, im_spotA, use_mask_3, use_mask_2, use_mask_1, osety=27, osetx=27)\n",
    "        \n",
    "        # Save output file to the new 'sum' directory\n",
    "        tifffile.imsave(f\"{sum_dir}/{File_Name_Prefix}_Temperature_{T}_K_sum.tiff\", full_imsum)\n",
    "    print (i)\n",
    "    print (*list(Tiff), sep='\\n')\n",
    "\n",
    "\n",
    "def pct_integration():\n",
    "    i2d, q1d, chi1d = ai.integrate2d(img, binning, unit=UNIT,npt_azim=3600, polarization_factor=polarization, mask=mask0) # perform azimuthalintegration on one image to retain 2D information\n",
    "    intrinsic_mask_unrolled,_,_ = ai.integrate2d(mask0, binning, unit=UNIT,npt_azim=3600, polarization_factor=polarization, mask=mask0)  #trasnform mask0 (base mask) to the same coordinate space and cast it as type bool\n",
    "    #intrinsic_mask_unrolled = intrinsic_mask_unrolled.astype(bool) \n",
    "    outlier_mask_2d = np.zeros_like(i2d)     # Create an array to hold outlier mask\n",
    "\n",
    "    # i2d, q2d, chi2d = ai.integrate2d(img, binning, unit=UNIT, npt_azim=3600, polarization_factor=polarization, mask=mask0)\n",
    "    mask1 = np.array(i2d<1)*1\n",
    "    \n",
    "    for ii, dd in enumerate(i2d.T):\n",
    "        low_limit, high_limit = np.percentile(dd, (ll,ul))\n",
    "        outlier_mask_2d[:,ii] = np.any([dd<low_limit, dd>high_limit, intrinsic_mask_unrolled[:,ii]], axis=0)\n",
    "    mask=outlier_mask_2d + mask1    \n",
    "    outlier_mask_2d_masked =  ma.masked_array(i2d, mask=outlier_mask_2d + mask1)\n",
    "    i1d = ma.mean(outlier_mask_2d_masked,axis=0)\n",
    "    data = np.column_stack((q1d, i1d))\n",
    "    #plt.plot(q2d, ma.mean(outlier_mask_2d_masked,axis=0))\n",
    "    data_fn = directory + \"/dark_sub/sum/\" + str(a) + \"_L\" + str(ll)+ \"_U\" + str(ul) + \"_percentile_masked_\"+ str(UNIT) + \".dat\"\n",
    "    np.savetxt(data_fn, data) # Uncomment when the data is ready to be saved\n",
    "\n",
    "    return i1d, i2d, q1d, chi1d"
   ]
  },
  {
   "cell_type": "code",
   "execution_count": 9,
   "id": "1640023e-9019-46c6-83ab-3cf4d59d8478",
   "metadata": {
    "tags": []
   },
   "outputs": [
    {
     "name": "stdout",
     "output_type": "stream",
     "text": [
      "/nsls2/users/clin1/Documents/pyfai_test/Ni_PDF/\n",
      "/nsls2/users/clin1/Documents/pyfai_test/Ni_PDF/\n",
      "3\n",
      "3\n",
      "0\n",
      "Ni_PDF_20250410-124253_13e7b4_primary-dk_sub_image-0.tiff\n",
      "Ni_PDF_20250410-124304_cb244b_primary-dk_sub_image-0.tiff\n",
      "Ni_PDF_20250410-124313_9ae6a1_primary-dk_sub_image-0.tiff\n"
     ]
    },
    {
     "name": "stderr",
     "output_type": "stream",
     "text": [
      "/tmp/ipykernel_2582343/1973134724.py:30: RuntimeWarning: Mean of empty slice\n",
      "  return np.nanmean(my_imsum,axis=2)\n",
      "/tmp/ipykernel_2582343/1973134724.py:73: DeprecationWarning: <tifffile.imsave> is deprecated. Use tifffile.imwrite\n",
      "  tifffile.imsave(f\"{sum_dir}/{File_Name_Prefix}_Temperature_{T}_K_sum.tiff\", full_imsum)\n"
     ]
    }
   ],
   "source": [
    "# Below stiches every three pilatus images in folders that end with 'PDF' in the tiff_base\n",
    "# tiff_base_path = ('/nsls2/data/pdf/pdfhack/legacy/processed/xpdacq_data/user_data_Petkov_315831_79f731e2_2025-04-09-1101//tiff_base/')    \n",
    "# tiff_base_path = '/home/xf28id1/Documents/chenghung/pilatus_test/tiff_base/'\n",
    "tiff_base_path = '/nsls2/users/clin1/Documents/pyfai_test/'\n",
    "use_mask_1= np.load(\"/nsls2/data/pdf/pdfhack/legacy/processed/xpdacq_data/user_data_Frandsen_315944_8496f7ec_2025-04-12-1911//config_base/masks/Mask_pos1_ext_BS.npy\") # This is mask we are applying befor mergin images\n",
    "use_mask_2 = np.load(\"/nsls2/data/pdf/pdfhack/legacy/processed/xpdacq_data/user_data_Frandsen_315944_8496f7ec_2025-04-12-1911//config_base/masks/Mask_pos2_ext_BS.npy\") # This is mask we are applying befor mergin images\n",
    "use_mask_3 = np.load(\"/nsls2/data/pdf/pdfhack/legacy/processed/xpdacq_data/user_data_Frandsen_315944_8496f7ec_2025-04-12-1911//config_base/masks/Mask_pos3_ext_BS.npy\") # This is mask we are applying befor mergin images\n",
    "\n",
    "# Get all folders ending with ending with '_PDF'. Alternativelly if you want to select a perticalur folder Type the folder name instead of \"*_PDF\"\n",
    "pdf_folders = glob.glob(tiff_base_path + \"*_PDF/\")\n",
    "for item in pdf_folders:\n",
    "    print(item)\n",
    "\n",
    "for directory in pdf_folders:\n",
    "    print(directory)\n",
    "    tiff_base_path = directory\n",
    "    image_sum()"
   ]
  },
  {
   "cell_type": "code",
   "execution_count": 10,
   "id": "ac343356-f49e-4279-9da8-e1bc62067857",
   "metadata": {
    "tags": []
   },
   "outputs": [],
   "source": [
    "ai = pyFAI.load(\"/nsls2/data/pdf/pdfhack/legacy/processed//xpdacq_data/user_data_Frandsen_315944_8496f7ec_2025-04-12-1911/config_base/merged_PDF/merged.poni\" ) \n",
    "mask0 = np.load(\"/nsls2/data/pdf/pdfhack/legacy/processed//xpdacq_data/user_data_Frandsen_315944_8496f7ec_2025-04-12-1911/config_base/masks/stitched_2.npy\")\n",
    "binning = 5000\n",
    "polarization = 0.99\n",
    "UNIT = \"q_A^-1\"\n",
    "ll = 1 # lower percentile for the q dependent mask\n",
    "ul = 99  # Upper percentile for the q dependent mask\n"
   ]
  },
  {
   "cell_type": "code",
   "execution_count": 17,
   "id": "7ded440d-96be-4ac7-959d-d9c3fd2adf57",
   "metadata": {
    "tags": []
   },
   "outputs": [
    {
     "name": "stdout",
     "output_type": "stream",
     "text": [
      "/nsls2/users/clin1/Documents/pyfai_test/Ni_PDF/\n",
      "/nsls2/users/clin1/Documents/pyfai_test/Ni_PDF/\n",
      "Ni_PDF_Temperature_150.019_K_sum.tiff\n"
     ]
    }
   ],
   "source": [
    "# Integrate applying a percentile + base mask and save 2 column data. Percentile masking remove outliers based on the intensity at each Q independently \n",
    "# tiff_base_path = '/home/xf28id1/Documents/chenghung/pilatus_test/tiff_base/'\n",
    "tiff_base_path = '/nsls2/users/clin1/Documents/pyfai_test/'\n",
    "pdf_folders = glob.glob(tiff_base_path + \"*_PDF/\") # PDF folder selection\n",
    "print(*pdf_folders, sep = '\\n')\n",
    "\n",
    "for directory in pdf_folders:\n",
    "    print(directory)\n",
    "    for file in os.listdir(directory + \"/dark_sub/sum/\"):\n",
    "        if file.endswith(\".tiff\"):\n",
    "            img = imread(directory + \"/dark_sub/sum/\" + file)\n",
    "            print(file)\n",
    "            a,b = os.path.splitext(file)\n",
    "            i1d, i2d, q1d, chi1d = pct_integration()\n"
   ]
  },
  {
   "cell_type": "code",
   "execution_count": 18,
   "id": "e493d5d8-832e-4d0e-82fa-de55d4c6c1c5",
   "metadata": {
    "tags": []
   },
   "outputs": [
    {
     "data": {
      "text/plain": [
       "(3600, 5000)"
      ]
     },
     "execution_count": 18,
     "metadata": {},
     "output_type": "execute_result"
    }
   ],
   "source": [
    "i2d.shape"
   ]
  },
  {
   "cell_type": "code",
   "execution_count": 20,
   "id": "70e15ccc-57fa-4c84-af19-f7df5e06fa4a",
   "metadata": {
    "tags": []
   },
   "outputs": [
    {
     "data": {
      "text/plain": [
       "(5000,)"
      ]
     },
     "execution_count": 20,
     "metadata": {},
     "output_type": "execute_result"
    }
   ],
   "source": [
    "i1d.shape"
   ]
  },
  {
   "cell_type": "code",
   "execution_count": 19,
   "id": "e32f89fa-62e4-44b9-8d15-28f33cd680eb",
   "metadata": {
    "tags": []
   },
   "outputs": [
    {
     "data": {
      "text/plain": [
       "(5000,)"
      ]
     },
     "execution_count": 19,
     "metadata": {},
     "output_type": "execute_result"
    }
   ],
   "source": [
    "q1d.shape"
   ]
  },
  {
   "cell_type": "code",
   "execution_count": 15,
   "id": "1ade47ea-9f17-42a5-9e27-9f9c1632cb18",
   "metadata": {
    "tags": []
   },
   "outputs": [
    {
     "data": {
      "text/plain": [
       "(3600,)"
      ]
     },
     "execution_count": 15,
     "metadata": {},
     "output_type": "execute_result"
    }
   ],
   "source": [
    "chi2d.shape"
   ]
  },
  {
   "cell_type": "code",
   "execution_count": 36,
   "id": "adc64c4d-ac39-48be-baef-b52c337d09a1",
   "metadata": {
    "tags": []
   },
   "outputs": [
    {
     "data": {
      "text/plain": [
       "Detector Detector\t PixelSize= 172µm, 172µm\t BottomRight (3)\n",
       "Wavelength= 1.665000e-11 m\n",
       "SampleDetDist= 2.126147e-01 m\tPONI= 3.928429e-02, 1.738006e-01 m\trot1=-0.006280  rot2=0.003199  rot3=0.000000 rad\n",
       "DirectBeamDist= 212.620 mm\tCenter: x=1018.232, y=232.352 pix\tTilt= 0.404° tiltPlanRotation= 26.995° 𝛌= 0.167Å"
      ]
     },
     "execution_count": 36,
     "metadata": {},
     "output_type": "execute_result"
    }
   ],
   "source": [
    "ai"
   ]
  },
  {
   "cell_type": "code",
   "execution_count": 26,
   "id": "c34498d0-0159-428a-a434-3c0a16b60db9",
   "metadata": {
    "tags": []
   },
   "outputs": [
    {
     "data": {
      "text/plain": [
       "{'detector': 'Detector',\n",
       " 'pixel1': 0.00017199999999999998,\n",
       " 'pixel2': 0.00017199999999999998,\n",
       " 'max_shape': (1733, 1529),\n",
       " 'orientation': <Orientation.BottomRight: 3>,\n",
       " 'dist': 0.21261470614314407,\n",
       " 'poni1': 0.039284293269034154,\n",
       " 'poni2': 0.17380055825783822,\n",
       " 'rot1': -0.006280152543663196,\n",
       " 'rot2': 0.0031992244842886453,\n",
       " 'rot3': 1.4537912401028803e-09,\n",
       " 'wavelength': 1.6650000000000002e-11}"
      ]
     },
     "execution_count": 26,
     "metadata": {},
     "output_type": "execute_result"
    }
   ],
   "source": [
    "ai.getPyFAI()"
   ]
  },
  {
   "cell_type": "code",
   "execution_count": 30,
   "id": "10b26af0-6c80-49c8-9b3b-b61f25316c02",
   "metadata": {
    "tags": []
   },
   "outputs": [
    {
     "name": "stdout",
     "output_type": "stream",
     "text": [
      "detector Detector\n",
      "pixel1 0.00017199999999999998\n",
      "pixel2 0.00017199999999999998\n",
      "max_shape (1733, 1529)\n",
      "orientation Orientation.BottomRight\n",
      "dist 0.21261470614314407\n",
      "poni1 0.039284293269034154\n",
      "poni2 0.17380055825783822\n",
      "rot1 -0.006280152543663196\n",
      "rot2 0.0031992244842886453\n",
      "rot3 1.4537912401028803e-09\n",
      "wavelength 1.6650000000000002e-11\n"
     ]
    }
   ],
   "source": [
    "md = ai.getPyFAI()\n",
    "md.items()\n",
    "for key, value in md.items():\n",
    "    print(key, value)"
   ]
  },
  {
   "cell_type": "code",
   "execution_count": 47,
   "id": "f3b9a1b4-5908-47f8-a591-bc5b9be6ea6a",
   "metadata": {
    "tags": []
   },
   "outputs": [
    {
     "data": {
      "text/plain": [
       "dict"
      ]
     },
     "execution_count": 47,
     "metadata": {},
     "output_type": "execute_result"
    }
   ],
   "source": [
    "type(md)"
   ]
  },
  {
   "cell_type": "code",
   "execution_count": 45,
   "id": "d4677267-700e-4c3a-89d1-5de95999397d",
   "metadata": {
    "tags": []
   },
   "outputs": [],
   "source": [
    "import pandas as pd\n",
    "def iq_saver(fn, df, md, header=['q_A^-1', 'I(q)']):\n",
    "    with open(fn, mode='w', encoding='utf-8') as f:\n",
    "        f.write('pyFai_poni_information_28ID1_NSLS2_BNL\\n')\n",
    "        for key, value in md.items():\n",
    "            f.write(f'{key} {value}\\n')\n",
    "    # Now append the dataframe without a header\n",
    "    df.to_csv(fn, encoding='utf-8', mode='a', header=header, index=False, float_format='{:.8e}'.format, sep=' ')"
   ]
  },
  {
   "cell_type": "code",
   "execution_count": 34,
   "id": "4aa5c073-fff2-4ad1-a715-7b86b1e96580",
   "metadata": {
    "tags": []
   },
   "outputs": [],
   "source": [
    "df = pd.DataFrame()\n",
    "df['q'] = q1d\n",
    "df['I'] = i1d"
   ]
  },
  {
   "cell_type": "code",
   "execution_count": 46,
   "id": "41d8d1c2-301c-4844-b219-414a585ba9c4",
   "metadata": {
    "tags": []
   },
   "outputs": [],
   "source": [
    "fn = '/nsls2/users/clin1/Documents/pyfai_test/Ni_PDF_test.csv'\n",
    "iq_saver(fn, df, md)"
   ]
  },
  {
   "cell_type": "code",
   "execution_count": 32,
   "id": "88c29f5d-3e58-4ec6-8879-037393a5b6c4",
   "metadata": {
    "tags": []
   },
   "outputs": [
    {
     "name": "stdout",
     "output_type": "stream",
     "text": [
      "/home/xf28id1/Documents/chenghung/pilatus_test/tiff_base/Ni_PDF/\n"
     ]
    }
   ],
   "source": [
    "# Integrate only applying a base_mask and save 2 column data) \n",
    "tiff_base_path = '/home/xf28id1/Documents/chenghung/pilatus_test/tiff_base/'\n",
    "pdf_folders = glob.glob(tiff_base_path + \"*_PDF/\")\n",
    "#for item in pdf_folders:\n",
    "#    print(item)\n",
    "\n",
    "for directory in pdf_folders:\n",
    "    print(directory)\n",
    "    for file in os.listdir(directory + \"/dark_sub/sum/\"):\n",
    "        #print(directory)\n",
    "        if file.endswith(\".tiff\"):\n",
    "            img = imread(directory + \"/dark_sub/sum/\" + file)\n",
    "            a,b = os.path.splitext(file)\n",
    "            x,y = ai.integrate1d(img, binning, mask=mask0, unit=UNIT, polarization_factor=polarization) \n",
    "            data = np.column_stack((x, y))\n",
    "            np.savetxt(directory + \"/dark_sub/sum/\" + str(a) + \".dat\", data)"
   ]
  },
  {
   "cell_type": "code",
   "execution_count": 39,
   "id": "a0cf7142-057b-466a-b5df-de344d791cd9",
   "metadata": {
    "tags": []
   },
   "outputs": [
    {
     "data": {
      "text/plain": [
       "['/home/xf28id1/Documents/chenghung/pilatus_test/tiff_base/Ni_PDF/dark_sub/sum/Ni_PDF_Temperature_21.4002_K_sum.dat',\n",
       " '/home/xf28id1/Documents/chenghung/pilatus_test/tiff_base/Ni_PDF/dark_sub/sum/Ni_PDF_Temperature_21.4002_K_sum_L1_U99_percentile_masked_q_A^-1.dat',\n",
       " '/home/xf28id1/Documents/chenghung/pilatus_test/tiff_base/Ni_PDF/dark_sub/sum/Ni_PDF_Temperature_24.9949_K_sum.dat',\n",
       " '/home/xf28id1/Documents/chenghung/pilatus_test/tiff_base/Ni_PDF/dark_sub/sum/Ni_PDF_Temperature_24.9949_K_sum_L1_U99_percentile_masked_q_A^-1.dat',\n",
       " '/home/xf28id1/Documents/chenghung/pilatus_test/tiff_base/Ni_PDF/dark_sub/sum/Ni_PDF_Temperature_30.0079_K_sum.dat',\n",
       " '/home/xf28id1/Documents/chenghung/pilatus_test/tiff_base/Ni_PDF/dark_sub/sum/Ni_PDF_Temperature_30.0079_K_sum_L1_U99_percentile_masked_q_A^-1.dat',\n",
       " '/home/xf28id1/Documents/chenghung/pilatus_test/tiff_base/Ni_PDF/dark_sub/sum/Ni_PDF_Temperature_35.0098_K_sum.dat',\n",
       " '/home/xf28id1/Documents/chenghung/pilatus_test/tiff_base/Ni_PDF/dark_sub/sum/Ni_PDF_Temperature_35.0098_K_sum_L1_U99_percentile_masked_q_A^-1.dat']"
      ]
     },
     "execution_count": 39,
     "metadata": {},
     "output_type": "execute_result"
    }
   ],
   "source": [
    "col_data_path = glob.glob(os.path.join(tiff_base_path, '*_PDF', 'dark_sub', 'sum', '*.dat'))\n",
    "col_data_path.sort()\n",
    "col_data_path"
   ]
  },
  {
   "cell_type": "code",
   "execution_count": 40,
   "id": "7cb72b9f-ff44-4cf8-81a8-c8f78e1f95c5",
   "metadata": {
    "tags": []
   },
   "outputs": [],
   "source": [
    "import pandas as pd"
   ]
  },
  {
   "cell_type": "code",
   "execution_count": 47,
   "id": "3d747385-1f60-478f-8ab2-c55c02463492",
   "metadata": {
    "tags": []
   },
   "outputs": [],
   "source": [
    "T_21K_base_mask = pd.read_csv(col_data_path[0], names=['q', 'I(q)'], sep=' ')\n",
    "T_21K_perc_mask = pd.read_csv(col_data_path[1], names=['q', 'I(q)'], sep=' ')"
   ]
  },
  {
   "cell_type": "code",
   "execution_count": 46,
   "id": "8719c252-aa4b-4b8c-bb7f-8dddb1231627",
   "metadata": {
    "tags": []
   },
   "outputs": [
    {
     "data": {
      "text/html": [
       "<div>\n",
       "<style scoped>\n",
       "    .dataframe tbody tr th:only-of-type {\n",
       "        vertical-align: middle;\n",
       "    }\n",
       "\n",
       "    .dataframe tbody tr th {\n",
       "        vertical-align: top;\n",
       "    }\n",
       "\n",
       "    .dataframe thead th {\n",
       "        text-align: right;\n",
       "    }\n",
       "</style>\n",
       "<table border=\"1\" class=\"dataframe\">\n",
       "  <thead>\n",
       "    <tr style=\"text-align: right;\">\n",
       "      <th></th>\n",
       "      <th>q</th>\n",
       "      <th>I(q)</th>\n",
       "    </tr>\n",
       "  </thead>\n",
       "  <tbody>\n",
       "    <tr>\n",
       "      <th>0</th>\n",
       "      <td>0.886337</td>\n",
       "      <td>776.888611</td>\n",
       "    </tr>\n",
       "    <tr>\n",
       "      <th>1</th>\n",
       "      <td>0.893083</td>\n",
       "      <td>778.093506</td>\n",
       "    </tr>\n",
       "    <tr>\n",
       "      <th>2</th>\n",
       "      <td>0.899829</td>\n",
       "      <td>778.093506</td>\n",
       "    </tr>\n",
       "    <tr>\n",
       "      <th>3</th>\n",
       "      <td>0.906575</td>\n",
       "      <td>776.075256</td>\n",
       "    </tr>\n",
       "    <tr>\n",
       "      <th>4</th>\n",
       "      <td>0.913321</td>\n",
       "      <td>779.883484</td>\n",
       "    </tr>\n",
       "    <tr>\n",
       "      <th>...</th>\n",
       "      <td>...</td>\n",
       "      <td>...</td>\n",
       "    </tr>\n",
       "    <tr>\n",
       "      <th>4995</th>\n",
       "      <td>34.582495</td>\n",
       "      <td>353.844604</td>\n",
       "    </tr>\n",
       "    <tr>\n",
       "      <th>4996</th>\n",
       "      <td>34.589241</td>\n",
       "      <td>339.525970</td>\n",
       "    </tr>\n",
       "    <tr>\n",
       "      <th>4997</th>\n",
       "      <td>34.595987</td>\n",
       "      <td>379.320618</td>\n",
       "    </tr>\n",
       "    <tr>\n",
       "      <th>4998</th>\n",
       "      <td>34.602733</td>\n",
       "      <td>413.124298</td>\n",
       "    </tr>\n",
       "    <tr>\n",
       "      <th>4999</th>\n",
       "      <td>34.609479</td>\n",
       "      <td>410.853729</td>\n",
       "    </tr>\n",
       "  </tbody>\n",
       "</table>\n",
       "<p>5000 rows × 2 columns</p>\n",
       "</div>"
      ],
      "text/plain": [
       "              q        I(q)\n",
       "0      0.886337  776.888611\n",
       "1      0.893083  778.093506\n",
       "2      0.899829  778.093506\n",
       "3      0.906575  776.075256\n",
       "4      0.913321  779.883484\n",
       "...         ...         ...\n",
       "4995  34.582495  353.844604\n",
       "4996  34.589241  339.525970\n",
       "4997  34.595987  379.320618\n",
       "4998  34.602733  413.124298\n",
       "4999  34.609479  410.853729\n",
       "\n",
       "[5000 rows x 2 columns]"
      ]
     },
     "execution_count": 46,
     "metadata": {},
     "output_type": "execute_result"
    }
   ],
   "source": [
    "T_21K_base_mask"
   ]
  },
  {
   "cell_type": "code",
   "execution_count": 49,
   "id": "5ba7da17-5224-4d58-9099-313d3abd9177",
   "metadata": {
    "tags": []
   },
   "outputs": [
    {
     "data": {
      "application/vnd.jupyter.widget-view+json": {
       "model_id": "e523f58a94d04320911361c5cd7e0374",
       "version_major": 2,
       "version_minor": 0
      },
      "image/png": "[encoded data removed]",
      "text/html": [
       "\n",
       "            <div style=\"display: inline-block;\">\n",
       "                <div class=\"jupyter-widgets widget-label\" style=\"text-align: center;\">\n",
       "                    Figure\n",
       "                </div>\n",
       "                <img src='data:image/png;base64,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' width=640.0/>\n",
       "            </div>\n",
       "        "
      ],
      "text/plain": [
       "Canvas(toolbar=Toolbar(toolitems=[('Home', 'Reset original view', 'home', 'home'), ('Back', 'Back to previous …"
      ]
     },
     "metadata": {},
     "output_type": "display_data"
    }
   ],
   "source": [
    "plt.plot()\n",
    "plt.plot(T_21K_base_mask['q'], T_21K_base_mask['I(q)'], label='base mask')\n",
    "plt.plot(T_21K_perc_mask['q'], T_21K_perc_mask['I(q)'], label='percentile mask')\n",
    "plt.legend()\n",
    "plt.show()"
   ]
  },
  {
   "cell_type": "code",
   "execution_count": null,
   "id": "a3a7849a-a0ff-4598-b580-bdd4efe34fd3",
   "metadata": {},
   "outputs": [],
   "source": []
  }
 ],
 "metadata": {
  "kernelspec": {
   "display_name": "Python 3 (ipykernel)",
   "language": "python",
   "name": "python3"
  },
  "language_info": {
   "codemirror_mode": {
    "name": "ipython",
    "version": 3
   },
   "file_extension": ".py",
   "mimetype": "text/x-python",
   "name": "python",
   "nbconvert_exporter": "python",
   "pygments_lexer": "ipython3",
   "version": "3.10.17"
  }
 },
 "nbformat": 4,
 "nbformat_minor": 5
}
