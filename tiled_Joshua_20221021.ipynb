{
 "cells": [
  {
   "cell_type": "code",
   "execution_count": 1,
   "id": "e017e298-3cb7-43e2-86fb-c914a7889250",
   "metadata": {},
   "outputs": [],
   "source": [
    "from databroker import Broker"
   ]
  },
  {
   "cell_type": "code",
   "execution_count": 2,
   "id": "c2fcb69f-b3f6-43f5-9e0a-0467e88f6534",
   "metadata": {},
   "outputs": [
    {
     "name": "stderr",
     "output_type": "stream",
     "text": [
      "OBJECT CACHE: Will use up to 121_501_830_144 bytes (15% of total physical RAM)\n"
     ]
    }
   ],
   "source": [
    "db = Broker.named(\"xpd\")"
   ]
  },
  {
   "cell_type": "code",
   "execution_count": 4,
   "id": "6eaa1e80-2cd4-439f-a254-4c6a8d598b96",
   "metadata": {},
   "outputs": [
    {
     "data": {
      "text/plain": [
       "['start', 'descriptors', 'stop', 'ext']"
      ]
     },
     "execution_count": 4,
     "metadata": {},
     "output_type": "execute_result"
    }
   ],
   "source": [
    "list(db[-1])"
   ]
  },
  {
   "cell_type": "code",
   "execution_count": 5,
   "id": "07166e82-1d29-4e0b-ad65-f1c1e63af56d",
   "metadata": {},
   "outputs": [
    {
     "name": "stderr",
     "output_type": "stream",
     "text": [
      "'QEPro_status_msg' actually has dtype '<i8' but was reported as having dtype '<f8'. It will be converted to the reported type, but this should be fixed by setting 'dtype_str' in the data_key of the EventDescriptor. RunStart UID: '36c25898-c47c-4444-ac08-4e34bdf05564'\n"
     ]
    },
    {
     "data": {
      "text/plain": [
       "Index(['QEPro_serial', 'QEPro_model', 'QEPro_status', 'QEPro_status_msg',\n",
       "       'QEPro_device_connected', 'QEPro__QEPro__check_status',\n",
       "       'QEPro_features', 'QEPro_strobe', 'QEPro_shutter',\n",
       "       'QEPro_tec_device_tec', 'QEPro_tec_device_curr_tec_temp',\n",
       "       'QEPro_light_source', 'QEPro_light_source_intensity',\n",
       "       'QEPro_light_source_count', 'QEPro_num_spectra',\n",
       "       'QEPro_spectra_collected', 'QEPro_int_min_time', 'QEPro_int_max_time',\n",
       "       'QEPro_integration_time', 'QEPro_buff_min_capacity',\n",
       "       'QEPro_buff_max_capacity', 'QEPro_buff_capacity',\n",
       "       'QEPro_buff_element_count', 'QEPro_output', 'QEPro_sample',\n",
       "       'QEPro_dark', 'QEPro_reference', 'QEPro_formatted_spectrum_len',\n",
       "       'QEPro_x_axis', 'QEPro_x_axis_format', 'QEPro_dark_available',\n",
       "       'QEPro_ref_available', 'QEPro_acquire', 'QEPro_collect_mode',\n",
       "       'QEPro_spectrum_type', 'QEPro_correction', 'QEPro_trigger_mode',\n",
       "       'time'],\n",
       "      dtype='object')"
      ]
     },
     "execution_count": 5,
     "metadata": {},
     "output_type": "execute_result"
    }
   ],
   "source": [
    "db[-1].table().columns"
   ]
  },
  {
   "cell_type": "code",
   "execution_count": 6,
   "id": "a94d3226-ef1c-40e0-943a-16f81b556cfc",
   "metadata": {},
   "outputs": [
    {
     "name": "stderr",
     "output_type": "stream",
     "text": [
      "'QEPro_status_msg' actually has dtype '<i8' but was reported as having dtype '<f8'. It will be converted to the reported type, but this should be fixed by setting 'dtype_str' in the data_key of the EventDescriptor. RunStart UID: '36c25898-c47c-4444-ac08-4e34bdf05564'\n"
     ]
    },
    {
     "data": {
      "text/plain": [
       "seq_num\n",
       "1    [0.09145674311314256, nan, nan, nan, nan, nan,...\n",
       "Name: QEPro_output, dtype: object"
      ]
     },
     "execution_count": 6,
     "metadata": {},
     "output_type": "execute_result"
    }
   ],
   "source": [
    "db[-1].table()[\"QEPro_output\"]"
   ]
  },
  {
   "cell_type": "code",
   "execution_count": 7,
   "id": "19e13c43-ebab-4ada-9dab-e414bef3c853",
   "metadata": {},
   "outputs": [],
   "source": [
    "from tiled.client import from_profile"
   ]
  },
  {
   "cell_type": "code",
   "execution_count": 8,
   "id": "dc023fee-529c-45d8-ae9b-2c738add43e0",
   "metadata": {},
   "outputs": [
    {
     "name": "stderr",
     "output_type": "stream",
     "text": [
      "OBJECT CACHE: Will use up to 121_501_830_144 bytes (15% of total physical RAM)\n"
     ]
    }
   ],
   "source": [
    "tiled_client = from_profile(\"xpd\")"
   ]
  },
  {
   "cell_type": "code",
   "execution_count": 9,
   "id": "4ac5d02b-606a-4b58-83dc-a68fb96197df",
   "metadata": {},
   "outputs": [
    {
     "data": {
      "text/plain": [
       "<BlueskyRun {'primary'} scan_id=3 uid='36c25898' 2022-10-21 14:51>"
      ]
     },
     "execution_count": 9,
     "metadata": {},
     "output_type": "execute_result"
    }
   ],
   "source": [
    "tiled_client[-1]"
   ]
  },
  {
   "cell_type": "code",
   "execution_count": 10,
   "id": "1e8f9b03-e710-40e0-af25-a6d360614273",
   "metadata": {},
   "outputs": [
    {
     "data": {
      "text/plain": [
       "['primary']"
      ]
     },
     "execution_count": 10,
     "metadata": {},
     "output_type": "execute_result"
    }
   ],
   "source": [
    "list(tiled_client[-1])"
   ]
  },
  {
   "cell_type": "code",
   "execution_count": 12,
   "id": "7bb1c403-4941-4d13-a39f-fe547b54870d",
   "metadata": {},
   "outputs": [],
   "source": [
    "run = tiled_client[-1]"
   ]
  },
  {
   "cell_type": "code",
   "execution_count": 14,
   "id": "b7a6c326-07e5-4b3f-89de-b30d1758a73a",
   "metadata": {},
   "outputs": [
    {
     "name": "stderr",
     "output_type": "stream",
     "text": [
      "'QEPro_status_msg' actually has dtype '<i8' but was reported as having dtype '<f8'. It will be converted to the reported type, but this should be fixed by setting 'dtype_str' in the data_key of the EventDescriptor. RunStart UID: '36c25898-c47c-4444-ac08-4e34bdf05564'\n"
     ]
    }
   ],
   "source": [
    "ds = run.primary.read()"
   ]
  },
  {
   "cell_type": "code",
   "execution_count": 15,
   "id": "5c6f2519-bcc1-43bd-97b8-7c3414240ba7",
   "metadata": {},
   "outputs": [
    {
     "data": {
      "text/html": [
       "<div><svg style=\"position: absolute; width: 0; height: 0; overflow: hidden\">\n",
       "<defs>\n",
       "<symbol id=\"icon-database\" viewBox=\"0 0 32 32\">\n",
       "<path d=\"M16 0c-8.837 0-16 2.239-16 5v4c0 2.761 7.163 5 16 5s16-2.239 16-5v-4c0-2.761-7.163-5-16-5z\"></path>\n",
       "<path d=\"M16 17c-8.837 0-16-2.239-16-5v6c0 2.761 7.163 5 16 5s16-2.239 16-5v-6c0 2.761-7.163 5-16 5z\"></path>\n",
       "<path d=\"M16 26c-8.837 0-16-2.239-16-5v6c0 2.761 7.163 5 16 5s16-2.239 16-5v-6c0 2.761-7.163 5-16 5z\"></path>\n",
       "</symbol>\n",
       "<symbol id=\"icon-file-text2\" viewBox=\"0 0 32 32\">\n",
       "<path d=\"M28.681 7.159c-0.694-0.947-1.662-2.053-2.724-3.116s-2.169-2.030-3.116-2.724c-1.612-1.182-2.393-1.319-2.841-1.319h-15.5c-1.378 0-2.5 1.121-2.5 2.5v27c0 1.378 1.122 2.5 2.5 2.5h23c1.378 0 2.5-1.122 2.5-2.5v-19.5c0-0.448-0.137-1.23-1.319-2.841zM24.543 5.457c0.959 0.959 1.712 1.825 2.268 2.543h-4.811v-4.811c0.718 0.556 1.584 1.309 2.543 2.268zM28 29.5c0 0.271-0.229 0.5-0.5 0.5h-23c-0.271 0-0.5-0.229-0.5-0.5v-27c0-0.271 0.229-0.5 0.5-0.5 0 0 15.499-0 15.5 0v7c0 0.552 0.448 1 1 1h7v19.5z\"></path>\n",
       "<path d=\"M23 26h-14c-0.552 0-1-0.448-1-1s0.448-1 1-1h14c0.552 0 1 0.448 1 1s-0.448 1-1 1z\"></path>\n",
       "<path d=\"M23 22h-14c-0.552 0-1-0.448-1-1s0.448-1 1-1h14c0.552 0 1 0.448 1 1s-0.448 1-1 1z\"></path>\n",
       "<path d=\"M23 18h-14c-0.552 0-1-0.448-1-1s0.448-1 1-1h14c0.552 0 1 0.448 1 1s-0.448 1-1 1z\"></path>\n",
       "</symbol>\n",
       "</defs>\n",
       "</svg>\n",
       "<style>/* CSS stylesheet for displaying xarray objects in jupyterlab.\n",
       " *\n",
       " */\n",
       "\n",
       ":root {\n",
       "  --xr-font-color0: var(--jp-content-font-color0, rgba(0, 0, 0, 1));\n",
       "  --xr-font-color2: var(--jp-content-font-color2, rgba(0, 0, 0, 0.54));\n",
       "  --xr-font-color3: var(--jp-content-font-color3, rgba(0, 0, 0, 0.38));\n",
       "  --xr-border-color: var(--jp-border-color2, #e0e0e0);\n",
       "  --xr-disabled-color: var(--jp-layout-color3, #bdbdbd);\n",
       "  --xr-background-color: var(--jp-layout-color0, white);\n",
       "  --xr-background-color-row-even: var(--jp-layout-color1, white);\n",
       "  --xr-background-color-row-odd: var(--jp-layout-color2, #eeeeee);\n",
       "}\n",
       "\n",
       "html[theme=dark],\n",
       "body.vscode-dark {\n",
       "  --xr-font-color0: rgba(255, 255, 255, 1);\n",
       "  --xr-font-color2: rgba(255, 255, 255, 0.54);\n",
       "  --xr-font-color3: rgba(255, 255, 255, 0.38);\n",
       "  --xr-border-color: #1F1F1F;\n",
       "  --xr-disabled-color: #515151;\n",
       "  --xr-background-color: #111111;\n",
       "  --xr-background-color-row-even: #111111;\n",
       "  --xr-background-color-row-odd: #313131;\n",
       "}\n",
       "\n",
       ".xr-wrap {\n",
       "  display: block !important;\n",
       "  min-width: 300px;\n",
       "  max-width: 700px;\n",
       "}\n",
       "\n",
       ".xr-text-repr-fallback {\n",
       "  /* fallback to plain text repr when CSS is not injected (untrusted notebook) */\n",
       "  display: none;\n",
       "}\n",
       "\n",
       ".xr-header {\n",
       "  padding-top: 6px;\n",
       "  padding-bottom: 6px;\n",
       "  margin-bottom: 4px;\n",
       "  border-bottom: solid 1px var(--xr-border-color);\n",
       "}\n",
       "\n",
       ".xr-header > div,\n",
       ".xr-header > ul {\n",
       "  display: inline;\n",
       "  margin-top: 0;\n",
       "  margin-bottom: 0;\n",
       "}\n",
       "\n",
       ".xr-obj-type,\n",
       ".xr-array-name {\n",
       "  margin-left: 2px;\n",
       "  margin-right: 10px;\n",
       "}\n",
       "\n",
       ".xr-obj-type {\n",
       "  color: var(--xr-font-color2);\n",
       "}\n",
       "\n",
       ".xr-sections {\n",
       "  padding-left: 0 !important;\n",
       "  display: grid;\n",
       "  grid-template-columns: 150px auto auto 1fr 20px 20px;\n",
       "}\n",
       "\n",
       ".xr-section-item {\n",
       "  display: contents;\n",
       "}\n",
       "\n",
       ".xr-section-item input {\n",
       "  display: none;\n",
       "}\n",
       "\n",
       ".xr-section-item input + label {\n",
       "  color: var(--xr-disabled-color);\n",
       "}\n",
       "\n",
       ".xr-section-item input:enabled + label {\n",
       "  cursor: pointer;\n",
       "  color: var(--xr-font-color2);\n",
       "}\n",
       "\n",
       ".xr-section-item input:enabled + label:hover {\n",
       "  color: var(--xr-font-color0);\n",
       "}\n",
       "\n",
       ".xr-section-summary {\n",
       "  grid-column: 1;\n",
       "  color: var(--xr-font-color2);\n",
       "  font-weight: 500;\n",
       "}\n",
       "\n",
       ".xr-section-summary > span {\n",
       "  display: inline-block;\n",
       "  padding-left: 0.5em;\n",
       "}\n",
       "\n",
       ".xr-section-summary-in:disabled + label {\n",
       "  color: var(--xr-font-color2);\n",
       "}\n",
       "\n",
       ".xr-section-summary-in + label:before {\n",
       "  display: inline-block;\n",
       "  content: '►';\n",
       "  font-size: 11px;\n",
       "  width: 15px;\n",
       "  text-align: center;\n",
       "}\n",
       "\n",
       ".xr-section-summary-in:disabled + label:before {\n",
       "  color: var(--xr-disabled-color);\n",
       "}\n",
       "\n",
       ".xr-section-summary-in:checked + label:before {\n",
       "  content: '▼';\n",
       "}\n",
       "\n",
       ".xr-section-summary-in:checked + label > span {\n",
       "  display: none;\n",
       "}\n",
       "\n",
       ".xr-section-summary,\n",
       ".xr-section-inline-details {\n",
       "  padding-top: 4px;\n",
       "  padding-bottom: 4px;\n",
       "}\n",
       "\n",
       ".xr-section-inline-details {\n",
       "  grid-column: 2 / -1;\n",
       "}\n",
       "\n",
       ".xr-section-details {\n",
       "  display: none;\n",
       "  grid-column: 1 / -1;\n",
       "  margin-bottom: 5px;\n",
       "}\n",
       "\n",
       ".xr-section-summary-in:checked ~ .xr-section-details {\n",
       "  display: contents;\n",
       "}\n",
       "\n",
       ".xr-array-wrap {\n",
       "  grid-column: 1 / -1;\n",
       "  display: grid;\n",
       "  grid-template-columns: 20px auto;\n",
       "}\n",
       "\n",
       ".xr-array-wrap > label {\n",
       "  grid-column: 1;\n",
       "  vertical-align: top;\n",
       "}\n",
       "\n",
       ".xr-preview {\n",
       "  color: var(--xr-font-color3);\n",
       "}\n",
       "\n",
       ".xr-array-preview,\n",
       ".xr-array-data {\n",
       "  padding: 0 5px !important;\n",
       "  grid-column: 2;\n",
       "}\n",
       "\n",
       ".xr-array-data,\n",
       ".xr-array-in:checked ~ .xr-array-preview {\n",
       "  display: none;\n",
       "}\n",
       "\n",
       ".xr-array-in:checked ~ .xr-array-data,\n",
       ".xr-array-preview {\n",
       "  display: inline-block;\n",
       "}\n",
       "\n",
       ".xr-dim-list {\n",
       "  display: inline-block !important;\n",
       "  list-style: none;\n",
       "  padding: 0 !important;\n",
       "  margin: 0;\n",
       "}\n",
       "\n",
       ".xr-dim-list li {\n",
       "  display: inline-block;\n",
       "  padding: 0;\n",
       "  margin: 0;\n",
       "}\n",
       "\n",
       ".xr-dim-list:before {\n",
       "  content: '(';\n",
       "}\n",
       "\n",
       ".xr-dim-list:after {\n",
       "  content: ')';\n",
       "}\n",
       "\n",
       ".xr-dim-list li:not(:last-child):after {\n",
       "  content: ',';\n",
       "  padding-right: 5px;\n",
       "}\n",
       "\n",
       ".xr-has-index {\n",
       "  font-weight: bold;\n",
       "}\n",
       "\n",
       ".xr-var-list,\n",
       ".xr-var-item {\n",
       "  display: contents;\n",
       "}\n",
       "\n",
       ".xr-var-item > div,\n",
       ".xr-var-item label,\n",
       ".xr-var-item > .xr-var-name span {\n",
       "  background-color: var(--xr-background-color-row-even);\n",
       "  margin-bottom: 0;\n",
       "}\n",
       "\n",
       ".xr-var-item > .xr-var-name:hover span {\n",
       "  padding-right: 5px;\n",
       "}\n",
       "\n",
       ".xr-var-list > li:nth-child(odd) > div,\n",
       ".xr-var-list > li:nth-child(odd) > label,\n",
       ".xr-var-list > li:nth-child(odd) > .xr-var-name span {\n",
       "  background-color: var(--xr-background-color-row-odd);\n",
       "}\n",
       "\n",
       ".xr-var-name {\n",
       "  grid-column: 1;\n",
       "}\n",
       "\n",
       ".xr-var-dims {\n",
       "  grid-column: 2;\n",
       "}\n",
       "\n",
       ".xr-var-dtype {\n",
       "  grid-column: 3;\n",
       "  text-align: right;\n",
       "  color: var(--xr-font-color2);\n",
       "}\n",
       "\n",
       ".xr-var-preview {\n",
       "  grid-column: 4;\n",
       "}\n",
       "\n",
       ".xr-var-name,\n",
       ".xr-var-dims,\n",
       ".xr-var-dtype,\n",
       ".xr-preview,\n",
       ".xr-attrs dt {\n",
       "  white-space: nowrap;\n",
       "  overflow: hidden;\n",
       "  text-overflow: ellipsis;\n",
       "  padding-right: 10px;\n",
       "}\n",
       "\n",
       ".xr-var-name:hover,\n",
       ".xr-var-dims:hover,\n",
       ".xr-var-dtype:hover,\n",
       ".xr-attrs dt:hover {\n",
       "  overflow: visible;\n",
       "  width: auto;\n",
       "  z-index: 1;\n",
       "}\n",
       "\n",
       ".xr-var-attrs,\n",
       ".xr-var-data {\n",
       "  display: none;\n",
       "  background-color: var(--xr-background-color) !important;\n",
       "  padding-bottom: 5px !important;\n",
       "}\n",
       "\n",
       ".xr-var-attrs-in:checked ~ .xr-var-attrs,\n",
       ".xr-var-data-in:checked ~ .xr-var-data {\n",
       "  display: block;\n",
       "}\n",
       "\n",
       ".xr-var-data > table {\n",
       "  float: right;\n",
       "}\n",
       "\n",
       ".xr-var-name span,\n",
       ".xr-var-data,\n",
       ".xr-attrs {\n",
       "  padding-left: 25px !important;\n",
       "}\n",
       "\n",
       ".xr-attrs,\n",
       ".xr-var-attrs,\n",
       ".xr-var-data {\n",
       "  grid-column: 1 / -1;\n",
       "}\n",
       "\n",
       "dl.xr-attrs {\n",
       "  padding: 0;\n",
       "  margin: 0;\n",
       "  display: grid;\n",
       "  grid-template-columns: 125px auto;\n",
       "}\n",
       "\n",
       ".xr-attrs dt,\n",
       ".xr-attrs dd {\n",
       "  padding: 0;\n",
       "  margin: 0;\n",
       "  float: left;\n",
       "  padding-right: 10px;\n",
       "  width: auto;\n",
       "}\n",
       "\n",
       ".xr-attrs dt {\n",
       "  font-weight: normal;\n",
       "  grid-column: 1;\n",
       "}\n",
       "\n",
       ".xr-attrs dt:hover span {\n",
       "  display: inline-block;\n",
       "  background: var(--xr-background-color);\n",
       "  padding-right: 10px;\n",
       "}\n",
       "\n",
       ".xr-attrs dd {\n",
       "  grid-column: 2;\n",
       "  white-space: pre-wrap;\n",
       "  word-break: break-all;\n",
       "}\n",
       "\n",
       ".xr-icon-database,\n",
       ".xr-icon-file-text2 {\n",
       "  display: inline-block;\n",
       "  vertical-align: middle;\n",
       "  width: 1em;\n",
       "  height: 1.5em !important;\n",
       "  stroke-width: 0;\n",
       "  stroke: currentColor;\n",
       "  fill: currentColor;\n",
       "}\n",
       "</style><pre class='xr-text-repr-fallback'>&lt;xarray.Dataset&gt;\n",
       "Dimensions:                         (time: 1, dim_0: 36, dim_1: 1044,\n",
       "                                     dim_2: 1044, dim_3: 1044, dim_4: 1044,\n",
       "                                     dim_5: 1044)\n",
       "Coordinates:\n",
       "  * time                            (time) float64 1.666e+09\n",
       "Dimensions without coordinates: dim_0, dim_1, dim_2, dim_3, dim_4, dim_5\n",
       "Data variables: (12/37)\n",
       "    QEPro_serial                    (time) object &#x27;QEP02875&#x27;\n",
       "    QEPro_model                     (time) object &#x27;QE-PRO&#x27;\n",
       "    QEPro_status                    (time) int64 0\n",
       "    QEPro_status_msg                (time, dim_0) float64 87.0 114.0 ... 0.0\n",
       "    QEPro_device_connected          (time) int64 1\n",
       "    QEPro__QEPro__check_status      (time) int64 0\n",
       "    ...                              ...\n",
       "    QEPro_ref_available             (time) int64 1\n",
       "    QEPro_acquire                   (time) int64 0\n",
       "    QEPro_collect_mode              (time) int64 1\n",
       "    QEPro_spectrum_type             (time) int64 3\n",
       "    QEPro_correction                (time) int64 2\n",
       "    QEPro_trigger_mode              (time) int64 0\n",
       "Attributes:\n",
       "    stream_name:  primary</pre><div class='xr-wrap' style='display:none'><div class='xr-header'><div class='xr-obj-type'>xarray.Dataset</div></div><ul class='xr-sections'><li class='xr-section-item'><input id='section-4a958876-f16e-47f0-b1cd-3d9267f11039' class='xr-section-summary-in' type='checkbox' disabled ><label for='section-4a958876-f16e-47f0-b1cd-3d9267f11039' class='xr-section-summary'  title='Expand/collapse section'>Dimensions:</label><div class='xr-section-inline-details'><ul class='xr-dim-list'><li><span class='xr-has-index'>time</span>: 1</li><li><span>dim_0</span>: 36</li><li><span>dim_1</span>: 1044</li><li><span>dim_2</span>: 1044</li><li><span>dim_3</span>: 1044</li><li><span>dim_4</span>: 1044</li><li><span>dim_5</span>: 1044</li></ul></div><div class='xr-section-details'></div></li><li class='xr-section-item'><input id='section-fec0e29d-c7b2-47c8-bfde-4b5c2db0ed4a' class='xr-section-summary-in' type='checkbox'  checked><label for='section-fec0e29d-c7b2-47c8-bfde-4b5c2db0ed4a' class='xr-section-summary' >Coordinates: <span>(1)</span></label><div class='xr-section-inline-details'></div><div class='xr-section-details'><ul class='xr-var-list'><li class='xr-var-item'><div class='xr-var-name'><span class='xr-has-index'>time</span></div><div class='xr-var-dims'>(time)</div><div class='xr-var-dtype'>float64</div><div class='xr-var-preview xr-preview'>1.666e+09</div><input id='attrs-0f119577-dc19-4cae-841a-2d44b3e57817' class='xr-var-attrs-in' type='checkbox' disabled><label for='attrs-0f119577-dc19-4cae-841a-2d44b3e57817' title='Show/Hide attributes'><svg class='icon xr-icon-file-text2'><use xlink:href='#icon-file-text2'></use></svg></label><input id='data-11e0d088-f56f-4413-89f7-1201400865e5' class='xr-var-data-in' type='checkbox'><label for='data-11e0d088-f56f-4413-89f7-1201400865e5' title='Show/Hide data repr'><svg class='icon xr-icon-database'><use xlink:href='#icon-database'></use></svg></label><div class='xr-var-attrs'><dl class='xr-attrs'></dl></div><div class='xr-var-data'><pre>array([1.666378e+09])</pre></div></li></ul></div></li><li class='xr-section-item'><input id='section-efc194e4-7d64-4258-8034-1033c7f10b56' class='xr-section-summary-in' type='checkbox'  ><label for='section-efc194e4-7d64-4258-8034-1033c7f10b56' class='xr-section-summary' >Data variables: <span>(37)</span></label><div class='xr-section-inline-details'></div><div class='xr-section-details'><ul class='xr-var-list'><li class='xr-var-item'><div class='xr-var-name'><span>QEPro_serial</span></div><div class='xr-var-dims'>(time)</div><div class='xr-var-dtype'>object</div><div class='xr-var-preview xr-preview'>&#x27;QEP02875&#x27;</div><input id='attrs-2a2b8ae4-44b3-4760-86ae-c6819cfc46a3' class='xr-var-attrs-in' type='checkbox' ><label for='attrs-2a2b8ae4-44b3-4760-86ae-c6819cfc46a3' title='Show/Hide attributes'><svg class='icon xr-icon-file-text2'><use xlink:href='#icon-file-text2'></use></svg></label><input id='data-981ec422-f78e-4a21-9fc8-7c11a29f3336' class='xr-var-data-in' type='checkbox'><label for='data-981ec422-f78e-4a21-9fc8-7c11a29f3336' title='Show/Hide data repr'><svg class='icon xr-icon-database'><use xlink:href='#icon-database'></use></svg></label><div class='xr-var-attrs'><dl class='xr-attrs'><dt><span>object :</span></dt><dd>QEPro</dd></dl></div><div class='xr-var-data'><pre>array([&#x27;QEP02875&#x27;], dtype=object)</pre></div></li><li class='xr-var-item'><div class='xr-var-name'><span>QEPro_model</span></div><div class='xr-var-dims'>(time)</div><div class='xr-var-dtype'>object</div><div class='xr-var-preview xr-preview'>&#x27;QE-PRO&#x27;</div><input id='attrs-08b5425d-2112-4bc2-81db-f69e6736aeb9' class='xr-var-attrs-in' type='checkbox' ><label for='attrs-08b5425d-2112-4bc2-81db-f69e6736aeb9' title='Show/Hide attributes'><svg class='icon xr-icon-file-text2'><use xlink:href='#icon-file-text2'></use></svg></label><input id='data-52eabe86-94fe-45b5-b8a3-6a6d0273174b' class='xr-var-data-in' type='checkbox'><label for='data-52eabe86-94fe-45b5-b8a3-6a6d0273174b' title='Show/Hide data repr'><svg class='icon xr-icon-database'><use xlink:href='#icon-database'></use></svg></label><div class='xr-var-attrs'><dl class='xr-attrs'><dt><span>object :</span></dt><dd>QEPro</dd></dl></div><div class='xr-var-data'><pre>array([&#x27;QE-PRO&#x27;], dtype=object)</pre></div></li><li class='xr-var-item'><div class='xr-var-name'><span>QEPro_status</span></div><div class='xr-var-dims'>(time)</div><div class='xr-var-dtype'>int64</div><div class='xr-var-preview xr-preview'>0</div><input id='attrs-f722fb8b-5463-4e6c-832e-a48fb0b63f05' class='xr-var-attrs-in' type='checkbox' ><label for='attrs-f722fb8b-5463-4e6c-832e-a48fb0b63f05' title='Show/Hide attributes'><svg class='icon xr-icon-file-text2'><use xlink:href='#icon-file-text2'></use></svg></label><input id='data-74b362a6-c099-4dee-9559-15d021ea3035' class='xr-var-data-in' type='checkbox'><label for='data-74b362a6-c099-4dee-9559-15d021ea3035' title='Show/Hide data repr'><svg class='icon xr-icon-database'><use xlink:href='#icon-database'></use></svg></label><div class='xr-var-attrs'><dl class='xr-attrs'><dt><span>object :</span></dt><dd>QEPro</dd></dl></div><div class='xr-var-data'><pre>array([0])</pre></div></li><li class='xr-var-item'><div class='xr-var-name'><span>QEPro_status_msg</span></div><div class='xr-var-dims'>(time, dim_0)</div><div class='xr-var-dtype'>float64</div><div class='xr-var-preview xr-preview'>87.0 114.0 111.0 ... 109.0 46.0 0.0</div><input id='attrs-dd5c5f9d-b7d7-4aec-b2cb-7aa039c39a53' class='xr-var-attrs-in' type='checkbox' ><label for='attrs-dd5c5f9d-b7d7-4aec-b2cb-7aa039c39a53' title='Show/Hide attributes'><svg class='icon xr-icon-file-text2'><use xlink:href='#icon-file-text2'></use></svg></label><input id='data-a55f7d18-87e1-4831-89f6-9b425539f676' class='xr-var-data-in' type='checkbox'><label for='data-a55f7d18-87e1-4831-89f6-9b425539f676' title='Show/Hide data repr'><svg class='icon xr-icon-database'><use xlink:href='#icon-database'></use></svg></label><div class='xr-var-attrs'><dl class='xr-attrs'><dt><span>object :</span></dt><dd>QEPro</dd></dl></div><div class='xr-var-data'><pre>array([[ 87., 114., 111., 116., 101.,  32., 111., 117., 116.,  32.,  97.,\n",
       "        118., 101., 114.,  97., 103., 101., 100.,  32., 111., 117., 116.,\n",
       "        112., 117., 116.,  32., 115., 112., 101.,  99., 116., 114., 117.,\n",
       "        109.,  46.,   0.]])</pre></div></li><li class='xr-var-item'><div class='xr-var-name'><span>QEPro_device_connected</span></div><div class='xr-var-dims'>(time)</div><div class='xr-var-dtype'>int64</div><div class='xr-var-preview xr-preview'>1</div><input id='attrs-18ef29a2-1808-4da3-b34a-ee4448cd57ab' class='xr-var-attrs-in' type='checkbox' ><label for='attrs-18ef29a2-1808-4da3-b34a-ee4448cd57ab' title='Show/Hide attributes'><svg class='icon xr-icon-file-text2'><use xlink:href='#icon-file-text2'></use></svg></label><input id='data-e950528b-5102-491c-b111-26ce9664bb0a' class='xr-var-data-in' type='checkbox'><label for='data-e950528b-5102-491c-b111-26ce9664bb0a' title='Show/Hide data repr'><svg class='icon xr-icon-database'><use xlink:href='#icon-database'></use></svg></label><div class='xr-var-attrs'><dl class='xr-attrs'><dt><span>object :</span></dt><dd>QEPro</dd></dl></div><div class='xr-var-data'><pre>array([1])</pre></div></li><li class='xr-var-item'><div class='xr-var-name'><span>QEPro__QEPro__check_status</span></div><div class='xr-var-dims'>(time)</div><div class='xr-var-dtype'>int64</div><div class='xr-var-preview xr-preview'>0</div><input id='attrs-ce0b0316-bc17-4026-8d7c-a7fa5eaafb78' class='xr-var-attrs-in' type='checkbox' ><label for='attrs-ce0b0316-bc17-4026-8d7c-a7fa5eaafb78' title='Show/Hide attributes'><svg class='icon xr-icon-file-text2'><use xlink:href='#icon-file-text2'></use></svg></label><input id='data-2d448527-c4c2-4ace-893f-c2a2120dd1fc' class='xr-var-data-in' type='checkbox'><label for='data-2d448527-c4c2-4ace-893f-c2a2120dd1fc' title='Show/Hide data repr'><svg class='icon xr-icon-database'><use xlink:href='#icon-database'></use></svg></label><div class='xr-var-attrs'><dl class='xr-attrs'><dt><span>object :</span></dt><dd>QEPro</dd></dl></div><div class='xr-var-data'><pre>array([0])</pre></div></li><li class='xr-var-item'><div class='xr-var-name'><span>QEPro_features</span></div><div class='xr-var-dims'>(time)</div><div class='xr-var-dtype'>float64</div><div class='xr-var-preview xr-preview'>14.0</div><input id='attrs-f68c2a45-a99e-4a3a-8c8a-44958303b5a6' class='xr-var-attrs-in' type='checkbox' ><label for='attrs-f68c2a45-a99e-4a3a-8c8a-44958303b5a6' title='Show/Hide attributes'><svg class='icon xr-icon-file-text2'><use xlink:href='#icon-file-text2'></use></svg></label><input id='data-ebd12037-fa8a-4477-98bc-45816660dcb8' class='xr-var-data-in' type='checkbox'><label for='data-ebd12037-fa8a-4477-98bc-45816660dcb8' title='Show/Hide data repr'><svg class='icon xr-icon-database'><use xlink:href='#icon-database'></use></svg></label><div class='xr-var-attrs'><dl class='xr-attrs'><dt><span>object :</span></dt><dd>QEPro</dd></dl></div><div class='xr-var-data'><pre>array([14.])</pre></div></li><li class='xr-var-item'><div class='xr-var-name'><span>QEPro_strobe</span></div><div class='xr-var-dims'>(time)</div><div class='xr-var-dtype'>int64</div><div class='xr-var-preview xr-preview'>0</div><input id='attrs-d97d1360-0252-425d-8dad-a620298fbbe3' class='xr-var-attrs-in' type='checkbox' ><label for='attrs-d97d1360-0252-425d-8dad-a620298fbbe3' title='Show/Hide attributes'><svg class='icon xr-icon-file-text2'><use xlink:href='#icon-file-text2'></use></svg></label><input id='data-17eb655f-078e-4952-a961-b95259cb5640' class='xr-var-data-in' type='checkbox'><label for='data-17eb655f-078e-4952-a961-b95259cb5640' title='Show/Hide data repr'><svg class='icon xr-icon-database'><use xlink:href='#icon-database'></use></svg></label><div class='xr-var-attrs'><dl class='xr-attrs'><dt><span>object :</span></dt><dd>QEPro</dd></dl></div><div class='xr-var-data'><pre>array([0])</pre></div></li><li class='xr-var-item'><div class='xr-var-name'><span>QEPro_shutter</span></div><div class='xr-var-dims'>(time)</div><div class='xr-var-dtype'>int64</div><div class='xr-var-preview xr-preview'>1</div><input id='attrs-784243ce-906b-4f71-aec5-2531a5b4b24b' class='xr-var-attrs-in' type='checkbox' ><label for='attrs-784243ce-906b-4f71-aec5-2531a5b4b24b' title='Show/Hide attributes'><svg class='icon xr-icon-file-text2'><use xlink:href='#icon-file-text2'></use></svg></label><input id='data-b1b11dc2-990f-45a9-a71d-a0ac75d0b320' class='xr-var-data-in' type='checkbox'><label for='data-b1b11dc2-990f-45a9-a71d-a0ac75d0b320' title='Show/Hide data repr'><svg class='icon xr-icon-database'><use xlink:href='#icon-database'></use></svg></label><div class='xr-var-attrs'><dl class='xr-attrs'><dt><span>object :</span></dt><dd>QEPro</dd></dl></div><div class='xr-var-data'><pre>array([1])</pre></div></li><li class='xr-var-item'><div class='xr-var-name'><span>QEPro_tec_device_tec</span></div><div class='xr-var-dims'>(time)</div><div class='xr-var-dtype'>int64</div><div class='xr-var-preview xr-preview'>1</div><input id='attrs-c0c89c19-2e76-4356-8889-501a2631f405' class='xr-var-attrs-in' type='checkbox' ><label for='attrs-c0c89c19-2e76-4356-8889-501a2631f405' title='Show/Hide attributes'><svg class='icon xr-icon-file-text2'><use xlink:href='#icon-file-text2'></use></svg></label><input id='data-1a121392-8dd1-4296-b30b-7af52eb48ca4' class='xr-var-data-in' type='checkbox'><label for='data-1a121392-8dd1-4296-b30b-7af52eb48ca4' title='Show/Hide data repr'><svg class='icon xr-icon-database'><use xlink:href='#icon-database'></use></svg></label><div class='xr-var-attrs'><dl class='xr-attrs'><dt><span>object :</span></dt><dd>QEPro</dd></dl></div><div class='xr-var-data'><pre>array([1])</pre></div></li><li class='xr-var-item'><div class='xr-var-name'><span>QEPro_tec_device_curr_tec_temp</span></div><div class='xr-var-dims'>(time)</div><div class='xr-var-dtype'>float64</div><div class='xr-var-preview xr-preview'>-4.719</div><input id='attrs-364f696b-525e-4c5f-ab48-e1a0f93c7177' class='xr-var-attrs-in' type='checkbox' ><label for='attrs-364f696b-525e-4c5f-ab48-e1a0f93c7177' title='Show/Hide attributes'><svg class='icon xr-icon-file-text2'><use xlink:href='#icon-file-text2'></use></svg></label><input id='data-cef1bff9-1c78-4256-badd-d83b31368a58' class='xr-var-data-in' type='checkbox'><label for='data-cef1bff9-1c78-4256-badd-d83b31368a58' title='Show/Hide data repr'><svg class='icon xr-icon-database'><use xlink:href='#icon-database'></use></svg></label><div class='xr-var-attrs'><dl class='xr-attrs'><dt><span>object :</span></dt><dd>QEPro</dd></dl></div><div class='xr-var-data'><pre>array([-4.71937323])</pre></div></li><li class='xr-var-item'><div class='xr-var-name'><span>QEPro_light_source</span></div><div class='xr-var-dims'>(time)</div><div class='xr-var-dtype'>int64</div><div class='xr-var-preview xr-preview'>0</div><input id='attrs-d42023e8-498b-476e-a03a-b20007259242' class='xr-var-attrs-in' type='checkbox' ><label for='attrs-d42023e8-498b-476e-a03a-b20007259242' title='Show/Hide attributes'><svg class='icon xr-icon-file-text2'><use xlink:href='#icon-file-text2'></use></svg></label><input id='data-3df91ec7-f3f6-4a62-9a4e-db2d64d0c01b' class='xr-var-data-in' type='checkbox'><label for='data-3df91ec7-f3f6-4a62-9a4e-db2d64d0c01b' title='Show/Hide data repr'><svg class='icon xr-icon-database'><use xlink:href='#icon-database'></use></svg></label><div class='xr-var-attrs'><dl class='xr-attrs'><dt><span>object :</span></dt><dd>QEPro</dd></dl></div><div class='xr-var-data'><pre>array([0])</pre></div></li><li class='xr-var-item'><div class='xr-var-name'><span>QEPro_light_source_intensity</span></div><div class='xr-var-dims'>(time)</div><div class='xr-var-dtype'>float64</div><div class='xr-var-preview xr-preview'>0.0</div><input id='attrs-41f6721a-e4c6-4d00-9947-96df23554446' class='xr-var-attrs-in' type='checkbox' ><label for='attrs-41f6721a-e4c6-4d00-9947-96df23554446' title='Show/Hide attributes'><svg class='icon xr-icon-file-text2'><use xlink:href='#icon-file-text2'></use></svg></label><input id='data-bd44ee20-b70b-4d50-969e-f262731e9eca' class='xr-var-data-in' type='checkbox'><label for='data-bd44ee20-b70b-4d50-969e-f262731e9eca' title='Show/Hide data repr'><svg class='icon xr-icon-database'><use xlink:href='#icon-database'></use></svg></label><div class='xr-var-attrs'><dl class='xr-attrs'><dt><span>object :</span></dt><dd>QEPro</dd></dl></div><div class='xr-var-data'><pre>array([0.])</pre></div></li><li class='xr-var-item'><div class='xr-var-name'><span>QEPro_light_source_count</span></div><div class='xr-var-dims'>(time)</div><div class='xr-var-dtype'>float64</div><div class='xr-var-preview xr-preview'>0.0</div><input id='attrs-91ad6ed4-5d6b-43d3-bfbb-5014c783801e' class='xr-var-attrs-in' type='checkbox' ><label for='attrs-91ad6ed4-5d6b-43d3-bfbb-5014c783801e' title='Show/Hide attributes'><svg class='icon xr-icon-file-text2'><use xlink:href='#icon-file-text2'></use></svg></label><input id='data-c92452cb-d247-40d6-a245-2d5cea90dac5' class='xr-var-data-in' type='checkbox'><label for='data-c92452cb-d247-40d6-a245-2d5cea90dac5' title='Show/Hide data repr'><svg class='icon xr-icon-database'><use xlink:href='#icon-database'></use></svg></label><div class='xr-var-attrs'><dl class='xr-attrs'><dt><span>object :</span></dt><dd>QEPro</dd></dl></div><div class='xr-var-data'><pre>array([0.])</pre></div></li><li class='xr-var-item'><div class='xr-var-name'><span>QEPro_num_spectra</span></div><div class='xr-var-dims'>(time)</div><div class='xr-var-dtype'>float64</div><div class='xr-var-preview xr-preview'>10.0</div><input id='attrs-e0ecd7a6-ab78-42f7-8255-73fa3f818279' class='xr-var-attrs-in' type='checkbox' ><label for='attrs-e0ecd7a6-ab78-42f7-8255-73fa3f818279' title='Show/Hide attributes'><svg class='icon xr-icon-file-text2'><use xlink:href='#icon-file-text2'></use></svg></label><input id='data-ea62b1b7-5e37-4e91-a5ab-dbdccd52d7a7' class='xr-var-data-in' type='checkbox'><label for='data-ea62b1b7-5e37-4e91-a5ab-dbdccd52d7a7' title='Show/Hide data repr'><svg class='icon xr-icon-database'><use xlink:href='#icon-database'></use></svg></label><div class='xr-var-attrs'><dl class='xr-attrs'><dt><span>object :</span></dt><dd>QEPro</dd></dl></div><div class='xr-var-data'><pre>array([10.])</pre></div></li><li class='xr-var-item'><div class='xr-var-name'><span>QEPro_spectra_collected</span></div><div class='xr-var-dims'>(time)</div><div class='xr-var-dtype'>float64</div><div class='xr-var-preview xr-preview'>10.0</div><input id='attrs-873bd1eb-7f03-46ac-bb88-bfd3aff0e983' class='xr-var-attrs-in' type='checkbox' ><label for='attrs-873bd1eb-7f03-46ac-bb88-bfd3aff0e983' title='Show/Hide attributes'><svg class='icon xr-icon-file-text2'><use xlink:href='#icon-file-text2'></use></svg></label><input id='data-4cdd1fdd-c63c-46cf-ba19-c7c93a00b59e' class='xr-var-data-in' type='checkbox'><label for='data-4cdd1fdd-c63c-46cf-ba19-c7c93a00b59e' title='Show/Hide data repr'><svg class='icon xr-icon-database'><use xlink:href='#icon-database'></use></svg></label><div class='xr-var-attrs'><dl class='xr-attrs'><dt><span>object :</span></dt><dd>QEPro</dd></dl></div><div class='xr-var-data'><pre>array([10.])</pre></div></li><li class='xr-var-item'><div class='xr-var-name'><span>QEPro_int_min_time</span></div><div class='xr-var-dims'>(time)</div><div class='xr-var-dtype'>float64</div><div class='xr-var-preview xr-preview'>10.0</div><input id='attrs-0cd1e472-7b38-4f77-801b-805d95f482a3' class='xr-var-attrs-in' type='checkbox' ><label for='attrs-0cd1e472-7b38-4f77-801b-805d95f482a3' title='Show/Hide attributes'><svg class='icon xr-icon-file-text2'><use xlink:href='#icon-file-text2'></use></svg></label><input id='data-2612f826-dd6b-430d-bf02-79a711fa8c66' class='xr-var-data-in' type='checkbox'><label for='data-2612f826-dd6b-430d-bf02-79a711fa8c66' title='Show/Hide data repr'><svg class='icon xr-icon-database'><use xlink:href='#icon-database'></use></svg></label><div class='xr-var-attrs'><dl class='xr-attrs'><dt><span>object :</span></dt><dd>QEPro</dd></dl></div><div class='xr-var-data'><pre>array([10.])</pre></div></li><li class='xr-var-item'><div class='xr-var-name'><span>QEPro_int_max_time</span></div><div class='xr-var-dims'>(time)</div><div class='xr-var-dtype'>float64</div><div class='xr-var-preview xr-preview'>1.6e+06</div><input id='attrs-a48e8afa-268d-4206-90b1-b3514f8c70ec' class='xr-var-attrs-in' type='checkbox' ><label for='attrs-a48e8afa-268d-4206-90b1-b3514f8c70ec' title='Show/Hide attributes'><svg class='icon xr-icon-file-text2'><use xlink:href='#icon-file-text2'></use></svg></label><input id='data-30995a8c-7b76-443f-a8b3-0a58cd2aaab4' class='xr-var-data-in' type='checkbox'><label for='data-30995a8c-7b76-443f-a8b3-0a58cd2aaab4' title='Show/Hide data repr'><svg class='icon xr-icon-database'><use xlink:href='#icon-database'></use></svg></label><div class='xr-var-attrs'><dl class='xr-attrs'><dt><span>object :</span></dt><dd>QEPro</dd></dl></div><div class='xr-var-data'><pre>array([1600000.])</pre></div></li><li class='xr-var-item'><div class='xr-var-name'><span>QEPro_integration_time</span></div><div class='xr-var-dims'>(time)</div><div class='xr-var-dtype'>float64</div><div class='xr-var-preview xr-preview'>100.0</div><input id='attrs-5d136248-b6a8-488c-bf91-dc9320f69b02' class='xr-var-attrs-in' type='checkbox' ><label for='attrs-5d136248-b6a8-488c-bf91-dc9320f69b02' title='Show/Hide attributes'><svg class='icon xr-icon-file-text2'><use xlink:href='#icon-file-text2'></use></svg></label><input id='data-c02b645f-2053-47ef-a14c-a0fed55fcc2e' class='xr-var-data-in' type='checkbox'><label for='data-c02b645f-2053-47ef-a14c-a0fed55fcc2e' title='Show/Hide data repr'><svg class='icon xr-icon-database'><use xlink:href='#icon-database'></use></svg></label><div class='xr-var-attrs'><dl class='xr-attrs'><dt><span>object :</span></dt><dd>QEPro</dd></dl></div><div class='xr-var-data'><pre>array([100.])</pre></div></li><li class='xr-var-item'><div class='xr-var-name'><span>QEPro_buff_min_capacity</span></div><div class='xr-var-dims'>(time)</div><div class='xr-var-dtype'>float64</div><div class='xr-var-preview xr-preview'>1.0</div><input id='attrs-62c03213-e0c3-438a-baa6-d145c07e6109' class='xr-var-attrs-in' type='checkbox' ><label for='attrs-62c03213-e0c3-438a-baa6-d145c07e6109' title='Show/Hide attributes'><svg class='icon xr-icon-file-text2'><use xlink:href='#icon-file-text2'></use></svg></label><input id='data-5bfc3205-8d42-4971-806d-05ae16b6fbfa' class='xr-var-data-in' type='checkbox'><label for='data-5bfc3205-8d42-4971-806d-05ae16b6fbfa' title='Show/Hide data repr'><svg class='icon xr-icon-database'><use xlink:href='#icon-database'></use></svg></label><div class='xr-var-attrs'><dl class='xr-attrs'><dt><span>object :</span></dt><dd>QEPro</dd></dl></div><div class='xr-var-data'><pre>array([1.])</pre></div></li><li class='xr-var-item'><div class='xr-var-name'><span>QEPro_buff_max_capacity</span></div><div class='xr-var-dims'>(time)</div><div class='xr-var-dtype'>float64</div><div class='xr-var-preview xr-preview'>1.5e+04</div><input id='attrs-b64ecd84-67b7-4efa-bcbc-81b34455c079' class='xr-var-attrs-in' type='checkbox' ><label for='attrs-b64ecd84-67b7-4efa-bcbc-81b34455c079' title='Show/Hide attributes'><svg class='icon xr-icon-file-text2'><use xlink:href='#icon-file-text2'></use></svg></label><input id='data-ac13483e-886c-413d-b49a-cdd77ca200aa' class='xr-var-data-in' type='checkbox'><label for='data-ac13483e-886c-413d-b49a-cdd77ca200aa' title='Show/Hide data repr'><svg class='icon xr-icon-database'><use xlink:href='#icon-database'></use></svg></label><div class='xr-var-attrs'><dl class='xr-attrs'><dt><span>object :</span></dt><dd>QEPro</dd></dl></div><div class='xr-var-data'><pre>array([15000.])</pre></div></li><li class='xr-var-item'><div class='xr-var-name'><span>QEPro_buff_capacity</span></div><div class='xr-var-dims'>(time)</div><div class='xr-var-dtype'>float64</div><div class='xr-var-preview xr-preview'>1.0</div><input id='attrs-5b052053-96aa-45f1-bbf2-1dcde2e3e671' class='xr-var-attrs-in' type='checkbox' ><label for='attrs-5b052053-96aa-45f1-bbf2-1dcde2e3e671' title='Show/Hide attributes'><svg class='icon xr-icon-file-text2'><use xlink:href='#icon-file-text2'></use></svg></label><input id='data-12ac250d-d2be-4262-88b1-f63cf8481bbb' class='xr-var-data-in' type='checkbox'><label for='data-12ac250d-d2be-4262-88b1-f63cf8481bbb' title='Show/Hide data repr'><svg class='icon xr-icon-database'><use xlink:href='#icon-database'></use></svg></label><div class='xr-var-attrs'><dl class='xr-attrs'><dt><span>object :</span></dt><dd>QEPro</dd></dl></div><div class='xr-var-data'><pre>array([1.])</pre></div></li><li class='xr-var-item'><div class='xr-var-name'><span>QEPro_buff_element_count</span></div><div class='xr-var-dims'>(time)</div><div class='xr-var-dtype'>float64</div><div class='xr-var-preview xr-preview'>1.0</div><input id='attrs-513eaa8b-aecb-4a4a-9ad6-42177057646a' class='xr-var-attrs-in' type='checkbox' ><label for='attrs-513eaa8b-aecb-4a4a-9ad6-42177057646a' title='Show/Hide attributes'><svg class='icon xr-icon-file-text2'><use xlink:href='#icon-file-text2'></use></svg></label><input id='data-f55f52e0-fed1-4d7c-bbd2-cf2fc2e8889c' class='xr-var-data-in' type='checkbox'><label for='data-f55f52e0-fed1-4d7c-bbd2-cf2fc2e8889c' title='Show/Hide data repr'><svg class='icon xr-icon-database'><use xlink:href='#icon-database'></use></svg></label><div class='xr-var-attrs'><dl class='xr-attrs'><dt><span>object :</span></dt><dd>QEPro</dd></dl></div><div class='xr-var-data'><pre>array([1.])</pre></div></li><li class='xr-var-item'><div class='xr-var-name'><span>QEPro_output</span></div><div class='xr-var-dims'>(time, dim_1)</div><div class='xr-var-dtype'>float64</div><div class='xr-var-preview xr-preview'>0.09146 nan nan ... nan 0.5093 nan</div><input id='attrs-75749395-d5ec-46da-92e5-798691fed9d7' class='xr-var-attrs-in' type='checkbox' ><label for='attrs-75749395-d5ec-46da-92e5-798691fed9d7' title='Show/Hide attributes'><svg class='icon xr-icon-file-text2'><use xlink:href='#icon-file-text2'></use></svg></label><input id='data-e393ade9-b3c1-4afe-9078-77370da82a49' class='xr-var-data-in' type='checkbox'><label for='data-e393ade9-b3c1-4afe-9078-77370da82a49' title='Show/Hide data repr'><svg class='icon xr-icon-database'><use xlink:href='#icon-database'></use></svg></label><div class='xr-var-attrs'><dl class='xr-attrs'><dt><span>object :</span></dt><dd>QEPro</dd></dl></div><div class='xr-var-data'><pre>array([[0.09145674,        nan,        nan, ...,        nan, 0.50934029,\n",
       "               nan]])</pre></div></li><li class='xr-var-item'><div class='xr-var-name'><span>QEPro_sample</span></div><div class='xr-var-dims'>(time, dim_2)</div><div class='xr-var-dtype'>float64</div><div class='xr-var-preview xr-preview'>14.32 -0.375 ... -2.675 -2.175</div><input id='attrs-444cdc0f-aa90-494e-a08b-698099819e6c' class='xr-var-attrs-in' type='checkbox' ><label for='attrs-444cdc0f-aa90-494e-a08b-698099819e6c' title='Show/Hide attributes'><svg class='icon xr-icon-file-text2'><use xlink:href='#icon-file-text2'></use></svg></label><input id='data-1b32a2e9-83d3-40e8-a3cb-8729e520c08a' class='xr-var-data-in' type='checkbox'><label for='data-1b32a2e9-83d3-40e8-a3cb-8729e520c08a' title='Show/Hide data repr'><svg class='icon xr-icon-database'><use xlink:href='#icon-database'></use></svg></label><div class='xr-var-attrs'><dl class='xr-attrs'><dt><span>object :</span></dt><dd>QEPro</dd></dl></div><div class='xr-var-data'><pre>array([[14.325, -0.375, -2.475, ..., -1.775, -2.675, -2.175]])</pre></div></li><li class='xr-var-item'><div class='xr-var-name'><span>QEPro_dark</span></div><div class='xr-var-dims'>(time, dim_3)</div><div class='xr-var-dtype'>float64</div><div class='xr-var-preview xr-preview'>10.88 -2.125 ... -4.125 -0.125</div><input id='attrs-170c72b8-b0c3-42dd-a387-1825f6a879fc' class='xr-var-attrs-in' type='checkbox' ><label for='attrs-170c72b8-b0c3-42dd-a387-1825f6a879fc' title='Show/Hide attributes'><svg class='icon xr-icon-file-text2'><use xlink:href='#icon-file-text2'></use></svg></label><input id='data-6ef6daa1-3b1c-4ad2-b616-946df1d2192d' class='xr-var-data-in' type='checkbox'><label for='data-6ef6daa1-3b1c-4ad2-b616-946df1d2192d' title='Show/Hide data repr'><svg class='icon xr-icon-database'><use xlink:href='#icon-database'></use></svg></label><div class='xr-var-attrs'><dl class='xr-attrs'><dt><span>object :</span></dt><dd>QEPro</dd></dl></div><div class='xr-var-data'><pre>array([[10.875, -2.125, -1.125, ...,  0.875, -4.125, -0.125]])</pre></div></li><li class='xr-var-item'><div class='xr-var-name'><span>QEPro_reference</span></div><div class='xr-var-dims'>(time, dim_4)</div><div class='xr-var-dtype'>float64</div><div class='xr-var-preview xr-preview'>14.38 -1.625 ... -0.625 -2.625</div><input id='attrs-2b9532cd-a80e-4b12-a265-ba20bc8afb5c' class='xr-var-attrs-in' type='checkbox' ><label for='attrs-2b9532cd-a80e-4b12-a265-ba20bc8afb5c' title='Show/Hide attributes'><svg class='icon xr-icon-file-text2'><use xlink:href='#icon-file-text2'></use></svg></label><input id='data-3a30b819-d209-46d5-90e2-7b3f3613d43e' class='xr-var-data-in' type='checkbox'><label for='data-3a30b819-d209-46d5-90e2-7b3f3613d43e' title='Show/Hide data repr'><svg class='icon xr-icon-database'><use xlink:href='#icon-database'></use></svg></label><div class='xr-var-attrs'><dl class='xr-attrs'><dt><span>object :</span></dt><dd>QEPro</dd></dl></div><div class='xr-var-data'><pre>array([[14.375, -1.625, -2.625, ..., -0.625, -0.625, -2.625]])</pre></div></li><li class='xr-var-item'><div class='xr-var-name'><span>QEPro_formatted_spectrum_len</span></div><div class='xr-var-dims'>(time)</div><div class='xr-var-dtype'>float64</div><div class='xr-var-preview xr-preview'>1.044e+03</div><input id='attrs-072364eb-7c40-4787-9ee4-e488a735894b' class='xr-var-attrs-in' type='checkbox' ><label for='attrs-072364eb-7c40-4787-9ee4-e488a735894b' title='Show/Hide attributes'><svg class='icon xr-icon-file-text2'><use xlink:href='#icon-file-text2'></use></svg></label><input id='data-d9756cd6-904b-4da8-aa79-c741f5b9fe81' class='xr-var-data-in' type='checkbox'><label for='data-d9756cd6-904b-4da8-aa79-c741f5b9fe81' title='Show/Hide data repr'><svg class='icon xr-icon-database'><use xlink:href='#icon-database'></use></svg></label><div class='xr-var-attrs'><dl class='xr-attrs'><dt><span>object :</span></dt><dd>QEPro</dd></dl></div><div class='xr-var-data'><pre>array([1044.])</pre></div></li><li class='xr-var-item'><div class='xr-var-name'><span>QEPro_x_axis</span></div><div class='xr-var-dims'>(time, dim_5)</div><div class='xr-var-dtype'>float64</div><div class='xr-var-preview xr-preview'>196.3 197.1 197.9 ... 991.6 992.3</div><input id='attrs-a2be8b4a-805b-4a23-bb66-6c0571b62a77' class='xr-var-attrs-in' type='checkbox' ><label for='attrs-a2be8b4a-805b-4a23-bb66-6c0571b62a77' title='Show/Hide attributes'><svg class='icon xr-icon-file-text2'><use xlink:href='#icon-file-text2'></use></svg></label><input id='data-3351bf98-c33e-4afd-9b3b-35b647792791' class='xr-var-data-in' type='checkbox'><label for='data-3351bf98-c33e-4afd-9b3b-35b647792791' title='Show/Hide data repr'><svg class='icon xr-icon-database'><use xlink:href='#icon-database'></use></svg></label><div class='xr-var-attrs'><dl class='xr-attrs'><dt><span>object :</span></dt><dd>QEPro</dd></dl></div><div class='xr-var-data'><pre>array([[196.26286316, 197.06623234, 197.86952943, ..., 990.86000236,\n",
       "        991.58057123, 992.30105309]])</pre></div></li><li class='xr-var-item'><div class='xr-var-name'><span>QEPro_x_axis_format</span></div><div class='xr-var-dims'>(time)</div><div class='xr-var-dtype'>int64</div><div class='xr-var-preview xr-preview'>0</div><input id='attrs-1eebf57d-b218-4e7d-a689-b0b4718c1654' class='xr-var-attrs-in' type='checkbox' ><label for='attrs-1eebf57d-b218-4e7d-a689-b0b4718c1654' title='Show/Hide attributes'><svg class='icon xr-icon-file-text2'><use xlink:href='#icon-file-text2'></use></svg></label><input id='data-c52f7379-a13b-447e-90ed-f43929296c8b' class='xr-var-data-in' type='checkbox'><label for='data-c52f7379-a13b-447e-90ed-f43929296c8b' title='Show/Hide data repr'><svg class='icon xr-icon-database'><use xlink:href='#icon-database'></use></svg></label><div class='xr-var-attrs'><dl class='xr-attrs'><dt><span>object :</span></dt><dd>QEPro</dd></dl></div><div class='xr-var-data'><pre>array([0])</pre></div></li><li class='xr-var-item'><div class='xr-var-name'><span>QEPro_dark_available</span></div><div class='xr-var-dims'>(time)</div><div class='xr-var-dtype'>int64</div><div class='xr-var-preview xr-preview'>1</div><input id='attrs-5577de3d-3c77-4bbc-aa9c-e30fcaf9eb4b' class='xr-var-attrs-in' type='checkbox' ><label for='attrs-5577de3d-3c77-4bbc-aa9c-e30fcaf9eb4b' title='Show/Hide attributes'><svg class='icon xr-icon-file-text2'><use xlink:href='#icon-file-text2'></use></svg></label><input id='data-555356d0-e26a-432c-9d85-8166f109f405' class='xr-var-data-in' type='checkbox'><label for='data-555356d0-e26a-432c-9d85-8166f109f405' title='Show/Hide data repr'><svg class='icon xr-icon-database'><use xlink:href='#icon-database'></use></svg></label><div class='xr-var-attrs'><dl class='xr-attrs'><dt><span>object :</span></dt><dd>QEPro</dd></dl></div><div class='xr-var-data'><pre>array([1])</pre></div></li><li class='xr-var-item'><div class='xr-var-name'><span>QEPro_ref_available</span></div><div class='xr-var-dims'>(time)</div><div class='xr-var-dtype'>int64</div><div class='xr-var-preview xr-preview'>1</div><input id='attrs-44dae4e8-a226-418f-bbd1-ecb2136e2842' class='xr-var-attrs-in' type='checkbox' ><label for='attrs-44dae4e8-a226-418f-bbd1-ecb2136e2842' title='Show/Hide attributes'><svg class='icon xr-icon-file-text2'><use xlink:href='#icon-file-text2'></use></svg></label><input id='data-10acc728-fd4e-4f1a-92a6-a238174fbce6' class='xr-var-data-in' type='checkbox'><label for='data-10acc728-fd4e-4f1a-92a6-a238174fbce6' title='Show/Hide data repr'><svg class='icon xr-icon-database'><use xlink:href='#icon-database'></use></svg></label><div class='xr-var-attrs'><dl class='xr-attrs'><dt><span>object :</span></dt><dd>QEPro</dd></dl></div><div class='xr-var-data'><pre>array([1])</pre></div></li><li class='xr-var-item'><div class='xr-var-name'><span>QEPro_acquire</span></div><div class='xr-var-dims'>(time)</div><div class='xr-var-dtype'>int64</div><div class='xr-var-preview xr-preview'>0</div><input id='attrs-474a728d-dff0-44cc-acf5-9f76d1eb27a3' class='xr-var-attrs-in' type='checkbox' ><label for='attrs-474a728d-dff0-44cc-acf5-9f76d1eb27a3' title='Show/Hide attributes'><svg class='icon xr-icon-file-text2'><use xlink:href='#icon-file-text2'></use></svg></label><input id='data-981a73bf-62bc-4d88-b921-ca15c142878c' class='xr-var-data-in' type='checkbox'><label for='data-981a73bf-62bc-4d88-b921-ca15c142878c' title='Show/Hide data repr'><svg class='icon xr-icon-database'><use xlink:href='#icon-database'></use></svg></label><div class='xr-var-attrs'><dl class='xr-attrs'><dt><span>object :</span></dt><dd>QEPro</dd></dl></div><div class='xr-var-data'><pre>array([0])</pre></div></li><li class='xr-var-item'><div class='xr-var-name'><span>QEPro_collect_mode</span></div><div class='xr-var-dims'>(time)</div><div class='xr-var-dtype'>int64</div><div class='xr-var-preview xr-preview'>1</div><input id='attrs-0778cc03-9ea6-45e1-b530-cf8d0ea6f28d' class='xr-var-attrs-in' type='checkbox' ><label for='attrs-0778cc03-9ea6-45e1-b530-cf8d0ea6f28d' title='Show/Hide attributes'><svg class='icon xr-icon-file-text2'><use xlink:href='#icon-file-text2'></use></svg></label><input id='data-37dd6d88-4bcc-4bac-b9a6-963cfdefab2c' class='xr-var-data-in' type='checkbox'><label for='data-37dd6d88-4bcc-4bac-b9a6-963cfdefab2c' title='Show/Hide data repr'><svg class='icon xr-icon-database'><use xlink:href='#icon-database'></use></svg></label><div class='xr-var-attrs'><dl class='xr-attrs'><dt><span>object :</span></dt><dd>QEPro</dd></dl></div><div class='xr-var-data'><pre>array([1])</pre></div></li><li class='xr-var-item'><div class='xr-var-name'><span>QEPro_spectrum_type</span></div><div class='xr-var-dims'>(time)</div><div class='xr-var-dtype'>int64</div><div class='xr-var-preview xr-preview'>3</div><input id='attrs-be176cb8-8da7-4624-8916-9131b9c58b24' class='xr-var-attrs-in' type='checkbox' ><label for='attrs-be176cb8-8da7-4624-8916-9131b9c58b24' title='Show/Hide attributes'><svg class='icon xr-icon-file-text2'><use xlink:href='#icon-file-text2'></use></svg></label><input id='data-813e40fc-7d7d-473e-bd36-10657bcd3871' class='xr-var-data-in' type='checkbox'><label for='data-813e40fc-7d7d-473e-bd36-10657bcd3871' title='Show/Hide data repr'><svg class='icon xr-icon-database'><use xlink:href='#icon-database'></use></svg></label><div class='xr-var-attrs'><dl class='xr-attrs'><dt><span>object :</span></dt><dd>QEPro</dd></dl></div><div class='xr-var-data'><pre>array([3])</pre></div></li><li class='xr-var-item'><div class='xr-var-name'><span>QEPro_correction</span></div><div class='xr-var-dims'>(time)</div><div class='xr-var-dtype'>int64</div><div class='xr-var-preview xr-preview'>2</div><input id='attrs-fcb04082-cfd9-465e-bf8b-b33ee179a88b' class='xr-var-attrs-in' type='checkbox' ><label for='attrs-fcb04082-cfd9-465e-bf8b-b33ee179a88b' title='Show/Hide attributes'><svg class='icon xr-icon-file-text2'><use xlink:href='#icon-file-text2'></use></svg></label><input id='data-32c0278e-0c8a-488c-83c6-84658155d396' class='xr-var-data-in' type='checkbox'><label for='data-32c0278e-0c8a-488c-83c6-84658155d396' title='Show/Hide data repr'><svg class='icon xr-icon-database'><use xlink:href='#icon-database'></use></svg></label><div class='xr-var-attrs'><dl class='xr-attrs'><dt><span>object :</span></dt><dd>QEPro</dd></dl></div><div class='xr-var-data'><pre>array([2])</pre></div></li><li class='xr-var-item'><div class='xr-var-name'><span>QEPro_trigger_mode</span></div><div class='xr-var-dims'>(time)</div><div class='xr-var-dtype'>int64</div><div class='xr-var-preview xr-preview'>0</div><input id='attrs-f8cc412c-a432-403a-8c11-19cab085e6e0' class='xr-var-attrs-in' type='checkbox' ><label for='attrs-f8cc412c-a432-403a-8c11-19cab085e6e0' title='Show/Hide attributes'><svg class='icon xr-icon-file-text2'><use xlink:href='#icon-file-text2'></use></svg></label><input id='data-4a729865-887e-40c8-9e7f-bd79b9a9f376' class='xr-var-data-in' type='checkbox'><label for='data-4a729865-887e-40c8-9e7f-bd79b9a9f376' title='Show/Hide data repr'><svg class='icon xr-icon-database'><use xlink:href='#icon-database'></use></svg></label><div class='xr-var-attrs'><dl class='xr-attrs'><dt><span>object :</span></dt><dd>QEPro</dd></dl></div><div class='xr-var-data'><pre>array([0])</pre></div></li></ul></div></li><li class='xr-section-item'><input id='section-9b20076e-e0cf-42b7-8be6-614908f12cbb' class='xr-section-summary-in' type='checkbox'  checked><label for='section-9b20076e-e0cf-42b7-8be6-614908f12cbb' class='xr-section-summary' >Attributes: <span>(1)</span></label><div class='xr-section-inline-details'></div><div class='xr-section-details'><dl class='xr-attrs'><dt><span>stream_name :</span></dt><dd>primary</dd></dl></div></li></ul></div></div>"
      ],
      "text/plain": [
       "<xarray.Dataset>\n",
       "Dimensions:                         (time: 1, dim_0: 36, dim_1: 1044,\n",
       "                                     dim_2: 1044, dim_3: 1044, dim_4: 1044,\n",
       "                                     dim_5: 1044)\n",
       "Coordinates:\n",
       "  * time                            (time) float64 1.666e+09\n",
       "Dimensions without coordinates: dim_0, dim_1, dim_2, dim_3, dim_4, dim_5\n",
       "Data variables: (12/37)\n",
       "    QEPro_serial                    (time) object 'QEP02875'\n",
       "    QEPro_model                     (time) object 'QE-PRO'\n",
       "    QEPro_status                    (time) int64 0\n",
       "    QEPro_status_msg                (time, dim_0) float64 87.0 114.0 ... 0.0\n",
       "    QEPro_device_connected          (time) int64 1\n",
       "    QEPro__QEPro__check_status      (time) int64 0\n",
       "    ...                              ...\n",
       "    QEPro_ref_available             (time) int64 1\n",
       "    QEPro_acquire                   (time) int64 0\n",
       "    QEPro_collect_mode              (time) int64 1\n",
       "    QEPro_spectrum_type             (time) int64 3\n",
       "    QEPro_correction                (time) int64 2\n",
       "    QEPro_trigger_mode              (time) int64 0\n",
       "Attributes:\n",
       "    stream_name:  primary"
      ]
     },
     "execution_count": 15,
     "metadata": {},
     "output_type": "execute_result"
    }
   ],
   "source": [
    "ds"
   ]
  },
  {
   "cell_type": "code",
   "execution_count": 17,
   "id": "963c31ca-003e-4d9f-9ba8-04158d5af237",
   "metadata": {},
   "outputs": [
    {
     "data": {
      "text/plain": [
       "[<matplotlib.lines.Line2D at 0x2b6bd84dc310>]"
      ]
     },
     "execution_count": 17,
     "metadata": {},
     "output_type": "execute_result"
    },
    {
     "data": {
      "image/png": "[encoded data removed]",
      "text/plain": [
       "<Figure size 432x288 with 1 Axes>"
      ]
     },
     "metadata": {
      "needs_background": "light"
     },
     "output_type": "display_data"
    }
   ],
   "source": [
    "ds[\"QEPro_dark\"].plot()"
   ]
  },
  {
   "cell_type": "code",
   "execution_count": null,
   "id": "5631b06a-52a2-4b44-b710-192c32c49d6b",
   "metadata": {},
   "outputs": [],
   "source": []
  }
 ],
 "metadata": {
  "kernelspec": {
   "display_name": "Python 3",
   "language": "python",
   "name": "python3"
  },
  "language_info": {
   "codemirror_mode": {
    "name": "ipython",
    "version": 3
   },
   "file_extension": ".py",
   "mimetype": "text/x-python",
   "name": "python",
   "nbconvert_exporter": "python",
   "pygments_lexer": "ipython3",
   "version": "3.9.12"
  }
 },
 "nbformat": 4,
 "nbformat_minor": 5
}
