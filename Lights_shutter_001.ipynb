{
 "cells": [
  {
   "cell_type": "code",
   "execution_count": 12,
   "id": "64934e05-23ec-4c22-8f97-fd4420b0888e",
   "metadata": {},
   "outputs": [],
   "source": [
    "from ophyd import Device, EpicsMotor, EpicsSignal, EpicsSignalRO\n",
    "from ophyd import Component as Cpt\n",
    "import time\n",
    "import pandas as pd\n",
    "import numpy as np\n",
    "import bluesky.plan_stubs as bps"
   ]
  },
  {
   "cell_type": "code",
   "execution_count": 13,
   "id": "2f66ca66-475f-41c3-a9ef-04e8a5fea1fa",
   "metadata": {},
   "outputs": [],
   "source": [
    "LED = EpicsSignal('XF:28IDC-ES:1{Light:Flu-LED:1}Cmd', name='LED_M365LP1', string=True, kind='hinted')\n",
    "# 0: 'Low'; 1: 'High'\n",
    "\n",
    "deuterium = EpicsSignal('XF:28IDC-ES:1{Light:Abs-Dut:1}Cmd', name='Deuterium', string=True, kind='Config')\n",
    "# 0: 'Low'; 1: 'High'\n",
    "\n",
    "halogen = EpicsSignal('XF:28IDC-ES:1{Light:Abs-Hal:1}Cmd', name='Halogen', string=True, kind='Config')\n",
    "# 0: 'Low'; 1: 'High'\n",
    "\n",
    "UV_shutter = EpicsSignal('XF:28IDC-ES:1{Light:Abs-Sht:1}Cmd', name='UV_shutter', string=True, kind='hinted')\n",
    "# 0: 'Low' --> shutter close.; 1: 'High' --> Shutter open.\n",
    "\n",
    "\n",
    "def LED_on():\n",
    "    yield from bps.abs_set(LED, 'High', wait=True)\n",
    "    #LED.put('High', wait=True)\n",
    "    #return LED.get()\n",
    "    \n",
    "def LED_off():\n",
    "     yield from bps.abs_set(LED, 'Low', wait=True)\n",
    "    #LED.put('Low', wait=True)\n",
    "    #return LED.get()\n",
    "    \n",
    "def shutter_open():\n",
    "    yield from bps.abs_set(UV_shutter, 'High', wait=True)\n",
    "    #UV_shutter.put('High', wait=True)\n",
    "    #return UV_shutter.get()\n",
    "    #return (yield from bps.rd(UV_shutter))\n",
    "    \n",
    "def shutter_close():\n",
    "    yield from bps.abs_set(UV_shutter, 'Low', wait=True)\n",
    "    #UV_shutter.put('Low', wait=True)\n",
    "    #return UV_shutter.get()\n",
    "    "
   ]
  },
  {
   "cell_type": "code",
   "execution_count": null,
   "id": "633048e7-0783-41d3-99bc-e55f6d07ce8a",
   "metadata": {},
   "outputs": [],
   "source": [
    "RE(LED_on())"
   ]
  },
  {
   "cell_type": "code",
   "execution_count": null,
   "id": "f90b9897-0a00-4d07-85e8-45f8c09b10cc",
   "metadata": {},
   "outputs": [],
   "source": [
    "RE(LED_off())"
   ]
  },
  {
   "cell_type": "code",
   "execution_count": null,
   "id": "76d9c99d-4b26-452f-b000-f779fcb2db08",
   "metadata": {},
   "outputs": [],
   "source": [
    "RE(shutter_close())"
   ]
  },
  {
   "cell_type": "code",
   "execution_count": null,
   "id": "05ee280f-392b-480a-8318-de1eac7fdb68",
   "metadata": {},
   "outputs": [],
   "source": [
    "RE(shutter_open())"
   ]
  },
  {
   "cell_type": "code",
   "execution_count": null,
   "id": "bea70347-4212-4d42-b032-ced7889afc47",
   "metadata": {},
   "outputs": [],
   "source": [
    "RE(bps.read(UV_shutter))"
   ]
  },
  {
   "cell_type": "code",
   "execution_count": null,
   "id": "2612392d-532f-4762-8f67-6bfee06f1f64",
   "metadata": {
    "tags": []
   },
   "outputs": [],
   "source": [
    "deuterium.put('Low')"
   ]
  },
  {
   "cell_type": "code",
   "execution_count": null,
   "id": "68127d37-7405-4d4d-8a1d-78ee6d43de4a",
   "metadata": {},
   "outputs": [],
   "source": [
    "deuterium.get()"
   ]
  },
  {
   "cell_type": "code",
   "execution_count": null,
   "id": "c17dd46f-ec7d-4d6a-86cc-6ab0dc6b4285",
   "metadata": {},
   "outputs": [],
   "source": [
    "halogen.put(0)"
   ]
  },
  {
   "cell_type": "code",
   "execution_count": null,
   "id": "4f658d76-4a6c-4d67-9335-31c6e8dc5c0f",
   "metadata": {},
   "outputs": [],
   "source": [
    "halogen.get()"
   ]
  },
  {
   "cell_type": "code",
   "execution_count": null,
   "id": "d1459548-df9e-4490-968b-4ec5ab80f75d",
   "metadata": {},
   "outputs": [],
   "source": [
    "UV_shutter.put(0)"
   ]
  },
  {
   "cell_type": "code",
   "execution_count": null,
   "id": "733fd395-0f27-49bb-8bdc-4031b145ae12",
   "metadata": {},
   "outputs": [],
   "source": [
    "dds2_p1.disable_pump()"
   ]
  },
  {
   "cell_type": "code",
   "execution_count": null,
   "id": "552f684f-c029-47d3-8fe3-e1c4da263856",
   "metadata": {
    "tags": []
   },
   "outputs": [],
   "source": [
    "a = list(ultra1.read().items())\n",
    "a[0]"
   ]
  },
  {
   "cell_type": "code",
   "execution_count": null,
   "id": "d9adf378-c728-47ee-be16-faa53e7bd304",
   "metadata": {},
   "outputs": [],
   "source": [
    "from bluesky import RunEngine\n",
    "import bluesky.plan_stubs as bps\n",
    "RE = RunEngine({})"
   ]
  },
  {
   "cell_type": "code",
   "execution_count": null,
   "id": "2dc2eab4-12b2-4e1c-8c45-f03cc207dc3a",
   "metadata": {},
   "outputs": [],
   "source": [
    "ultra1.communication.put(0)"
   ]
  },
  {
   "cell_type": "code",
   "execution_count": null,
   "id": "3e4fe684-cd6d-4fd9-9103-195ae0849c73",
   "metadata": {},
   "outputs": [],
   "source": [
    "ultra1.update_pump.put(6)"
   ]
  },
  {
   "cell_type": "code",
   "execution_count": null,
   "id": "18187854-6837-4f39-a8bf-357809d89763",
   "metadata": {},
   "outputs": [],
   "source": [
    "RE(bps.abs_set(ultra1.pump_withdraw, 1))"
   ]
  },
  {
   "cell_type": "code",
   "execution_count": null,
   "id": "a5501c2f-5727-4914-b872-0db293864a15",
   "metadata": {},
   "outputs": [],
   "source": [
    "RE(bps.abs_set(ultra1.pump_stop, 1))"
   ]
  },
  {
   "cell_type": "code",
   "execution_count": null,
   "id": "b2227def-a78a-4cb0-a0e8-9e7b26220141",
   "metadata": {},
   "outputs": [],
   "source": [
    "RE(bps.abs_set(ultra1.clear_withdrawn, 1))"
   ]
  },
  {
   "cell_type": "code",
   "execution_count": null,
   "id": "94cecefa-594e-4f0a-85ec-66faf348828c",
   "metadata": {},
   "outputs": [],
   "source": [
    "RE(bps.abs_set(ultra1.target_vol_unit, 'ul'))\n",
    "RE(bps.abs_set(ultra1.target_vol, 5))\n",
    "#RE(bps.abs_set(ultra1.target_vol_unit, 'ml'))\n",
    "#ultra1.read_target_vol.read()\n",
    "ultra1.read_target_vol_unit.read()\n",
    "#RE(bps.read(ultra1))"
   ]
  },
  {
   "cell_type": "code",
   "execution_count": null,
   "id": "1d12ffb3-05a0-445f-a892-951f81311008",
   "metadata": {},
   "outputs": [],
   "source": []
  },
  {
   "cell_type": "code",
   "execution_count": null,
   "id": "daf2b1d1-9305-4037-b979-561ccd8d3685",
   "metadata": {},
   "outputs": [],
   "source": []
  }
 ],
 "metadata": {
  "kernelspec": {
   "display_name": "Python 3 (ipykernel)",
   "language": "python",
   "name": "python3"
  },
  "language_info": {
   "codemirror_mode": {
    "name": "ipython",
    "version": 3
   },
   "file_extension": ".py",
   "mimetype": "text/x-python",
   "name": "python",
   "nbconvert_exporter": "python",
   "pygments_lexer": "ipython3",
   "version": "3.9.13"
  }
 },
 "nbformat": 4,
 "nbformat_minor": 5
}
