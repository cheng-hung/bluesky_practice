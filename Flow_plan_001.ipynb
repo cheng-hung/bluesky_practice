{
 "cells": [
  {
   "cell_type": "code",
   "execution_count": 4,
   "id": "64934e05-23ec-4c22-8f97-fd4420b0888e",
   "metadata": {},
   "outputs": [],
   "source": [
    "from ophyd import Device, EpicsMotor, EpicsSignal, EpicsSignalRO\n",
    "from ophyd import Component as Cpt\n",
    "import time\n",
    "import pandas as pd\n",
    "import numpy as np"
   ]
  },
  {
   "cell_type": "code",
   "execution_count": 5,
   "id": "ca6dd45e-e84d-41bd-afcd-0c36c4bf9a60",
   "metadata": {},
   "outputs": [],
   "source": [
    "from bluesky import RunEngine\n",
    "import bluesky.plan_stubs as bps\n",
    "RE = RunEngine({})"
   ]
  },
  {
   "cell_type": "code",
   "execution_count": 55,
   "id": "2f66ca66-475f-41c3-a9ef-04e8a5fea1fa",
   "metadata": {},
   "outputs": [],
   "source": [
    "## Available pump list : [dds1_p1, dds1_p2, dds2_p1, dds2_p2, ultra1, ultra2]\n",
    "pump_list = [dds1_p1, dds1_p2]\n",
    "target_vol_list = ['50 ml', '50 ml']\n",
    "infuse_rate_list = ['100 ul/min', '100 ul/min']\n",
    "withdraw_rate_list = ['100 ul/min', '100 ul/min']\n",
    "\n",
    "\n",
    "def reset_pumps(pump_list, clear=True):\n",
    "    for pump in pump_list:\n",
    "        pump.initialize_pump(clear=clear)\n",
    "        pump.infuse_rate_unit.put('ul/min', wait=True)\n",
    "        pump.infuse_rate.put(100, wait=True)\n",
    "        pump.withdraw_rate_unit.put('ul/min', wait=True)\n",
    "        pump.withdraw_rate.put(100, wait=True)\n",
    "        pump.target_vol_unit.put('ml', wait=True)\n",
    "        pump.target_vol.put(20, wait=True)\n",
    "\n",
    "\n",
    "def show_pump_status(pump_list):\n",
    "    for pump in pump_list:\n",
    "        print('Name: ' + f'{pump.name}')\n",
    "        pump.check_pump_condition()\n",
    "        print('\\n')\n",
    "        \n",
    "\n",
    "def set_infuse_rates(pump_list, target_vol_list=['50 ml', '50 ml'], rate_list = ['100 ul/min', '100 ul/min']):\n",
    "    for i, j, k in zip(pump_list, target_vol_list, infuse_rate_list):\n",
    "        vol = float(j.split(' ')[0])\n",
    "        vol_unit = j.split(' ')[1]\n",
    "        rate = float(k.split(' ')[0])\n",
    "        rate_unit = k.split(' ')[1]        \n",
    "        i.set_pump(target_vol = vol, target_unit = vol_unit, infuse_rate = rate, infuse_unit = rate_unit)\n",
    "        \n",
    "def set_withdraw_rates(pump_list, target_vol_list=['50 ml', '50 ml'], rate_list = ['100 ul/min', '100 ul/min']):\n",
    "    for i, j, k in zip(pump_list, target_vol_list, rate_list):\n",
    "        vol = float(j.split(' ')[0])\n",
    "        vol_unit = j.split(' ')[1]\n",
    "        rate = float(k.split(' ')[0])\n",
    "        rate_unit = k.split(' ')[1]        \n",
    "        i.set_pump(target_vol = vol, target_unit = vol_unit, withdraw_rate = rate, withdraw_unit = rate_unit)\n"
   ]
  },
  {
   "cell_type": "code",
   "execution_count": 61,
   "id": "c8a7db3c-773a-4436-9997-f681df2072eb",
   "metadata": {},
   "outputs": [],
   "source": [
    "pump_list = [dds1_p1, dds1_p2]\n",
    "target_vol_list = ['50 ml', '50 ml']\n",
    "infuse_rate_list = ['100 ul/min', '100 ul/min']\n",
    "\n",
    "reset_pumps(pump_list)\n",
    "set_infuse_rates(pump_list, target_vol_list=target_vol_list, rate_list=infuse_rate_list)"
   ]
  },
  {
   "cell_type": "code",
   "execution_count": 62,
   "id": "774788d1-b064-4632-8bd9-4c96b18d87d3",
   "metadata": {},
   "outputs": [
    {
     "name": "stdout",
     "output_type": "stream",
     "text": [
      "Name: DDS1_p1\n",
      "Syringe Volume: 50 mL steel syringe\n",
      "Pump Stauts: Idle\n",
      "Cmmunication: Enabled\n",
      "Target Volume: 50.0 ml\n",
      "Infuse rate: 100.0 ul/min\n",
      "Withdraw rate: 100.0 ul/min\n",
      "Infused volume: 0.0 ul\n",
      "Withdrawn volume: 0.0 ul\n",
      "\n",
      "\n",
      "Name: DDS1_p2\n",
      "Syringe Volume: 50 mL steel syringe\n",
      "Pump Stauts: Idle\n",
      "Cmmunication: Enabled\n",
      "Target Volume: 50.0 ml\n",
      "Infuse rate: 100.0 ul/min\n",
      "Withdraw rate: 100.0 ul/min\n",
      "Infused volume: 0.0 ul\n",
      "Withdrawn volume: 0.0 ul\n",
      "\n",
      "\n"
     ]
    }
   ],
   "source": [
    "show_pump_status(pump_list)"
   ]
  },
  {
   "cell_type": "code",
   "execution_count": 58,
   "id": "633048e7-0783-41d3-99bc-e55f6d07ce8a",
   "metadata": {},
   "outputs": [],
   "source": [
    "set_infuse_rates(pump_list, target_vol_list=target_vol_list, rate_list=infuse_rate_list)"
   ]
  },
  {
   "cell_type": "code",
   "execution_count": 6,
   "id": "d9adf378-c728-47ee-be16-faa53e7bd304",
   "metadata": {},
   "outputs": [],
   "source": [
    "from bluesky import RunEngine\n",
    "import bluesky.plan_stubs as bps\n",
    "RE = RunEngine({})"
   ]
  },
  {
   "cell_type": "code",
   "execution_count": null,
   "id": "daf2b1d1-9305-4037-b979-561ccd8d3685",
   "metadata": {},
   "outputs": [],
   "source": []
  }
 ],
 "metadata": {
  "kernelspec": {
   "display_name": "Python 3 (ipykernel)",
   "language": "python",
   "name": "python3"
  },
  "language_info": {
   "codemirror_mode": {
    "name": "ipython",
    "version": 3
   },
   "file_extension": ".py",
   "mimetype": "text/x-python",
   "name": "python",
   "nbconvert_exporter": "python",
   "pygments_lexer": "ipython3",
   "version": "3.9.13"
  }
 },
 "nbformat": 4,
 "nbformat_minor": 5
}
