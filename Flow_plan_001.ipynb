{
 "cells": [
  {
   "cell_type": "code",
   "execution_count": 48,
   "id": "64934e05-23ec-4c22-8f97-fd4420b0888e",
   "metadata": {},
   "outputs": [],
   "source": [
    "from ophyd import Device, EpicsMotor, EpicsSignal, EpicsSignalRO\n",
    "from ophyd import Component as Cpt\n",
    "import time\n",
    "import pandas as pd\n",
    "import numpy as np\n",
    "from ophyd.sim import det4, noisy_det, motor  # simulated detector, motor\n",
    "import h5py\n",
    "from datetime import datetime\n",
    "\n",
    "import bluesky.plan_stubs as bps\n",
    "from bluesky.plans import count\n",
    "\n",
    "import matplotlib.pyplot as plt\n",
    "#%matplotlib widget\n",
    "#%matplotlib inline\n",
    "#%matplotlib notebook\n",
    "\n",
    "import glob"
   ]
  },
  {
   "cell_type": "code",
   "execution_count": 2,
   "id": "ca6dd45e-e84d-41bd-afcd-0c36c4bf9a60",
   "metadata": {},
   "outputs": [],
   "source": [
    "from bluesky import RunEngine\n",
    "import bluesky.plan_stubs as bps\n",
    "from bluesky.plans import count, scan\n",
    "RE = RunEngine({})"
   ]
  },
  {
   "cell_type": "code",
   "execution_count": 9,
   "id": "8d28cb59-d510-420a-badf-a5f1a74cd723",
   "metadata": {},
   "outputs": [
    {
     "name": "stderr",
     "output_type": "stream",
     "text": [
      "OBJECT CACHE: Will use up to 40_490_850_508 bytes (15% of total physical RAM)\n",
      "INFO:tiled.server.object_cache:Will use up to 40_490_850_508 bytes (15% of total physical RAM)\n"
     ]
    }
   ],
   "source": [
    "## Prepare Live Visualization\n",
    "from bluesky.callbacks.best_effort import BestEffortCallback\n",
    "bec = BestEffortCallback()\n",
    "\n",
    "# Send all metadata/data captured to the BestEffortCallback.\n",
    "RE.subscribe(bec)\n",
    "\n",
    "# Make plots update live while scans run.\n",
    "# from bluesky.utils import install_kicker\n",
    "# install_kicker()\n",
    "#%matplotlib notebook\n",
    "#from bluesky.utils import install_nb_kicker\n",
    "#install_nb_kicker()\n",
    "\n",
    "\n",
    "## Prepare Data Storage\n",
    "from databroker import Broker\n",
    "db = Broker.named('xpd')\n",
    "\n",
    "# Insert all metadata/data captured into db.\n",
    "RE.subscribe(db.insert)\n",
    "\n",
    "\n",
    "## Add a Progress Bar\n",
    "from bluesky.utils import ProgressBarManager\n",
    "RE.waiting_hook = ProgressBarManager()\n"
   ]
  },
  {
   "cell_type": "code",
   "execution_count": 17,
   "id": "2eb815b6-a40a-4160-825f-3fa58a3ad3e9",
   "metadata": {},
   "outputs": [
    {
     "name": "stdout",
     "output_type": "stream",
     "text": [
      "\n",
      "\n",
      "Transient Scan ID: 1     Time: 2022-10-27 20:17:13\n",
      "Persistent Unique Scan ID: 'bce9b8d0-0448-4ec4-a275-46024fcbbb00'\n",
      "\n",
      "\n",
      "Transient Scan ID: 1     Time: 2022-10-27 20:17:13\n",
      "Persistent Unique Scan ID: 'bce9b8d0-0448-4ec4-a275-46024fcbbb00'\n",
      "\n",
      "\n",
      "Transient Scan ID: 1     Time: 2022-10-27 20:17:13\n",
      "Persistent Unique Scan ID: 'bce9b8d0-0448-4ec4-a275-46024fcbbb00'\n",
      "\n",
      "\n",
      "Transient Scan ID: 1     Time: 2022-10-27 20:17:13\n",
      "Persistent Unique Scan ID: 'bce9b8d0-0448-4ec4-a275-46024fcbbb00'\n",
      "New stream: 'primary'\n",
      "+-----------+------------+------------+\n",
      "|   seq_num |       time |       det4 |\n",
      "+-----------+------------+------------+\n",
      "New stream: 'primary'\n",
      "+-----------+------------+------------+\n",
      "|   seq_num |       time |       det4 |\n",
      "+-----------+------------+------------+\n",
      "New stream: 'primary'\n",
      "+-----------+------------+------------+\n",
      "|   seq_num |       time |       det4 |\n",
      "+-----------+------------+------------+\n",
      "New stream: 'primary'\n",
      "+-----------+------------+------------+\n",
      "|   seq_num |       time |       det4 |\n",
      "+-----------+------------+------------+\n",
      "|         1 | 20:17:14.0 |      1.000 |\n",
      "|         1 | 20:17:14.0 |      1.000 |\n",
      "|         1 | 20:17:14.0 |      1.000 |\n",
      "|         1 | 20:17:14.0 |      1.000 |\n",
      "|         2 | 20:17:14.1 |      1.000 |\n",
      "|         2 | 20:17:14.1 |      1.000 |\n",
      "|         2 | 20:17:14.1 |      1.000 |\n",
      "|         2 | 20:17:14.1 |      1.000 |\n",
      "|         3 | 20:17:14.1 |      1.000 |\n",
      "|         3 | 20:17:14.1 |      1.000 |\n",
      "|         3 | 20:17:14.1 |      1.000 |\n",
      "|         3 | 20:17:14.1 |      1.000 |\n",
      "|         4 | 20:17:14.1 |      1.000 |\n",
      "|         4 | 20:17:14.1 |      1.000 |\n",
      "|         4 | 20:17:14.1 |      1.000 |\n",
      "|         4 | 20:17:14.1 |      1.000 |\n",
      "|         5 | 20:17:14.1 |      1.000 |\n",
      "|         5 | 20:17:14.1 |      1.000 |\n",
      "|         5 | 20:17:14.1 |      1.000 |\n",
      "|         5 | 20:17:14.1 |      1.000 |\n",
      "+-----------+------------+------------+\n",
      "generator count ['bce9b8d0'] (scan num: 1)\n",
      "\n",
      "\n",
      "\n",
      "+-----------+------------+------------+\n",
      "generator count ['bce9b8d0'] (scan num: 1)\n",
      "\n",
      "\n",
      "\n",
      "+-----------+------------+------------+\n",
      "generator count ['bce9b8d0'] (scan num: 1)\n",
      "\n",
      "\n",
      "\n",
      "+-----------+------------+------------+\n",
      "generator count ['bce9b8d0'] (scan num: 1)\n",
      "\n",
      "\n",
      "\n"
     ]
    },
    {
     "data": {
      "text/plain": [
       "('bce9b8d0-0448-4ec4-a275-46024fcbbb00',)"
      ]
     },
     "execution_count": 17,
     "metadata": {},
     "output_type": "execute_result"
    },
    {
     "data": {
      "application/vnd.jupyter.widget-view+json": {
       "model_id": "9ea7ee2227654083be43c3f7ef2ce347",
       "version_major": 2,
       "version_minor": 0
      },
      "image/png": "[encoded data removed]",
      "text/html": [
       "\n",
       "            <div style=\"display: inline-block;\">\n",
       "                <div class=\"jupyter-widgets widget-label\" style=\"text-align: center;\">\n",
       "                    det4 vs time\n",
       "                </div>\n",
       "                <img src='data:image/png;base64,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' width=500.0/>\n",
       "            </div>\n",
       "        "
      ],
      "text/plain": [
       "Canvas(toolbar=Toolbar(toolitems=[('Home', 'Reset original view', 'home', 'home'), ('Back', 'Back to previous …"
      ]
     },
     "metadata": {},
     "output_type": "display_data"
    }
   ],
   "source": [
    "RE(count([det4], num=5))"
   ]
  },
  {
   "cell_type": "code",
   "execution_count": 18,
   "id": "1a96c455-f537-4857-9f8e-e45c9d0045b7",
   "metadata": {},
   "outputs": [
    {
     "data": {
      "text/html": [
       "<div>\n",
       "<style scoped>\n",
       "    .dataframe tbody tr th:only-of-type {\n",
       "        vertical-align: middle;\n",
       "    }\n",
       "\n",
       "    .dataframe tbody tr th {\n",
       "        vertical-align: top;\n",
       "    }\n",
       "\n",
       "    .dataframe thead th {\n",
       "        text-align: right;\n",
       "    }\n",
       "</style>\n",
       "<table border=\"1\" class=\"dataframe\">\n",
       "  <thead>\n",
       "    <tr style=\"text-align: right;\">\n",
       "      <th></th>\n",
       "      <th>det4</th>\n",
       "      <th>time</th>\n",
       "    </tr>\n",
       "    <tr>\n",
       "      <th>seq_num</th>\n",
       "      <th></th>\n",
       "      <th></th>\n",
       "    </tr>\n",
       "  </thead>\n",
       "  <tbody>\n",
       "    <tr>\n",
       "      <th>1</th>\n",
       "      <td>1.0</td>\n",
       "      <td>2022-10-28 00:17:14.089330176</td>\n",
       "    </tr>\n",
       "    <tr>\n",
       "      <th>2</th>\n",
       "      <td>1.0</td>\n",
       "      <td>2022-10-28 00:17:14.100317184</td>\n",
       "    </tr>\n",
       "    <tr>\n",
       "      <th>3</th>\n",
       "      <td>1.0</td>\n",
       "      <td>2022-10-28 00:17:14.109317120</td>\n",
       "    </tr>\n",
       "    <tr>\n",
       "      <th>4</th>\n",
       "      <td>1.0</td>\n",
       "      <td>2022-10-28 00:17:14.118919168</td>\n",
       "    </tr>\n",
       "    <tr>\n",
       "      <th>5</th>\n",
       "      <td>1.0</td>\n",
       "      <td>2022-10-28 00:17:14.128654592</td>\n",
       "    </tr>\n",
       "  </tbody>\n",
       "</table>\n",
       "</div>"
      ],
      "text/plain": [
       "         det4                          time\n",
       "seq_num                                    \n",
       "1         1.0 2022-10-28 00:17:14.089330176\n",
       "2         1.0 2022-10-28 00:17:14.100317184\n",
       "3         1.0 2022-10-28 00:17:14.109317120\n",
       "4         1.0 2022-10-28 00:17:14.118919168\n",
       "5         1.0 2022-10-28 00:17:14.128654592"
      ]
     },
     "execution_count": 18,
     "metadata": {},
     "output_type": "execute_result"
    }
   ],
   "source": [
    "db[-1].table()"
   ]
  },
  {
   "cell_type": "code",
   "execution_count": 19,
   "id": "2f66ca66-475f-41c3-a9ef-04e8a5fea1fa",
   "metadata": {},
   "outputs": [],
   "source": [
    "## Available pump list : [dds1_p1, dds1_p2, dds2_p1, dds2_p2, ultra1, ultra2]\n",
    "pump_list = [dds1_p1, dds1_p2]\n",
    "target_vol_list = ['50 ml', '50 ml']\n",
    "infuse_rate_list = ['100 ul/min', '100 ul/min']\n",
    "withdraw_rate_list = ['100 ul/min', '100 ul/min']\n",
    "\n",
    "\n",
    "def reset_pumps(pump_list, clear=True):\n",
    "    for pump in pump_list:\n",
    "        pump.initialize_pump(clear=clear)\n",
    "        pump.infuse_rate_unit.put('ul/min', wait=True)\n",
    "        pump.infuse_rate.put(100, wait=True)\n",
    "        pump.withdraw_rate_unit.put('ul/min', wait=True)\n",
    "        pump.withdraw_rate.put(100, wait=True)\n",
    "        pump.target_vol_unit.put('ml', wait=True)\n",
    "        pump.target_vol.put(20, wait=True)\n",
    "\n",
    "\n",
    "def show_pump_status(pump_list, precursor_list, wait=False):\n",
    "    for pump, precursor in zip(pump_list, precursor_list):\n",
    "        print('Name: ' + f'{pump.name}')\n",
    "        print('Precursor: ' + f'{precursor}')\n",
    "        pump.check_pump_condition(wait=wait)\n",
    "        print('\\n')\n",
    "        \n",
    "\n",
    "def set_infuse_rates(pump_list, target_vol_list=['50 ml', '50 ml'], rate_list = ['100 ul/min', '100 ul/min']):\n",
    "    for i, j, k in zip(pump_list, target_vol_list, infuse_rate_list):\n",
    "        vol = float(j.split(' ')[0])\n",
    "        vol_unit = j.split(' ')[1]\n",
    "        rate = float(k.split(' ')[0])\n",
    "        rate_unit = k.split(' ')[1]        \n",
    "        i.set_pump(target_vol = vol, target_unit = vol_unit, infuse_rate = rate, infuse_unit = rate_unit)\n",
    "        \n",
    "def set_withdraw_rates(pump_list, target_vol_list=['50 ml', '50 ml'], rate_list = ['100 ul/min', '100 ul/min']):\n",
    "    for i, j, k in zip(pump_list, target_vol_list, rate_list):\n",
    "        vol = float(j.split(' ')[0])\n",
    "        vol_unit = j.split(' ')[1]\n",
    "        rate = float(k.split(' ')[0])\n",
    "        rate_unit = k.split(' ')[1]        \n",
    "        i.set_pump(target_vol = vol, target_unit = vol_unit, withdraw_rate = rate, withdraw_unit = rate_unit)\n",
    "\n"
   ]
  },
  {
   "cell_type": "code",
   "execution_count": 20,
   "id": "c8a7db3c-773a-4436-9997-f681df2072eb",
   "metadata": {},
   "outputs": [],
   "source": [
    "pump_list = [dds1_p1, dds1_p2]\n",
    "target_vol_list = ['22 ml', '36 ml']\n",
    "infuse_rate_list = ['101 ul/min', '222 ul/min']\n",
    "precursor_list = ['CsPb 30 mM', 'TetraBr 30 mM']\n",
    "\n",
    "#reset_pumps(pump_list)\n",
    "set_infuse_rates(pump_list, target_vol_list=target_vol_list, rate_list=infuse_rate_list)"
   ]
  },
  {
   "cell_type": "code",
   "execution_count": 21,
   "id": "774788d1-b064-4632-8bd9-4c96b18d87d3",
   "metadata": {},
   "outputs": [
    {
     "name": "stdout",
     "output_type": "stream",
     "text": [
      "Name: DDS1_p1\n",
      "Precursor: CsPb 30 mM\n",
      "Syringe Volume: 50 mL steel syringe\n",
      "Pump Stauts: Idle\n",
      "Cmmunication: Enabled\n",
      "Target Volume: 22.0 ml\n",
      "Infuse rate: 101.0 ul/min\n",
      "Withdraw rate: 100.0 ul/min\n",
      "Infused volume: 8.135 ml\n",
      "Withdrawn volume: 0.0 ul\n",
      "\n",
      "\n",
      "Name: DDS1_p2\n",
      "Precursor: TetraBr 30 mM\n",
      "Syringe Volume: 50 mL steel syringe\n",
      "Pump Stauts: Idle\n",
      "Cmmunication: Enabled\n",
      "Target Volume: 36.0 ml\n",
      "Infuse rate: 222.0 ul/min\n",
      "Withdraw rate: 100.0 ul/min\n",
      "Infused volume: 0.0 ul\n",
      "Withdrawn volume: 0.0 ul\n",
      "\n",
      "\n"
     ]
    }
   ],
   "source": [
    "show_pump_status(pump_list, precursor_list)"
   ]
  },
  {
   "cell_type": "code",
   "execution_count": null,
   "id": "a41a0d51-fdb4-4d88-bbf6-7b2d89ab5a2f",
   "metadata": {},
   "outputs": [],
   "source": [
    "RE(dds1_p1.infuse_pump())"
   ]
  },
  {
   "cell_type": "code",
   "execution_count": null,
   "id": "633048e7-0783-41d3-99bc-e55f6d07ce8a",
   "metadata": {},
   "outputs": [],
   "source": [
    "qepro.set_temp(-5)"
   ]
  },
  {
   "cell_type": "code",
   "execution_count": null,
   "id": "d9adf378-c728-47ee-be16-faa53e7bd304",
   "metadata": {},
   "outputs": [],
   "source": [
    "qepro.setup_collection?"
   ]
  },
  {
   "cell_type": "code",
   "execution_count": null,
   "id": "daf2b1d1-9305-4037-b979-561ccd8d3685",
   "metadata": {},
   "outputs": [],
   "source": [
    "qepro.setup_collection(integration_time=100, num_spectra_to_average=10, electric_dark_correction=True)"
   ]
  },
  {
   "cell_type": "code",
   "execution_count": null,
   "id": "cbcc6fed-50c5-462c-9ce0-31859186539c",
   "metadata": {},
   "outputs": [],
   "source": [
    "shutter_close()\n",
    "qepro.get_dark_frame()\n",
    "shutter_open()"
   ]
  },
  {
   "cell_type": "code",
   "execution_count": null,
   "id": "44b18fe9-1acc-48f2-b313-91686d8b70fb",
   "metadata": {},
   "outputs": [],
   "source": [
    "qepro.get_reference_frame()"
   ]
  },
  {
   "cell_type": "code",
   "execution_count": null,
   "id": "446eac26-1986-4b31-81e3-943926a6880c",
   "metadata": {},
   "outputs": [],
   "source": [
    "qepro.trigger()"
   ]
  },
  {
   "cell_type": "code",
   "execution_count": null,
   "id": "f35437e3-b6f3-40cd-b874-508b766be3b2",
   "metadata": {},
   "outputs": [],
   "source": [
    "qepro.plot_spectra()"
   ]
  },
  {
   "cell_type": "code",
   "execution_count": null,
   "id": "9889649b-526c-4aa9-89c7-9c5272280cea",
   "metadata": {},
   "outputs": [],
   "source": [
    "def h5_rate_spectra(h5_path, h5_name, pump_list, precursor_list, absor=qepro, xray=det4, delay=None):\n",
    "\n",
    "    fout = h5_path + h5_name\n",
    "    t_q = list(absor.read().items())[0][1]['timestamp']\n",
    "    dt = datetime.fromtimestamp(t_q)\n",
    "\n",
    "    \n",
    "    with h5py.File(fout, 'w') as hf:\n",
    "        hf.create_dataset('Time_QEPro', data=[f'{dt.year}{dt.month:02d}{dt.day:02d}', f'{dt.hour:02d}{dt.minute:02d}{dt.second:02d}'])\n",
    "        hf.create_dataset('Wavelength', data=absor.x_axis.get())\n",
    "        hf.create_dataset('Dark', data=absor.dark.get())\n",
    "        if absor.spectrum_type.get(as_string=True) == 'Absorbtion':           \n",
    "            hf.create_dataset('Reference', data=absor.reference.get())\n",
    "            hf.create_dataset('Sample_UV', data=absor.sample.get())\n",
    "            hf.create_dataset('Abosrbance', data=absor.output.get())\n",
    "        else:\n",
    "            hf.create_dataset('Sample_PL', data=absor.sample.get())\n",
    "            hf.create_dataset('PL', data=absor.output.get())            \n",
    "        for pump, precursor in zip(pump_list, precursor_list):\n",
    "            hf.create_dataset(pump.name, data=[f'{precursor}', f'{pump.read_infuse_rate.get()}', \n",
    "                                               pump.read_infuse_rate_unit.get()])      \n",
    "    print(f'{fout} is saved.')\n",
    "    hf.close()\n",
    "\n",
    "    \n",
    "\n",
    "    \n",
    "def csv_rate_spectra(csv_path, csv_name, pump_list, precursor_list, absor=qepro, xray=det4, delay=None):\n",
    "\n",
    "    fout = csv_path + csv_name\n",
    "    t_q = list(absor.read().items())[0][1]['timestamp']\n",
    "    dt = datetime.fromtimestamp(t_q)\n",
    "    \n",
    "    with open(fout, 'w') as fp:\n",
    "        for pump, precursor in zip(pump_list, precursor_list):\n",
    "            fp.write(f'{pump.name},{precursor},{pump.read_infuse_rate.get()},{pump.read_infuse_rate_unit.get()}\\n')        \n",
    "        \n",
    "        fp.write(f'Time_QEPro,{dt.year}{dt.month:02d}{dt.day:02d},{dt.hour:02d}{dt.minute:02d}{dt.second:02d}\\n')\n",
    "        x_axis_data = absor.x_axis.get()\n",
    "        output_data = absor.output.get()\n",
    "        sample_data = absor.sample.get()\n",
    "        dark_data = absor.dark.get()\n",
    "        reference_data = absor.reference.get()\n",
    "        if absor.spectrum_type.get(as_string=True) == 'Absorbtion':\n",
    "            fp.write('Energy,Dark,Reference,Sample,Absorbance\\n')\n",
    "        else:\n",
    "            fp.write('Energy,Dark,Raw Sample,PL\\n')\n",
    "\n",
    "        for i in range(len(output_data)):\n",
    "            if absor.spectrum_type.get(as_string=True) == 'Absorbtion':\n",
    "                fp.write(f'{x_axis_data[i]},{dark_data[i]},{reference_data[i]},{sample_data[i]},{output_data[i]}\\n')\n",
    "            else:\n",
    "                fp.write(f'{x_axis_data[i]},{dark_data[i]},{sample_data[i]},{output_data[i]}\\n')\n",
    "\n",
    "        print('Done.')\n"
   ]
  },
  {
   "cell_type": "code",
   "execution_count": null,
   "id": "a584f8a3-f297-41c4-bc55-8a3adbedc224",
   "metadata": {},
   "outputs": [],
   "source": [
    "h5_path = '/nsls2/users/clin1/Documents/Cheng-Hung/temp/'\n",
    "h5_name = '20220912_test6.h5'\n",
    "h5_rate_spectra(h5_path, h5_name, pump_list, precursor_list, absor=qepro)"
   ]
  },
  {
   "cell_type": "code",
   "execution_count": null,
   "id": "4d1a6527-2855-4cfd-8250-ebeebe79c197",
   "metadata": {},
   "outputs": [],
   "source": [
    "csv_path = '/nsls2/users/clin1/Documents/Cheng-Hung/temp/'\n",
    "csv_name = '20220912_test3.csv'\n",
    "csv_rate_spectra(csv_path, csv_name, pump_list, precursor_list, absor=qepro)"
   ]
  },
  {
   "cell_type": "code",
   "execution_count": null,
   "id": "6380df0f-acb6-479c-95f2-806d367452fa",
   "metadata": {},
   "outputs": [],
   "source": [
    "f = '/nsls2/users/clin1/Documents/Cheng-Hung/temp/20220912_test2.csv'\n",
    "df = pd.read_csv(f, skiprows=3)\n",
    "df"
   ]
  },
  {
   "cell_type": "code",
   "execution_count": null,
   "id": "62341183-8dca-40e4-89d7-55be962d7d2b",
   "metadata": {},
   "outputs": [],
   "source": [
    "b = list(dds1_p1.read().items())\n",
    "b[0][1]['timestamp']\n",
    "dt = datetime.fromtimestamp(b[0][1]['timestamp'])\n",
    "dt?"
   ]
  },
  {
   "cell_type": "code",
   "execution_count": null,
   "id": "d79afa52-e367-4d10-928b-6d48b42a60e1",
   "metadata": {},
   "outputs": [],
   "source": [
    "dds1_p1.name"
   ]
  },
  {
   "cell_type": "code",
   "execution_count": null,
   "id": "0bc687c6-9bc2-4615-9d17-2e60ba653608",
   "metadata": {},
   "outputs": [],
   "source": [
    "for pump, precursor in zip(pump_list, precursor_list):\n",
    "    print(pump.name)\n",
    "    data=[f'{precursor}', pump.read_infuse_rate.get(), pump.read_infuse_rate_unit.get()]\n",
    "    print(data)"
   ]
  },
  {
   "cell_type": "code",
   "execution_count": null,
   "id": "a8966b2f-5e5b-4dd3-a7a1-bac58c64e5da",
   "metadata": {},
   "outputs": [],
   "source": []
  }
 ],
 "metadata": {
  "kernelspec": {
   "display_name": "Python 3 (ipykernel)",
   "language": "python",
   "name": "python3"
  },
  "language_info": {
   "codemirror_mode": {
    "name": "ipython",
    "version": 3
   },
   "file_extension": ".py",
   "mimetype": "text/x-python",
   "name": "python",
   "nbconvert_exporter": "python",
   "pygments_lexer": "ipython3",
   "version": "3.9.13"
  }
 },
 "nbformat": 4,
 "nbformat_minor": 5
}
