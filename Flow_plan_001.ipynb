{
 "cells": [
  {
   "cell_type": "code",
   "execution_count": 1,
   "id": "64934e05-23ec-4c22-8f97-fd4420b0888e",
   "metadata": {},
   "outputs": [],
   "source": [
    "from ophyd import Device, EpicsMotor, EpicsSignal, EpicsSignalRO\n",
    "from ophyd import Component as Cpt\n",
    "import time\n",
    "import pandas as pd\n",
    "import numpy as np\n",
    "from ophyd.sim import det4, noisy_det, motor  # simulated detector, motor\n",
    "import h5py\n",
    "from datetime import datetime"
   ]
  },
  {
   "cell_type": "code",
   "execution_count": 9,
   "id": "ca6dd45e-e84d-41bd-afcd-0c36c4bf9a60",
   "metadata": {},
   "outputs": [],
   "source": [
    "from bluesky import RunEngine\n",
    "import bluesky.plan_stubs as bps\n",
    "from bluesky.plans import count, scan\n",
    "RE = RunEngine({})"
   ]
  },
  {
   "cell_type": "code",
   "execution_count": 11,
   "id": "8d28cb59-d510-420a-badf-a5f1a74cd723",
   "metadata": {},
   "outputs": [
    {
     "name": "stderr",
     "output_type": "stream",
     "text": [
      "/nsls2/conda/envs/2022-3.0-py39-tiled/lib/python3.9/site-packages/bluesky/utils/__init__.py:932: UserWarning: bluesky.utils.install_qt_kicker is no longer necessary and has no effect. Please remove your use of it. It may be removed in a future release of bluesky.\n",
      "  warnings.warn(\"bluesky.utils.install_qt_kicker is no longer necessary and \"\n",
      "OBJECT CACHE: Will use up to 40_490_850_508 bytes (15% of total physical RAM)\n",
      "INFO:tiled.server.object_cache:Will use up to 40_490_850_508 bytes (15% of total physical RAM)\n"
     ]
    }
   ],
   "source": [
    "## Prepare Live Visualization\n",
    "from bluesky.callbacks.best_effort import BestEffortCallback\n",
    "bec = BestEffortCallback()\n",
    "\n",
    "# Send all metadata/data captured to the BestEffortCallback.\n",
    "RE.subscribe(bec)\n",
    "\n",
    "# Make plots update live while scans run.\n",
    "from bluesky.utils import install_kicker\n",
    "install_kicker()\n",
    "#%matplotlib notebook\n",
    "#from bluesky.utils import install_nb_kicker\n",
    "#install_nb_kicker()\n",
    "\n",
    "\n",
    "## Prepare Data Storage\n",
    "from databroker import Broker\n",
    "db = Broker.named('xpd')\n",
    "\n",
    "# Insert all metadata/data captured into db.\n",
    "RE.subscribe(db.insert)\n",
    "\n",
    "\n",
    "## Add a Progress Bar\n",
    "from bluesky.utils import ProgressBarManager\n",
    "RE.waiting_hook = ProgressBarManager()\n"
   ]
  },
  {
   "cell_type": "code",
   "execution_count": 35,
   "id": "2eb815b6-a40a-4160-825f-3fa58a3ad3e9",
   "metadata": {},
   "outputs": [
    {
     "name": "stdout",
     "output_type": "stream",
     "text": [
      "\n",
      "\n",
      "Transient Scan ID: 2     Time: 2022-10-13 16:36:00\n",
      "Persistent Unique Scan ID: '8526f12c-89c7-4f0f-872a-9f75a552e0a2'\n",
      "\n",
      "\n",
      "Transient Scan ID: 2     Time: 2022-10-13 16:36:00\n",
      "Persistent Unique Scan ID: '8526f12c-89c7-4f0f-872a-9f75a552e0a2'\n",
      "New stream: 'primary'\n",
      "+-----------+------------+------------+\n",
      "|   seq_num |       time |       det4 |\n",
      "+-----------+------------+------------+\n",
      "New stream: 'primary'\n",
      "+-----------+------------+------------+\n",
      "|   seq_num |       time |       det4 |\n",
      "+-----------+------------+------------+\n",
      "|         1 | 16:36:00.1 |      1.000 |\n",
      "|         1 | 16:36:00.1 |      1.000 |\n",
      "|         2 | 16:36:00.1 |      1.000 |\n",
      "|         2 | 16:36:00.1 |      1.000 |\n",
      "|         3 | 16:36:00.1 |      1.000 |\n",
      "|         3 | 16:36:00.1 |      1.000 |\n",
      "|         4 | 16:36:00.1 |      1.000 |\n",
      "|         4 | 16:36:00.1 |      1.000 |\n",
      "|         5 | 16:36:00.1 |      1.000 |\n",
      "|         5 | 16:36:00.1 |      1.000 |\n",
      "|         6 | 16:36:00.1 |      1.000 |\n",
      "|         6 | 16:36:00.1 |      1.000 |\n",
      "|         7 | 16:36:00.1 |      1.000 |\n",
      "|         7 | 16:36:00.1 |      1.000 |\n",
      "|         8 | 16:36:00.1 |      1.000 |\n",
      "|         8 | 16:36:00.1 |      1.000 |\n",
      "|         9 | 16:36:00.1 |      1.000 |\n",
      "|         9 | 16:36:00.1 |      1.000 |\n",
      "|        10 | 16:36:00.1 |      1.000 |\n",
      "|        10 | 16:36:00.1 |      1.000 |\n",
      "|        11 | 16:36:00.1 |      1.000 |\n",
      "|        11 | 16:36:00.1 |      1.000 |\n",
      "|        12 | 16:36:00.1 |      1.000 |\n",
      "|        12 | 16:36:00.1 |      1.000 |\n",
      "|        13 | 16:36:00.1 |      1.000 |\n",
      "|        13 | 16:36:00.1 |      1.000 |\n",
      "|        14 | 16:36:00.1 |      1.000 |\n",
      "|        14 | 16:36:00.1 |      1.000 |\n",
      "|        15 | 16:36:00.1 |      1.000 |\n",
      "|        15 | 16:36:00.1 |      1.000 |\n",
      "|        16 | 16:36:00.1 |      1.000 |\n",
      "|        16 | 16:36:00.1 |      1.000 |\n",
      "|        17 | 16:36:00.1 |      1.000 |\n",
      "|        17 | 16:36:00.1 |      1.000 |\n",
      "|        18 | 16:36:00.1 |      1.000 |\n",
      "|        18 | 16:36:00.1 |      1.000 |\n",
      "|        19 | 16:36:00.2 |      1.000 |\n",
      "|        19 | 16:36:00.2 |      1.000 |\n",
      "|        20 | 16:36:00.2 |      1.000 |\n",
      "|        20 | 16:36:00.2 |      1.000 |\n",
      "|        21 | 16:36:00.2 |      1.000 |\n",
      "|        21 | 16:36:00.2 |      1.000 |\n",
      "|        22 | 16:36:00.2 |      1.000 |\n",
      "|        22 | 16:36:00.2 |      1.000 |\n",
      "+-----------+------------+------------+\n",
      "generator count ['8526f12c'] (scan num: 2)\n",
      "\n",
      "\n",
      "\n",
      "+-----------+------------+------------+\n",
      "generator count ['8526f12c'] (scan num: 2)\n",
      "\n",
      "\n",
      "\n"
     ]
    },
    {
     "data": {
      "text/plain": [
       "('8526f12c-89c7-4f0f-872a-9f75a552e0a2',)"
      ]
     },
     "execution_count": 35,
     "metadata": {},
     "output_type": "execute_result"
    }
   ],
   "source": [
    "RE(count([det4], num=5), md)"
   ]
  },
  {
   "cell_type": "code",
   "execution_count": 73,
   "id": "1a96c455-f537-4857-9f8e-e45c9d0045b7",
   "metadata": {},
   "outputs": [
    {
     "ename": "AttributeError",
     "evalue": "'Header' object has no attribute 'header'",
     "output_type": "error",
     "traceback": [
      "\u001b[0;31m---------------------------------------------------------------------------\u001b[0m",
      "\u001b[0;31mAttributeError\u001b[0m                            Traceback (most recent call last)",
      "Input \u001b[0;32mIn [73]\u001b[0m, in \u001b[0;36m<cell line: 1>\u001b[0;34m()\u001b[0m\n\u001b[0;32m----> 1\u001b[0m \u001b[43mdb\u001b[49m\u001b[43m[\u001b[49m\u001b[38;5;241;43m-\u001b[39;49m\u001b[38;5;241;43m1\u001b[39;49m\u001b[43m]\u001b[49m\u001b[38;5;241;43m.\u001b[39;49m\u001b[43mheader\u001b[49m\n",
      "\u001b[0;31mAttributeError\u001b[0m: 'Header' object has no attribute 'header'"
     ]
    }
   ],
   "source": [
    "db[-1].header"
   ]
  },
  {
   "cell_type": "code",
   "execution_count": 69,
   "id": "2f66ca66-475f-41c3-a9ef-04e8a5fea1fa",
   "metadata": {},
   "outputs": [],
   "source": [
    "## Available pump list : [dds1_p1, dds1_p2, dds2_p1, dds2_p2, ultra1, ultra2]\n",
    "pump_list = [dds1_p1, dds1_p2]\n",
    "target_vol_list = ['50 ml', '50 ml']\n",
    "infuse_rate_list = ['100 ul/min', '100 ul/min']\n",
    "withdraw_rate_list = ['100 ul/min', '100 ul/min']\n",
    "\n",
    "\n",
    "def reset_pumps(pump_list, clear=True):\n",
    "    for pump in pump_list:\n",
    "        pump.initialize_pump(clear=clear)\n",
    "        pump.infuse_rate_unit.put('ul/min', wait=True)\n",
    "        pump.infuse_rate.put(100, wait=True)\n",
    "        pump.withdraw_rate_unit.put('ul/min', wait=True)\n",
    "        pump.withdraw_rate.put(100, wait=True)\n",
    "        pump.target_vol_unit.put('ml', wait=True)\n",
    "        pump.target_vol.put(20, wait=True)\n",
    "\n",
    "\n",
    "def show_pump_status(pump_list, precursor_list, wait=False):\n",
    "    for pump, precursor in zip(pump_list, precursor_list):\n",
    "        print('Name: ' + f'{pump.name}')\n",
    "        print('Precursor: ' + f'{precursor}')\n",
    "        pump.check_pump_condition(wait=wait)\n",
    "        print('\\n')\n",
    "        \n",
    "\n",
    "def set_infuse_rates(pump_list, target_vol_list=['50 ml', '50 ml'], rate_list = ['100 ul/min', '100 ul/min']):\n",
    "    for i, j, k in zip(pump_list, target_vol_list, infuse_rate_list):\n",
    "        vol = float(j.split(' ')[0])\n",
    "        vol_unit = j.split(' ')[1]\n",
    "        rate = float(k.split(' ')[0])\n",
    "        rate_unit = k.split(' ')[1]        \n",
    "        i.set_pump(target_vol = vol, target_unit = vol_unit, infuse_rate = rate, infuse_unit = rate_unit)\n",
    "        \n",
    "def set_withdraw_rates(pump_list, target_vol_list=['50 ml', '50 ml'], rate_list = ['100 ul/min', '100 ul/min']):\n",
    "    for i, j, k in zip(pump_list, target_vol_list, rate_list):\n",
    "        vol = float(j.split(' ')[0])\n",
    "        vol_unit = j.split(' ')[1]\n",
    "        rate = float(k.split(' ')[0])\n",
    "        rate_unit = k.split(' ')[1]        \n",
    "        i.set_pump(target_vol = vol, target_unit = vol_unit, withdraw_rate = rate, withdraw_unit = rate_unit)\n",
    "\n"
   ]
  },
  {
   "cell_type": "code",
   "execution_count": 62,
   "id": "c8a7db3c-773a-4436-9997-f681df2072eb",
   "metadata": {},
   "outputs": [],
   "source": [
    "pump_list = [dds1_p1, dds1_p2]\n",
    "target_vol_list = ['22 ml', '36 ml']\n",
    "infuse_rate_list = ['101 ul/min', '222 ul/min']\n",
    "precursor_list = ['CsPb 30 mM', 'TetraBr 30 mM']\n",
    "\n",
    "#reset_pumps(pump_list)\n",
    "set_infuse_rates(pump_list, target_vol_list=target_vol_list, rate_list=infuse_rate_list)"
   ]
  },
  {
   "cell_type": "code",
   "execution_count": 70,
   "id": "774788d1-b064-4632-8bd9-4c96b18d87d3",
   "metadata": {},
   "outputs": [
    {
     "name": "stdout",
     "output_type": "stream",
     "text": [
      "Name: DDS1_p1\n",
      "Precursor: CsPb 30 mM\n",
      "Syringe Volume: 50 mL steel syringe\n",
      "Pump Stauts: Idle\n",
      "Cmmunication: Enabled\n",
      "Target Volume: 22.0 ml\n",
      "Infuse rate: 101.0 ul/min\n",
      "Withdraw rate: 100.0 ul/min\n",
      "Infused volume: 0.0 ul\n",
      "Withdrawn volume: 0.0 ul\n",
      "\n",
      "\n",
      "Name: DDS1_p2\n",
      "Precursor: TetraBr 30 mM\n",
      "Syringe Volume: 50 mL steel syringe\n",
      "Pump Stauts: Idle\n",
      "Cmmunication: Enabled\n",
      "Target Volume: 36.0 ml\n",
      "Infuse rate: 222.0 ul/min\n",
      "Withdraw rate: 100.0 ul/min\n",
      "Infused volume: 0.0 ul\n",
      "Withdrawn volume: 0.0 ul\n",
      "\n",
      "\n"
     ]
    }
   ],
   "source": [
    "show_pump_status(pump_list, precursor_list)"
   ]
  },
  {
   "cell_type": "code",
   "execution_count": 74,
   "id": "a41a0d51-fdb4-4d88-bbf6-7b2d89ab5a2f",
   "metadata": {},
   "outputs": [
    {
     "name": "stderr",
     "output_type": "stream",
     "text": [
      "ERROR:bluesky:Run aborted\n",
      "Traceback (most recent call last):\n",
      "  File \"/nsls2/conda/envs/2022-3.0-py39-tiled/lib/python3.9/site-packages/bluesky/run_engine.py\", line 1559, in _run\n",
      "    msg.command, msg.obj, msg.args, msg.kwargs,\n",
      "AttributeError: 'str' object has no attribute 'command'\n"
     ]
    },
    {
     "ename": "AttributeError",
     "evalue": "'str' object has no attribute 'command'",
     "output_type": "error",
     "traceback": [
      "\u001b[0;31m---------------------------------------------------------------------------\u001b[0m",
      "\u001b[0;31mAttributeError\u001b[0m                            Traceback (most recent call last)",
      "Input \u001b[0;32mIn [74]\u001b[0m, in \u001b[0;36m<cell line: 1>\u001b[0;34m()\u001b[0m\n\u001b[0;32m----> 1\u001b[0m \u001b[43mRE\u001b[49m\u001b[43m(\u001b[49m\u001b[43mdds1_p1\u001b[49m\u001b[38;5;241;43m.\u001b[39;49m\u001b[43minfuse_pump\u001b[49m\u001b[43m(\u001b[49m\u001b[43m)\u001b[49m\u001b[43m)\u001b[49m\n",
      "File \u001b[0;32m/nsls2/conda/envs/2022-3.0-py39-tiled/lib/python3.9/site-packages/bluesky/run_engine.py:895\u001b[0m, in \u001b[0;36mRunEngine.__call__\u001b[0;34m(self, *args, **metadata_kw)\u001b[0m\n\u001b[1;32m    891\u001b[0m         \u001b[38;5;28mself\u001b[39m\u001b[38;5;241m.\u001b[39m_blocking_event\u001b[38;5;241m.\u001b[39mset()\n\u001b[1;32m    893\u001b[0m     \u001b[38;5;28mself\u001b[39m\u001b[38;5;241m.\u001b[39m_task_fut\u001b[38;5;241m.\u001b[39madd_done_callback(set_blocking_event)\n\u001b[0;32m--> 895\u001b[0m plan_return \u001b[38;5;241m=\u001b[39m \u001b[38;5;28;43mself\u001b[39;49m\u001b[38;5;241;43m.\u001b[39;49m\u001b[43m_resume_task\u001b[49m\u001b[43m(\u001b[49m\u001b[43minit_func\u001b[49m\u001b[38;5;241;43m=\u001b[39;49m\u001b[43m_build_task\u001b[49m\u001b[43m)\u001b[49m\n\u001b[1;32m    897\u001b[0m \u001b[38;5;28;01mif\u001b[39;00m \u001b[38;5;28mself\u001b[39m\u001b[38;5;241m.\u001b[39m_interrupted:\n\u001b[1;32m    898\u001b[0m     \u001b[38;5;28;01mraise\u001b[39;00m RunEngineInterrupted(\u001b[38;5;28mself\u001b[39m\u001b[38;5;241m.\u001b[39mpause_msg) \u001b[38;5;28;01mfrom\u001b[39;00m \u001b[38;5;28mNone\u001b[39m\n",
      "File \u001b[0;32m/nsls2/conda/envs/2022-3.0-py39-tiled/lib/python3.9/site-packages/bluesky/run_engine.py:1034\u001b[0m, in \u001b[0;36mRunEngine._resume_task\u001b[0;34m(self, init_func)\u001b[0m\n\u001b[1;32m   1030\u001b[0m \u001b[38;5;66;03m# if the main task exception is not None, re-raise\u001b[39;00m\n\u001b[1;32m   1031\u001b[0m \u001b[38;5;66;03m# it (unless it is a canceled error)\u001b[39;00m\n\u001b[1;32m   1032\u001b[0m \u001b[38;5;28;01mif\u001b[39;00m (exc \u001b[38;5;129;01mis\u001b[39;00m \u001b[38;5;129;01mnot\u001b[39;00m \u001b[38;5;28;01mNone\u001b[39;00m\n\u001b[1;32m   1033\u001b[0m         \u001b[38;5;129;01mand\u001b[39;00m \u001b[38;5;129;01mnot\u001b[39;00m \u001b[38;5;28misinstance\u001b[39m(exc, _RunEnginePanic)):\n\u001b[0;32m-> 1034\u001b[0m     \u001b[38;5;28;01mraise\u001b[39;00m exc\n\u001b[1;32m   1035\u001b[0m \u001b[38;5;66;03m# Only try to get a result if there wasn't an error,\u001b[39;00m\n\u001b[1;32m   1036\u001b[0m \u001b[38;5;66;03m# (other than a cancelled error)\u001b[39;00m\n\u001b[1;32m   1037\u001b[0m \u001b[38;5;28;01mif\u001b[39;00m exc \u001b[38;5;129;01mis\u001b[39;00m \u001b[38;5;28;01mNone\u001b[39;00m:\n",
      "File \u001b[0;32m/nsls2/conda/envs/2022-3.0-py39-tiled/lib/python3.9/site-packages/bluesky/run_engine.py:1667\u001b[0m, in \u001b[0;36mRunEngine._run\u001b[0;34m(self)\u001b[0m\n\u001b[1;32m   1665\u001b[0m     exit_reason \u001b[38;5;241m=\u001b[39m \u001b[38;5;28mstr\u001b[39m(err)\n\u001b[1;32m   1666\u001b[0m     \u001b[38;5;28mself\u001b[39m\u001b[38;5;241m.\u001b[39mlog\u001b[38;5;241m.\u001b[39mexception(\u001b[38;5;124m\"\u001b[39m\u001b[38;5;124mRun aborted\u001b[39m\u001b[38;5;124m\"\u001b[39m)\n\u001b[0;32m-> 1667\u001b[0m     \u001b[38;5;28;01mraise\u001b[39;00m err\n\u001b[1;32m   1668\u001b[0m \u001b[38;5;28;01mfinally\u001b[39;00m:\n\u001b[1;32m   1669\u001b[0m     \u001b[38;5;28;01mif\u001b[39;00m \u001b[38;5;129;01mnot\u001b[39;00m exit_reason:\n",
      "File \u001b[0;32m/nsls2/conda/envs/2022-3.0-py39-tiled/lib/python3.9/site-packages/bluesky/run_engine.py:1559\u001b[0m, in \u001b[0;36mRunEngine._run\u001b[0;34m(self)\u001b[0m\n\u001b[1;32m   1556\u001b[0m \u001b[38;5;28;01mif\u001b[39;00m \u001b[38;5;28mself\u001b[39m\u001b[38;5;241m.\u001b[39mmsg_hook \u001b[38;5;129;01mis\u001b[39;00m \u001b[38;5;129;01mnot\u001b[39;00m \u001b[38;5;28;01mNone\u001b[39;00m:\n\u001b[1;32m   1557\u001b[0m     \u001b[38;5;28mself\u001b[39m\u001b[38;5;241m.\u001b[39mmsg_hook(msg)\n\u001b[1;32m   1558\u001b[0m debug(\u001b[38;5;124m\"\u001b[39m\u001b[38;5;132;01m%s\u001b[39;00m\u001b[38;5;124m(\u001b[39m\u001b[38;5;132;01m%r\u001b[39;00m\u001b[38;5;124m, *\u001b[39m\u001b[38;5;132;01m%r\u001b[39;00m\u001b[38;5;124m **\u001b[39m\u001b[38;5;132;01m%r\u001b[39;00m\u001b[38;5;124m, run=\u001b[39m\u001b[38;5;132;01m%r\u001b[39;00m\u001b[38;5;124m)\u001b[39m\u001b[38;5;124m\"\u001b[39m,\n\u001b[0;32m-> 1559\u001b[0m       \u001b[43mmsg\u001b[49m\u001b[38;5;241;43m.\u001b[39;49m\u001b[43mcommand\u001b[49m, msg\u001b[38;5;241m.\u001b[39mobj, msg\u001b[38;5;241m.\u001b[39margs, msg\u001b[38;5;241m.\u001b[39mkwargs,\n\u001b[1;32m   1560\u001b[0m       msg\u001b[38;5;241m.\u001b[39mrun, extra\u001b[38;5;241m=\u001b[39m{\u001b[38;5;124m'\u001b[39m\u001b[38;5;124mmsg_command\u001b[39m\u001b[38;5;124m'\u001b[39m: msg\u001b[38;5;241m.\u001b[39mcommand})\n\u001b[1;32m   1562\u001b[0m \u001b[38;5;66;03m# update the running set of all objects we have seen\u001b[39;00m\n\u001b[1;32m   1563\u001b[0m \u001b[38;5;28mself\u001b[39m\u001b[38;5;241m.\u001b[39m_objs_seen\u001b[38;5;241m.\u001b[39madd(msg\u001b[38;5;241m.\u001b[39mobj)\n",
      "\u001b[0;31mAttributeError\u001b[0m: 'str' object has no attribute 'command'"
     ]
    }
   ],
   "source": [
    "RE(dds1_p1.infuse_pump())"
   ]
  },
  {
   "cell_type": "code",
   "execution_count": 75,
   "id": "5dde56a0-d162-4205-ae3e-4aa57d8b8f02",
   "metadata": {},
   "outputs": [
    {
     "data": {
      "text/html": [
       "\n",
       "\n",
       "\n",
       "<table>\n",
       "  <tr>\n",
       "    <td><table>\n",
       "<caption> Start </caption><tr>\n",
       "    <th> detectors </th>\n",
       "    <td><table><tr><td>det4</td></tr></table></td>\n",
       "  </tr><tr>\n",
       "    <th> hints </th>\n",
       "    <td><table>\n",
       "          <tr>\n",
       "    <th> dimensions </th>\n",
       "    <td><table><tr><td>[['time'], 'primary']</td></tr></table></td>\n",
       "  </tr>\n",
       "        </table></td>\n",
       "  </tr><tr>\n",
       "    <th> num_intervals </th>\n",
       "    <td>21</td>\n",
       "  </tr><tr>\n",
       "    <th> num_points </th>\n",
       "    <td>22</td>\n",
       "  </tr><tr>\n",
       "    <th> plan_args </th>\n",
       "    <td><table>\n",
       "          <tr>\n",
       "    <th> detectors </th>\n",
       "    <td><table><tr><td>Syn2DGauss(prefix='', name='det4', read_attrs=['val'], configuration_attrs=['Imax', 'center', 'sigma', 'noise', 'noise_multiplier'])</td></tr></table></td>\n",
       "  </tr><tr>\n",
       "    <th> num </th>\n",
       "    <td>22</td>\n",
       "  </tr>\n",
       "        </table></td>\n",
       "  </tr><tr>\n",
       "    <th> plan_name </th>\n",
       "    <td>count</td>\n",
       "  </tr><tr>\n",
       "    <th> plan_type </th>\n",
       "    <td>generator</td>\n",
       "  </tr><tr>\n",
       "    <th> scan_id </th>\n",
       "    <td>2</td>\n",
       "  </tr><tr>\n",
       "    <th> time </th>\n",
       "    <td>55 minutes ago (2022-10-13T16:36:00.083558)</td>\n",
       "  </tr><tr>\n",
       "    <th> uid </th>\n",
       "    <td>8526f12c-89c7-4f0f-872a-9f75a552e0a2</td>\n",
       "  </tr><tr>\n",
       "    <th> versions </th>\n",
       "    <td><table>\n",
       "          <tr>\n",
       "    <th> bluesky </th>\n",
       "    <td>1.9.0</td>\n",
       "  </tr><tr>\n",
       "    <th> ophyd </th>\n",
       "    <td>1.7.0</td>\n",
       "  </tr>\n",
       "        </table></td>\n",
       "  </tr></table></td>\n",
       "  </tr\n",
       "  <tr>\n",
       "    <td><table>\n",
       "<caption> Stop </caption><tr>\n",
       "    <th> exit_status </th>\n",
       "    <td>success</td>\n",
       "  </tr><tr>\n",
       "    <th> num_events </th>\n",
       "    <td><table>\n",
       "          <tr>\n",
       "    <th> primary </th>\n",
       "    <td>22</td>\n",
       "  </tr>\n",
       "        </table></td>\n",
       "  </tr><tr>\n",
       "    <th> reason </th>\n",
       "    <td></td>\n",
       "  </tr><tr>\n",
       "    <th> run_start </th>\n",
       "    <td>8526f12c-89c7-4f0f-872a-9f75a552e0a2</td>\n",
       "  </tr><tr>\n",
       "    <th> time </th>\n",
       "    <td>55 minutes ago (2022-10-13T16:36:00.222396)</td>\n",
       "  </tr><tr>\n",
       "    <th> uid </th>\n",
       "    <td>071bdcde-4a55-485f-b188-fad5040c70ac</td>\n",
       "  </tr></table></td>\n",
       "  </tr>\n",
       "  <tr>\n",
       "  <td>\n",
       "      <table>\n",
       "      <caption>Descriptors</caption><tr>\n",
       "         <td> <table>\n",
       "<caption> primary </caption><tr>\n",
       "    <th> configuration </th>\n",
       "    <td><table>\n",
       "          <tr>\n",
       "    <th> det4 </th>\n",
       "    <td><table>\n",
       "          <tr>\n",
       "    <th> data </th>\n",
       "    <td><table>\n",
       "          <tr>\n",
       "    <th> det4_center </th>\n",
       "    <td><table><tr><td>0</td></tr><tr><td>0</td></tr></table></td>\n",
       "  </tr><tr>\n",
       "    <th> det4_Imax </th>\n",
       "    <td>1</td>\n",
       "  </tr><tr>\n",
       "    <th> det4_noise </th>\n",
       "    <td>none</td>\n",
       "  </tr><tr>\n",
       "    <th> det4_noise_multiplier </th>\n",
       "    <td>1</td>\n",
       "  </tr><tr>\n",
       "    <th> det4_sigma </th>\n",
       "    <td>1</td>\n",
       "  </tr>\n",
       "        </table></td>\n",
       "  </tr><tr>\n",
       "    <th> data_keys </th>\n",
       "    <td><table>\n",
       "          <tr>\n",
       "    <th> det4_center </th>\n",
       "    <td><table>\n",
       "          <tr>\n",
       "    <th> dtype </th>\n",
       "    <td>array</td>\n",
       "  </tr><tr>\n",
       "    <th> shape </th>\n",
       "    <td><table><tr><td>2</td></tr></table></td>\n",
       "  </tr><tr>\n",
       "    <th> source </th>\n",
       "    <td>SIM:det4_center</td>\n",
       "  </tr>\n",
       "        </table></td>\n",
       "  </tr><tr>\n",
       "    <th> det4_Imax </th>\n",
       "    <td><table>\n",
       "          <tr>\n",
       "    <th> dtype </th>\n",
       "    <td>integer</td>\n",
       "  </tr><tr>\n",
       "    <th> shape </th>\n",
       "    <td><table></table></td>\n",
       "  </tr><tr>\n",
       "    <th> source </th>\n",
       "    <td>SIM:det4_Imax</td>\n",
       "  </tr>\n",
       "        </table></td>\n",
       "  </tr><tr>\n",
       "    <th> det4_noise </th>\n",
       "    <td><table>\n",
       "          <tr>\n",
       "    <th> dtype </th>\n",
       "    <td>integer</td>\n",
       "  </tr><tr>\n",
       "    <th> enum_strs </th>\n",
       "    <td><table><tr><td>none</td></tr><tr><td>poisson</td></tr><tr><td>uniform</td></tr></table></td>\n",
       "  </tr><tr>\n",
       "    <th> shape </th>\n",
       "    <td><table></table></td>\n",
       "  </tr><tr>\n",
       "    <th> source </th>\n",
       "    <td>SIM:det4_noise</td>\n",
       "  </tr>\n",
       "        </table></td>\n",
       "  </tr><tr>\n",
       "    <th> det4_noise_multiplier </th>\n",
       "    <td><table>\n",
       "          <tr>\n",
       "    <th> dtype </th>\n",
       "    <td>integer</td>\n",
       "  </tr><tr>\n",
       "    <th> shape </th>\n",
       "    <td><table></table></td>\n",
       "  </tr><tr>\n",
       "    <th> source </th>\n",
       "    <td>SIM:det4_noise_multiplier</td>\n",
       "  </tr>\n",
       "        </table></td>\n",
       "  </tr><tr>\n",
       "    <th> det4_sigma </th>\n",
       "    <td><table>\n",
       "          <tr>\n",
       "    <th> dtype </th>\n",
       "    <td>integer</td>\n",
       "  </tr><tr>\n",
       "    <th> shape </th>\n",
       "    <td><table></table></td>\n",
       "  </tr><tr>\n",
       "    <th> source </th>\n",
       "    <td>SIM:det4_sigma</td>\n",
       "  </tr>\n",
       "        </table></td>\n",
       "  </tr>\n",
       "        </table></td>\n",
       "  </tr><tr>\n",
       "    <th> timestamps </th>\n",
       "    <td><table>\n",
       "          <tr>\n",
       "    <th> det4_center </th>\n",
       "    <td>1665691239.7131078</td>\n",
       "  </tr><tr>\n",
       "    <th> det4_Imax </th>\n",
       "    <td>1665691239.713112</td>\n",
       "  </tr><tr>\n",
       "    <th> det4_noise </th>\n",
       "    <td>1665691239.7131195</td>\n",
       "  </tr><tr>\n",
       "    <th> det4_noise_multiplier </th>\n",
       "    <td>1665691239.7131233</td>\n",
       "  </tr><tr>\n",
       "    <th> det4_sigma </th>\n",
       "    <td>1665691239.7131157</td>\n",
       "  </tr>\n",
       "        </table></td>\n",
       "  </tr>\n",
       "        </table></td>\n",
       "  </tr>\n",
       "        </table></td>\n",
       "  </tr><tr>\n",
       "    <th> data_keys </th>\n",
       "    <td><table>\n",
       "          <tr>\n",
       "    <th> det4 </th>\n",
       "    <td><table>\n",
       "          <tr>\n",
       "    <th> dtype </th>\n",
       "    <td>number</td>\n",
       "  </tr><tr>\n",
       "    <th> object_name </th>\n",
       "    <td>det4</td>\n",
       "  </tr><tr>\n",
       "    <th> precision </th>\n",
       "    <td>3</td>\n",
       "  </tr><tr>\n",
       "    <th> shape </th>\n",
       "    <td><table></table></td>\n",
       "  </tr><tr>\n",
       "    <th> source </th>\n",
       "    <td>SIM:det4</td>\n",
       "  </tr>\n",
       "        </table></td>\n",
       "  </tr>\n",
       "        </table></td>\n",
       "  </tr><tr>\n",
       "    <th> hints </th>\n",
       "    <td><table>\n",
       "          <tr>\n",
       "    <th> det4 </th>\n",
       "    <td><table>\n",
       "          <tr>\n",
       "    <th> fields </th>\n",
       "    <td><table><tr><td>det4</td></tr></table></td>\n",
       "  </tr>\n",
       "        </table></td>\n",
       "  </tr>\n",
       "        </table></td>\n",
       "  </tr><tr>\n",
       "    <th> name </th>\n",
       "    <td>primary</td>\n",
       "  </tr><tr>\n",
       "    <th> object_keys </th>\n",
       "    <td><table>\n",
       "          <tr>\n",
       "    <th> det4 </th>\n",
       "    <td><table><tr><td>det4</td></tr></table></td>\n",
       "  </tr>\n",
       "        </table></td>\n",
       "  </tr><tr>\n",
       "    <th> run_start </th>\n",
       "    <td>8526f12c-89c7-4f0f-872a-9f75a552e0a2</td>\n",
       "  </tr><tr>\n",
       "    <th> time </th>\n",
       "    <td>55 minutes ago (2022-10-13T16:36:00.095493)</td>\n",
       "  </tr><tr>\n",
       "    <th> uid </th>\n",
       "    <td>866a8245-08a0-4514-929e-555426311f67</td>\n",
       "  </tr></table> </td>\n",
       "         </tr></table>\n",
       "    </td>\n",
       "</tr>\n",
       "</table>"
      ],
      "text/plain": [
       "<databroker.v1.Header at 0x7f90e4331970>"
      ]
     },
     "execution_count": 75,
     "metadata": {},
     "output_type": "execute_result"
    }
   ],
   "source": [
    "db[-1]"
   ]
  },
  {
   "cell_type": "code",
   "execution_count": 36,
   "id": "633048e7-0783-41d3-99bc-e55f6d07ce8a",
   "metadata": {},
   "outputs": [
    {
     "name": "stdout",
     "output_type": "stream",
     "text": [
      "Reached setpoint -5.0.\n"
     ]
    }
   ],
   "source": [
    "qepro.set_temp(-5)"
   ]
  },
  {
   "cell_type": "code",
   "execution_count": 37,
   "id": "d9adf378-c728-47ee-be16-faa53e7bd304",
   "metadata": {},
   "outputs": [
    {
     "data": {
      "text/plain": [
       "\u001b[0;31mSignature:\u001b[0m\n",
       "\u001b[0mqepro\u001b[0m\u001b[0;34m.\u001b[0m\u001b[0msetup_collection\u001b[0m\u001b[0;34m(\u001b[0m\u001b[0;34m\u001b[0m\n",
       "\u001b[0;34m\u001b[0m    \u001b[0mintegration_time\u001b[0m\u001b[0;34m=\u001b[0m\u001b[0;36m100\u001b[0m\u001b[0;34m,\u001b[0m\u001b[0;34m\u001b[0m\n",
       "\u001b[0;34m\u001b[0m    \u001b[0mnum_spectra_to_average\u001b[0m\u001b[0;34m=\u001b[0m\u001b[0;36m10\u001b[0m\u001b[0;34m,\u001b[0m\u001b[0;34m\u001b[0m\n",
       "\u001b[0;34m\u001b[0m    \u001b[0mspectrum_type\u001b[0m\u001b[0;34m=\u001b[0m\u001b[0;34m'Absorbtion'\u001b[0m\u001b[0;34m,\u001b[0m\u001b[0;34m\u001b[0m\n",
       "\u001b[0;34m\u001b[0m    \u001b[0mcorrection_type\u001b[0m\u001b[0;34m=\u001b[0m\u001b[0;34m'Reference'\u001b[0m\u001b[0;34m,\u001b[0m\u001b[0;34m\u001b[0m\n",
       "\u001b[0;34m\u001b[0m    \u001b[0melectric_dark_correction\u001b[0m\u001b[0;34m=\u001b[0m\u001b[0;32mTrue\u001b[0m\u001b[0;34m,\u001b[0m\u001b[0;34m\u001b[0m\n",
       "\u001b[0;34m\u001b[0m\u001b[0;34m)\u001b[0m\u001b[0;34m\u001b[0m\u001b[0;34m\u001b[0m\u001b[0m\n",
       "\u001b[0;31mDocstring:\u001b[0m <no docstring>\n",
       "\u001b[0;31mFile:\u001b[0m      /tmp/ipykernel_1287621/692090166.py\n",
       "\u001b[0;31mType:\u001b[0m      method\n"
      ]
     },
     "metadata": {},
     "output_type": "display_data"
    }
   ],
   "source": [
    "qepro.setup_collection?"
   ]
  },
  {
   "cell_type": "code",
   "execution_count": 64,
   "id": "daf2b1d1-9305-4037-b979-561ccd8d3685",
   "metadata": {},
   "outputs": [],
   "source": [
    "qepro.setup_collection(integration_time=100, num_spectra_to_average=10, electric_dark_correction=True)"
   ]
  },
  {
   "cell_type": "code",
   "execution_count": 60,
   "id": "cbcc6fed-50c5-462c-9ce0-31859186539c",
   "metadata": {},
   "outputs": [
    {
     "data": {
      "text/plain": [
       "'High'"
      ]
     },
     "execution_count": 60,
     "metadata": {},
     "output_type": "execute_result"
    }
   ],
   "source": [
    "shutter_close()\n",
    "qepro.get_dark_frame()\n",
    "shutter_open()"
   ]
  },
  {
   "cell_type": "code",
   "execution_count": 61,
   "id": "44b18fe9-1acc-48f2-b313-91686d8b70fb",
   "metadata": {},
   "outputs": [],
   "source": [
    "qepro.get_reference_frame()"
   ]
  },
  {
   "cell_type": "code",
   "execution_count": 65,
   "id": "446eac26-1986-4b31-81e3-943926a6880c",
   "metadata": {},
   "outputs": [],
   "source": [
    "qepro.trigger()"
   ]
  },
  {
   "cell_type": "code",
   "execution_count": 67,
   "id": "f35437e3-b6f3-40cd-b874-508b766be3b2",
   "metadata": {},
   "outputs": [],
   "source": [
    "qepro.plot_spectra()"
   ]
  },
  {
   "cell_type": "code",
   "execution_count": 239,
   "id": "9889649b-526c-4aa9-89c7-9c5272280cea",
   "metadata": {},
   "outputs": [],
   "source": [
    "def h5_rate_spectra(h5_path, h5_name, pump_list, precursor_list, absor=qepro, xray=det4, delay=None):\n",
    "\n",
    "    fout = h5_path + h5_name\n",
    "    t_q = list(absor.read().items())[0][1]['timestamp']\n",
    "    dt = datetime.fromtimestamp(t_q)\n",
    "\n",
    "    \n",
    "    with h5py.File(fout, 'w') as hf:\n",
    "        hf.create_dataset('Time_QEPro', data=[f'{dt.year}{dt.month:02d}{dt.day:02d}', f'{dt.hour:02d}{dt.minute:02d}{dt.second:02d}'])\n",
    "        hf.create_dataset('Wavelength', data=absor.x_axis.get())\n",
    "        hf.create_dataset('Dark', data=absor.dark.get())\n",
    "        if absor.spectrum_type.get(as_string=True) == 'Absorbtion':           \n",
    "            hf.create_dataset('Reference', data=absor.reference.get())\n",
    "            hf.create_dataset('Sample_UV', data=absor.sample.get())\n",
    "            hf.create_dataset('Abosrbance', data=absor.output.get())\n",
    "        else:\n",
    "            hf.create_dataset('Sample_PL', data=absor.sample.get())\n",
    "            hf.create_dataset('PL', data=absor.output.get())            \n",
    "        for pump, precursor in zip(pump_list, precursor_list):\n",
    "            hf.create_dataset(pump.name, data=[f'{precursor}', f'{pump.read_infuse_rate.get()}', \n",
    "                                               pump.read_infuse_rate_unit.get()])      \n",
    "    print(f'{fout} is saved.')\n",
    "    hf.close()\n",
    "\n",
    "    \n",
    "\n",
    "    \n",
    "def csv_rate_spectra(csv_path, csv_name, pump_list, precursor_list, absor=qepro, xray=det4, delay=None):\n",
    "\n",
    "    fout = csv_path + csv_name\n",
    "    t_q = list(absor.read().items())[0][1]['timestamp']\n",
    "    dt = datetime.fromtimestamp(t_q)\n",
    "    \n",
    "    with open(fout, 'w') as fp:\n",
    "        for pump, precursor in zip(pump_list, precursor_list):\n",
    "            fp.write(f'{pump.name},{precursor},{pump.read_infuse_rate.get()},{pump.read_infuse_rate_unit.get()}\\n')        \n",
    "        \n",
    "        fp.write(f'Time_QEPro,{dt.year}{dt.month:02d}{dt.day:02d},{dt.hour:02d}{dt.minute:02d}{dt.second:02d}\\n')\n",
    "        x_axis_data = absor.x_axis.get()\n",
    "        output_data = absor.output.get()\n",
    "        sample_data = absor.sample.get()\n",
    "        dark_data = absor.dark.get()\n",
    "        reference_data = absor.reference.get()\n",
    "        if absor.spectrum_type.get(as_string=True) == 'Absorbtion':\n",
    "            fp.write('Energy,Dark,Reference,Sample,Absorbance\\n')\n",
    "        else:\n",
    "            fp.write('Energy,Dark,Raw Sample,PL\\n')\n",
    "\n",
    "        for i in range(len(output_data)):\n",
    "            if absor.spectrum_type.get(as_string=True) == 'Absorbtion':\n",
    "                fp.write(f'{x_axis_data[i]},{dark_data[i]},{reference_data[i]},{sample_data[i]},{output_data[i]}\\n')\n",
    "            else:\n",
    "                fp.write(f'{x_axis_data[i]},{dark_data[i]},{sample_data[i]},{output_data[i]}\\n')\n",
    "\n",
    "        print('Done.')\n"
   ]
  },
  {
   "cell_type": "code",
   "execution_count": 241,
   "id": "a584f8a3-f297-41c4-bc55-8a3adbedc224",
   "metadata": {},
   "outputs": [
    {
     "name": "stdout",
     "output_type": "stream",
     "text": [
      "/nsls2/users/clin1/Documents/Cheng-Hung/temp/20220912_test6.h5 is saved.\n"
     ]
    }
   ],
   "source": [
    "h5_path = '/nsls2/users/clin1/Documents/Cheng-Hung/temp/'\n",
    "h5_name = '20220912_test6.h5'\n",
    "h5_rate_spectra(h5_path, h5_name, pump_list, precursor_list, absor=qepro)"
   ]
  },
  {
   "cell_type": "code",
   "execution_count": 242,
   "id": "4d1a6527-2855-4cfd-8250-ebeebe79c197",
   "metadata": {},
   "outputs": [
    {
     "name": "stdout",
     "output_type": "stream",
     "text": [
      "Done.\n"
     ]
    }
   ],
   "source": [
    "csv_path = '/nsls2/users/clin1/Documents/Cheng-Hung/temp/'\n",
    "csv_name = '20220912_test3.csv'\n",
    "csv_rate_spectra(csv_path, csv_name, pump_list, precursor_list, absor=qepro)"
   ]
  },
  {
   "cell_type": "code",
   "execution_count": 238,
   "id": "6380df0f-acb6-479c-95f2-806d367452fa",
   "metadata": {},
   "outputs": [
    {
     "data": {
      "text/html": [
       "<div>\n",
       "<style scoped>\n",
       "    .dataframe tbody tr th:only-of-type {\n",
       "        vertical-align: middle;\n",
       "    }\n",
       "\n",
       "    .dataframe tbody tr th {\n",
       "        vertical-align: top;\n",
       "    }\n",
       "\n",
       "    .dataframe thead th {\n",
       "        text-align: right;\n",
       "    }\n",
       "</style>\n",
       "<table border=\"1\" class=\"dataframe\">\n",
       "  <thead>\n",
       "    <tr style=\"text-align: right;\">\n",
       "      <th></th>\n",
       "      <th>Energy</th>\n",
       "      <th>Dark</th>\n",
       "      <th>Reference</th>\n",
       "      <th>Sample</th>\n",
       "      <th>Absorption</th>\n",
       "    </tr>\n",
       "  </thead>\n",
       "  <tbody>\n",
       "    <tr>\n",
       "      <th>0</th>\n",
       "      <td>196.262863</td>\n",
       "      <td>13.375</td>\n",
       "      <td>1.875</td>\n",
       "      <td>11.975</td>\n",
       "      <td>NaN</td>\n",
       "    </tr>\n",
       "    <tr>\n",
       "      <th>1</th>\n",
       "      <td>197.066232</td>\n",
       "      <td>0.375</td>\n",
       "      <td>-9.125</td>\n",
       "      <td>-1.925</td>\n",
       "      <td>NaN</td>\n",
       "    </tr>\n",
       "    <tr>\n",
       "      <th>2</th>\n",
       "      <td>197.869529</td>\n",
       "      <td>2.375</td>\n",
       "      <td>-12.125</td>\n",
       "      <td>-6.025</td>\n",
       "      <td>0.247821</td>\n",
       "    </tr>\n",
       "    <tr>\n",
       "      <th>3</th>\n",
       "      <td>198.672754</td>\n",
       "      <td>-4.625</td>\n",
       "      <td>-18.125</td>\n",
       "      <td>-6.025</td>\n",
       "      <td>NaN</td>\n",
       "    </tr>\n",
       "    <tr>\n",
       "      <th>4</th>\n",
       "      <td>199.475907</td>\n",
       "      <td>2.375</td>\n",
       "      <td>711.875</td>\n",
       "      <td>101.975</td>\n",
       "      <td>0.853046</td>\n",
       "    </tr>\n",
       "    <tr>\n",
       "      <th>...</th>\n",
       "      <td>...</td>\n",
       "      <td>...</td>\n",
       "      <td>...</td>\n",
       "      <td>...</td>\n",
       "      <td>...</td>\n",
       "    </tr>\n",
       "    <tr>\n",
       "      <th>1039</th>\n",
       "      <td>989.418604</td>\n",
       "      <td>2.375</td>\n",
       "      <td>157033.875</td>\n",
       "      <td>27225.275</td>\n",
       "      <td>0.761054</td>\n",
       "    </tr>\n",
       "    <tr>\n",
       "      <th>1040</th>\n",
       "      <td>990.139347</td>\n",
       "      <td>-2.625</td>\n",
       "      <td>45.875</td>\n",
       "      <td>6.475</td>\n",
       "      <td>0.732903</td>\n",
       "    </tr>\n",
       "    <tr>\n",
       "      <th>1041</th>\n",
       "      <td>990.860002</td>\n",
       "      <td>-4.625</td>\n",
       "      <td>1.875</td>\n",
       "      <td>-0.425</td>\n",
       "      <td>NaN</td>\n",
       "    </tr>\n",
       "    <tr>\n",
       "      <th>1042</th>\n",
       "      <td>991.580571</td>\n",
       "      <td>0.375</td>\n",
       "      <td>-5.125</td>\n",
       "      <td>-1.525</td>\n",
       "      <td>0.591914</td>\n",
       "    </tr>\n",
       "    <tr>\n",
       "      <th>1043</th>\n",
       "      <td>992.301053</td>\n",
       "      <td>-4.625</td>\n",
       "      <td>-5.125</td>\n",
       "      <td>-2.525</td>\n",
       "      <td>NaN</td>\n",
       "    </tr>\n",
       "  </tbody>\n",
       "</table>\n",
       "<p>1044 rows × 5 columns</p>\n",
       "</div>"
      ],
      "text/plain": [
       "          Energy    Dark   Reference     Sample  Absorption\n",
       "0     196.262863  13.375       1.875     11.975         NaN\n",
       "1     197.066232   0.375      -9.125     -1.925         NaN\n",
       "2     197.869529   2.375     -12.125     -6.025    0.247821\n",
       "3     198.672754  -4.625     -18.125     -6.025         NaN\n",
       "4     199.475907   2.375     711.875    101.975    0.853046\n",
       "...          ...     ...         ...        ...         ...\n",
       "1039  989.418604   2.375  157033.875  27225.275    0.761054\n",
       "1040  990.139347  -2.625      45.875      6.475    0.732903\n",
       "1041  990.860002  -4.625       1.875     -0.425         NaN\n",
       "1042  991.580571   0.375      -5.125     -1.525    0.591914\n",
       "1043  992.301053  -4.625      -5.125     -2.525         NaN\n",
       "\n",
       "[1044 rows x 5 columns]"
      ]
     },
     "execution_count": 238,
     "metadata": {},
     "output_type": "execute_result"
    }
   ],
   "source": [
    "f = '/nsls2/users/clin1/Documents/Cheng-Hung/temp/20220912_test2.csv'\n",
    "df = pd.read_csv(f, skiprows=3)\n",
    "df"
   ]
  },
  {
   "cell_type": "code",
   "execution_count": 127,
   "id": "62341183-8dca-40e4-89d7-55be962d7d2b",
   "metadata": {},
   "outputs": [
    {
     "data": {
      "text/plain": [
       "\u001b[0;31mType:\u001b[0m        datetime\n",
       "\u001b[0;31mString form:\u001b[0m 2022-09-12 17:47:44.002734\n",
       "\u001b[0;31mFile:\u001b[0m        /nsls2/conda/envs/2022-3.0-py39-tiled/lib/python3.9/datetime.py\n",
       "\u001b[0;31mDocstring:\u001b[0m  \n",
       "datetime(year, month, day[, hour[, minute[, second[, microsecond[,tzinfo]]]]])\n",
       "\n",
       "The year, month and day arguments are required. tzinfo may be None, or an\n",
       "instance of a tzinfo subclass. The remaining arguments may be ints.\n"
      ]
     },
     "metadata": {},
     "output_type": "display_data"
    }
   ],
   "source": [
    "b = list(dds1_p1.read().items())\n",
    "b[0][1]['timestamp']\n",
    "dt = datetime.fromtimestamp(b[0][1]['timestamp'])\n",
    "dt?"
   ]
  },
  {
   "cell_type": "code",
   "execution_count": 201,
   "id": "d79afa52-e367-4d10-928b-6d48b42a60e1",
   "metadata": {},
   "outputs": [
    {
     "data": {
      "text/plain": [
       "'DDS1_p1'"
      ]
     },
     "execution_count": 201,
     "metadata": {},
     "output_type": "execute_result"
    }
   ],
   "source": [
    "dds1_p1.name"
   ]
  },
  {
   "cell_type": "code",
   "execution_count": 203,
   "id": "0bc687c6-9bc2-4615-9d17-2e60ba653608",
   "metadata": {},
   "outputs": [
    {
     "name": "stdout",
     "output_type": "stream",
     "text": [
      "DDS1_p1\n",
      "['CsPb 30 mM', 76.0, 'ul/min']\n",
      "DDS1_p2\n",
      "['TetraBr 30 mM', 20.0, 'ul/min']\n"
     ]
    }
   ],
   "source": [
    "for pump, precursor in zip(pump_list, precursor_list):\n",
    "    print(pump.name)\n",
    "    data=[f'{precursor}', pump.read_infuse_rate.get(), pump.read_infuse_rate_unit.get()]\n",
    "    print(data)"
   ]
  },
  {
   "cell_type": "code",
   "execution_count": null,
   "id": "a8966b2f-5e5b-4dd3-a7a1-bac58c64e5da",
   "metadata": {},
   "outputs": [],
   "source": []
  }
 ],
 "metadata": {
  "kernelspec": {
   "display_name": "Python 3 (ipykernel)",
   "language": "python",
   "name": "python3"
  },
  "language_info": {
   "codemirror_mode": {
    "name": "ipython",
    "version": 3
   },
   "file_extension": ".py",
   "mimetype": "text/x-python",
   "name": "python",
   "nbconvert_exporter": "python",
   "pygments_lexer": "ipython3",
   "version": "3.9.13"
  }
 },
 "nbformat": 4,
 "nbformat_minor": 5
}
