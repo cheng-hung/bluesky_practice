{
 "cells": [
  {
   "cell_type": "code",
   "execution_count": 81,
   "id": "64934e05-23ec-4c22-8f97-fd4420b0888e",
   "metadata": {},
   "outputs": [],
   "source": [
    "from ophyd import Device, EpicsMotor, EpicsSignal, EpicsSignalRO\n",
    "from ophyd import Component as Cpt\n",
    "import time\n",
    "import pandas as pd\n",
    "import numpy as np\n",
    "import bluesky.plan_stubs as bps\n",
    "from bluesky.plans import count"
   ]
  },
  {
   "cell_type": "code",
   "execution_count": 67,
   "id": "2f66ca66-475f-41c3-a9ef-04e8a5fea1fa",
   "metadata": {},
   "outputs": [],
   "source": [
    "class syrng_DDS(Device):\n",
    "    \n",
    "    communication = Cpt(EpicsSignal, '}DISABLE', string=True, kind='config')\n",
    "    # 1: Disabled, 0: Enabled\n",
    "    \n",
    "    update_pump = Cpt(EpicsSignal, '}UPDATE.SCAN', string=True, kind='config')\n",
    "    # 0: Passive, 1: Event, 2: I/O Intr, 3: 10 second 4: 5 second\n",
    "    # 5: 2 second, 6: 1 second, 7: .5 second, 8: .2 second, 9: .1 second\n",
    "    \n",
    "    set_condition = Cpt(EpicsSignal, '}CONDITION', string=True, kind='config')\n",
    "    show_condition = Cpt(EpicsSignalRO, '}CONDITION:RBV',string=True, kind='config')\n",
    "    \n",
    "\n",
    "    \n",
    "class syrng_DDS_ax(Device):\n",
    "    \n",
    "    status = Cpt(EpicsSignalRO, 'STATUS', string=True)\n",
    "    # 0: Idle, 1: Infusing, 2: Withdrawing, 4: Target Reached\n",
    "    \n",
    "    \n",
    "    pump_infuse = Cpt(EpicsSignal, 'IRUN')\n",
    "    pump_withdraw = Cpt(EpicsSignal, 'WRUN')\n",
    "    pump_stop = Cpt(EpicsSignal, 'STOP')\n",
    "    \n",
    "    \n",
    "    target_vol = Cpt(EpicsSignal, 'TVOLUME', kind='config')\n",
    "    target_vol_unit = Cpt(EpicsSignal, 'TVOLUME:EGU', string=True, kind='config')\n",
    "    read_target_vol = Cpt(EpicsSignalRO, 'TVOLUME:RBV', kind='config')\n",
    "    read_target_vol_unit = Cpt(EpicsSignalRO, 'TVOLUME:RBV:EGU', string=True, kind='config')\n",
    "    \n",
    "    clear_infused = Cpt(EpicsSignal, 'CIVOLUME')\n",
    "    clear_withdrawn = Cpt(EpicsSignal, 'CWVOLUME')\n",
    "    \n",
    "    read_infused = Cpt(EpicsSignalRO, 'IVOLUME:RBV')\n",
    "    read_withdrawn = Cpt(EpicsSignalRO, 'WVOLUME:RBV')\n",
    "    read_infused_unit = Cpt(EpicsSignalRO, 'IVOLUME:RBV:EGU', string=True)\n",
    "    read_withdrawn_unit = Cpt(EpicsSignalRO, 'WVOLUME:RBV:EGU', string=True)\n",
    "    \n",
    "    infuse_rate = Cpt(EpicsSignal, 'IRATE', kind='hinted')\n",
    "    infuse_rate_unit = Cpt(EpicsSignal, 'IRATE:EGU', string=True, kind='hinted')\n",
    "    withdraw_rate = Cpt(EpicsSignal, 'WRATE', kind='hinted')\n",
    "    withdraw_rate_unit = Cpt(EpicsSignal, 'WRATE:EGU', string=True, kind='hinted')\n",
    "    \n",
    "    read_infuse_rate = Cpt(EpicsSignalRO, 'IRATE:RBV', kind='hinted')\n",
    "    read_infuse_rate_unit = Cpt(EpicsSignalRO, 'IRATE:RBV:EGU', string=True, kind='hinted')\n",
    "    read_withdraw_rate = Cpt(EpicsSignalRO, 'WRATE:RBV', kind='hinted')\n",
    "    read_withdraw_rate_unit = Cpt(EpicsSignalRO, 'WRATE:RBV:EGU', string=True, kind='hinted')    \n",
    "    \n",
    "    max_infuse = Cpt(EpicsSignal, 'IRATE:MAX', kind='hinted')\n",
    "    max_withdraw = Cpt(EpicsSignal, 'WRATE:MAX', kind='hinted')\n",
    "    min_infuse = Cpt(EpicsSignal, 'IRATE:MIN', kind='hinted')\n",
    "    min_withdraw = Cpt(EpicsSignal, 'WRATE:MIN', kind='hinted')\n",
    "    \n",
    "    set_infuse_range = Cpt(EpicsSignal, 'IRATE:LIM.PROC', kind='hinted')\n",
    "    set_withdraw_range = Cpt(EpicsSignal, 'WRATE:LIM.PROC', kind='hinted')\n",
    "    read_max_infuse = Cpt(EpicsSignalRO, 'IRATE:MAX:RBV', kind='hinted')\n",
    "    read_max_infuse_unit = Cpt(EpicsSignalRO, 'IRATE:MAX:RBV:EGU', kind='hinted', string=True)\n",
    "    read_max_withdraw = Cpt(EpicsSignalRO, 'WRATE:MAX:RBV', kind='hinted')\n",
    "    read_max_withdraw_unit = Cpt(EpicsSignalRO, 'WRATE:MAX:RBV:EGU', kind='hinted', string=True)\n",
    "    read_min_infuse = Cpt(EpicsSignalRO, 'IRATE:MIN:RBV', kind='hinted')\n",
    "    read_min_infuse_unit = Cpt(EpicsSignalRO, 'IRATE:MIN:RBV:EGU', kind='hinted', string=True)\n",
    "    read_min_withdraw = Cpt(EpicsSignalRO, 'WRATE:MIN:RBV', kind='hinted')\n",
    "    read_min_withdraw_unit = Cpt(EpicsSignalRO, 'WRATE:MIN:RBV:EGU', kind='hinted', string=True)\n",
    "    \n",
    "    LIM = Cpt(EpicsSignal, 'IRATE-LIM:ENABLE', kind='hinted')\n",
    "    \n",
    "    target_time = Cpt(EpicsSignal, 'TTIME', kind='hinted')\n",
    "    read_target_time = Cpt(EpicsSignalRO, 'TTIME:RBV', kind='hinted')\n",
    "    \n",
    "    force = Cpt(EpicsSignal, 'FORCE', kind='hinted')\n",
    "    read_force = Cpt(EpicsSignalRO, 'FORCE:RBV', kind='hinted')\n",
    "    read_force_unit = Cpt(EpicsSignalRO, 'FORCE:RBV:EGU', kind='hinted')\n",
    "    \n",
    "    #pollon = Cpt(EpicsSignal, 'POLLON', kind='config')\n",
    "    #diameter = Cpt(EpicsSignalRO, 'DIRPORT:RBV', kind='config')\n",
    "    \n",
    "\n",
    "    \n",
    "    def find_syringe_type(self, volume, material):\n",
    "        if material == 'steel':\n",
    "            #vol_dic = {'2.5': 4.851, '8': 9.525, '20': 19.13, '50': 28.6, '100':34.9}\n",
    "            vol_min = {'2.5': 2.264, '8': 8.728, '20': 35.21, '50': 78.69}\n",
    "            #if self.diameter.get() == vol_dic[str(volume)]:\n",
    "            if self.read_min_infuse.get() == vol_min[str(volume)]:\n",
    "                print(f'Selected Syringe: {volume} mL {material} syringe')\n",
    "            else:\n",
    "                print('Selected syringe does not fit with input. Please check.')\n",
    "        else:\n",
    "            print('You want to use a non-steel syringe. Please check the pump manually.')\n",
    "            \n",
    "    \n",
    "    def steel_syringe_size(self):\n",
    "        #dia_vol = {'4.851mm': 2.5, '9.525mm': 8, '19.13mm': 20, '28.6mm': 50, '34.9mm':100}\n",
    "        self.set_infuse_range.put(1, wait=True)\n",
    "        self.set_withdraw_range.put(1, wait=True)\n",
    "        min_vol= {'2.264nl/min': 2.5, '8.728nl/min': 8, '35.21nl/min': 20, '78.69nl/min': 50}\n",
    "        #return dia_vol[f'{self.diameter.get()}mm']\n",
    "        return min_vol[f'{self.read_min_infuse.get()}nl/min']\n",
    "\n",
    "     \n",
    "    def check_pump_condition(self, wait=True, syringe_material='steel'):\n",
    "        if wait == True:\n",
    "            self.set_infuse_range.put(1, wait=True)\n",
    "            self.set_withdraw_range.put(1, wait=True)\n",
    "        else: pass\n",
    "        #print('Syringe Diameter: ' + f'{self.diameter.get()} mm' + ' ---> ' + f'{self.steel_syringe_size()} mL {syringe_material} syringe')\n",
    "        print('Syringe Volume: ' + f'{self.steel_syringe_size()} mL {syringe_material} syringe')\n",
    "        print('Pump Stauts: ' + f'{self.status.get()}')\n",
    "        #print('Cmmunication: ' + f'{self.communication.get()} @ {self.update_pump.get()}')\n",
    "        print('Cmmunication: ' + f'{self.parent.communication.get()}')\n",
    "        print('Target Volume: ' + f'{self.read_target_vol.get()} {self.read_target_vol_unit.get()}')\n",
    "        print('Infuse rate: ' + f'{self.read_infuse_rate.get()} {self.read_infuse_rate_unit.get()}')\n",
    "        print('Withdraw rate: ' + f'{self.read_withdraw_rate.get()} {self.read_withdraw_rate_unit.get()}')\n",
    "        print('Infused volume: ' + f'{self.read_infused.get()} {self.read_infused_unit.get()}')\n",
    "        print('Withdrawn volume: ' + f'{self.read_withdrawn.get()} {self.read_withdrawn_unit.get()}')\n",
    "        \n",
    "        #return 'Done'\n",
    "            \n",
    "    \n",
    "    def initialize_pump(self, clear = True, update = '.5 second'):\n",
    "        self.parent.communication.put('Enabled')\n",
    "        #self.parent.update_pump.put(update)\n",
    "        \n",
    "        if clear == True:\n",
    "            self.clear_infused.put(1)\n",
    "            self.clear_withdrawn.put(1)\n",
    "        time.sleep(1)\n",
    "        return self.status.get()\n",
    "    \n",
    "    def disable_pump(self, clear = True):        \n",
    "        if clear == True:\n",
    "            self.clear_infused.put(1)\n",
    "            self.clear_withdrawn.put(1)\n",
    "        time.sleep(1)\n",
    "        self.parent.communication.put('Disabled')\n",
    "        return self.status.get()\n",
    "    \n",
    "    \n",
    "    def set_pump(self, clear = False, \n",
    "                 target_vol = 20, target_unit = 'ml', \n",
    "                 infuse_rate = 100, infuse_unit = 'ul/min',\n",
    "                 withdraw_rate = 100, withdraw_unit = 'ul/min'):\n",
    "        \n",
    "        if clear == True:\n",
    "            self.clear_infused.put(1)\n",
    "            self.clear_withdrawn.put(1)\n",
    "        \n",
    "        c = vol_unit_converter(v0=target_unit, v1='ml')\n",
    "        if target_vol*c > self.steel_syringe_size():\n",
    "            raise ValueError (f'Input target volume {target_vol*c} mL larger than syringe size.')        \n",
    "        self.target_vol_unit.put(target_unit, wait=True)\n",
    "        self.target_vol.put(target_vol, wait=True)\n",
    "        \n",
    "        min_unit = self.show_steel_max_min_rate()[1]\n",
    "        max_unit = self.show_steel_max_min_rate()[3]\n",
    "        \n",
    "        const1_max = vol_unit_converter(v0=infuse_unit[:2], v1=max_unit[:2])/t_unit_converter(t0=infuse_unit[3:], t1=max_unit[3:])\n",
    "        const1_min = vol_unit_converter(v0=infuse_unit[:2], v1=min_unit[:2])/t_unit_converter(t0=infuse_unit[3:], t1=min_unit[3:])\n",
    "        \n",
    "        if infuse_rate*const1_max > self.show_steel_max_min_rate()[2]:\n",
    "            raise ValueError(f'Input infuse rate {infuse_rate*const1_max:.3f} {max_unit} larger than allowed value.')\n",
    "        elif infuse_rate*const1_min < self.show_steel_max_min_rate()[0]:\n",
    "            raise ValueError(f'Input infuse rate {infuse_rate*const1_min:.3f} {min_unit} smaller than allowed value.')\n",
    "        else:\n",
    "            self.infuse_rate_unit.put(infuse_unit, wait=True)\n",
    "            self.infuse_rate.put(infuse_rate, wait=True)\n",
    "              \n",
    "        const2_max = vol_unit_converter(v0=withdraw_unit[:2], v1=max_unit[:2])/t_unit_converter(t0=withdraw_unit[3:], t1=max_unit[3:])\n",
    "        const2_min = vol_unit_converter(v0=withdraw_unit[:2], v1=min_unit[:2])/t_unit_converter(t0=withdraw_unit[3:], t1=min_unit[3:])\n",
    "        if withdraw_rate*const2_max > self.show_steel_max_min_rate()[2]:\n",
    "            raise ValueError(f'Input withdraw rate {withdraw_rate*const2_max:.3f} {max_unit} larger than allowed value.')\n",
    "        elif withdraw_rate*const2_min < self.show_steel_max_min_rate()[0]:\n",
    "            raise ValueError(f'Input withdraw rate {withdraw_rate*const2_min:.3f} {min_unit} smaller than allowed value.')\n",
    "        else:\n",
    "            self.withdraw_rate_unit.put(withdraw_unit, wait=True)\n",
    "            self.withdraw_rate.put(withdraw_rate, wait=True)\n",
    "        \n",
    "        \n",
    "    def infuse_pump(self, clear = False):\n",
    "        if clear == True:\n",
    "            self.clear_infused.put(1)\n",
    "            self.clear_withdrawn.put(1)\n",
    "        self.pump_infuse.put(1)\n",
    "        time.sleep(1)\n",
    "        return self.status.get()\n",
    "    \n",
    "\n",
    "    def infuse_pump2(self, clear = False):\n",
    "        if clear == True:\n",
    "            yield from bps.abs_set(self.clear_infused, 1, wait=True)\n",
    "            yield from bps.abs_set(self.clear_withdrawn, 1, wait=True)\n",
    "        yield from bps.abs_set(self.pump_infuse, 1, wait=True)\n",
    "        time.sleep(1)\n",
    "        return self.status.get()\n",
    "    \n",
    "    \n",
    "        \n",
    "    def withdraw_pump(self, clear = False):\n",
    "        if clear == True:\n",
    "            self.clear_infused.put(1)\n",
    "            self.clear_withdrawn.put(1)\n",
    "        self.pump_withdraw.put(1)\n",
    "        time.sleep(1)\n",
    "        return self.status.get()\n",
    "\n",
    "        \n",
    "    def stop_pump(self, clear = False):\n",
    "        self.pump_stop.put(1)\n",
    "        if clear == True:\n",
    "            self.clear_infused.put(1)\n",
    "            self.clear_withdrawn.put(1)\n",
    "        time.sleep(1)\n",
    "        return self.status.get()\n",
    "\n",
    "    \n",
    "    def show_steel_max_min_rate(self):\n",
    "        min_unit = 'nl/min'\n",
    "        max_unit = 'ml/min'\n",
    "        \n",
    "        if self.steel_syringe_size() == 2.5:\n",
    "            min_rate = 2.264\n",
    "            max_rate = 2.351\n",
    "        elif self.steel_syringe_size() == 8:\n",
    "            min_rate = 8.728\n",
    "            max_rate = 9.064\n",
    "        elif self.steel_syringe_size() == 20:\n",
    "            min_rate = 35.21\n",
    "            max_rate = 36.56\n",
    "        elif self.steel_syringe_size() == 50:\n",
    "            min_rate = 78.69\n",
    "            max_rate = 81.72\n",
    "        #elif self.steel_syringe_size() == 100:\n",
    "        #    min_rate = 175.769\n",
    "        #    max_rate = 182.529\n",
    "        else:\n",
    "            min_rate = 'Unkonwn'\n",
    "            ax_rate = 'Unknown'\n",
    "        return min_rate, min_unit, max_rate, max_unit\n",
    "    \n",
    "    \n",
    "\n",
    "    \n",
    "def vol_unit_converter(v0 = 'ul', v1 = 'ml'):\n",
    "    vol_unit = ['pl', 'nl', 'ul', 'ml']\n",
    "    vol_frame = pd.DataFrame(data={'pl': np.geomspace(1, 1E9, num=4), 'nl': np.geomspace(1E-3, 1E6, num=4),\n",
    "                                   'ul': np.geomspace(1E-6, 1E3, num=4), 'ml': np.geomspace(1E-9, 1, num=4)}, index=vol_unit)\n",
    "    return vol_frame.loc[v0, v1]\n",
    "\n",
    "\n",
    "def t_unit_converter(t0 = 'min', t1 = 'min'):\n",
    "    t_unit = ['sec', 'min', 'hr']\n",
    "    t_frame = pd.DataFrame(data={'sec': np.geomspace(1, 3600, num=3), \n",
    "                                 'min': np.geomspace(1/60, 60, num=3), \n",
    "                                 'hr' : np.geomspace(1/3600, 1, num=3)}, index=t_unit)\n",
    "    return t_frame.loc[t0, t1]\n",
    "\n",
    "\n",
    "def syringe_diameter(volume, material='steel'):\n",
    "    if material == 'steel':\n",
    "        vol_dic = {'2.5': 4.851, '8': 9.525, '20': 19.13, '50': 28.6, '100':34.9}\n",
    "        if str(volume) in vol_dic:\n",
    "            print(f'{volume} mL {material} Syringe Diameter is {vol_dic[str(volume)]} mm.')\n",
    "        else: raise ValueError('Input volume is not supported by Harvard stainless steel syringe.')\n",
    "    else:\n",
    "        print('Please check the diameter of non-steel syringe manually.')\n"
   ]
  },
  {
   "cell_type": "code",
   "execution_count": 68,
   "id": "633048e7-0783-41d3-99bc-e55f6d07ce8a",
   "metadata": {},
   "outputs": [],
   "source": [
    "dds1 = syrng_DDS('XF:28IDC-ES:1{Pump:Syrng-DDS:1', name='DDS1')\n",
    "\n",
    "dds1_p1 = syrng_DDS_ax('XF:28IDC-ES:1{Pump:Syrng-DDS:1-Ax:A}', name='DDS1_p1', parent=dds1, \n",
    "                     read_attrs=['status', \n",
    "                                 'read_target_vol', 'read_target_vol_unit',\n",
    "                                 'read_infused', 'read_infused_unit', \n",
    "                                 'read_withdrawn', 'read_withdrawn_unit',\n",
    "                                 'read_infuse_rate', 'read_infuse_rate_unit',\n",
    "                                 'read_withdraw_rate', 'read_withdraw_rate_unit'])\n",
    "    \n",
    "dds1_p2 = syrng_DDS_ax('XF:28IDC-ES:1{Pump:Syrng-DDS:1-Ax:B}', name='DDS1_p2', parent=dds1, \n",
    "                     read_attrs=['status', \n",
    "                                 'read_target_vol', 'read_target_vol_unit',\n",
    "                                 'read_infused', 'read_infused_unit', \n",
    "                                 'read_withdrawn', 'read_withdrawn_unit',\n",
    "                                 'read_infuse_rate', 'read_infuse_rate_unit',\n",
    "                                 'read_withdraw_rate', 'read_withdraw_rate_unit'])\n",
    "                                 \n",
    "\n",
    "\n",
    "        \n",
    "dds2 = syrng_DDS('XF:28IDC-ES:1{Pump:Syrng-DDS:2', name='DDS2')\n",
    "\n",
    "dds2_p1 = syrng_DDS_ax('XF:28IDC-ES:1{Pump:Syrng-DDS:2-Ax:A}', name='DDS2_p1', parent=dds2,                       \n",
    "                     read_attrs=['status', \n",
    "                                 'read_target_vol', 'read_target_vol_unit',\n",
    "                                 'read_infused', 'read_infused_unit', \n",
    "                                 'read_withdrawn', 'read_withdrawn_unit',\n",
    "                                 'read_infuse_rate', 'read_infuse_rate_unit',\n",
    "                                 'read_withdraw_rate', 'read_withdraw_rate_unit'])\n",
    "    \n",
    "dds2_p2 = syrng_DDS_ax('XF:28IDC-ES:1{Pump:Syrng-DDS:2-Ax:B}', name='DDS2_p2', parent=dds2,                       \n",
    "                     read_attrs=['status', \n",
    "                                 'read_target_vol', 'read_target_vol_unit',\n",
    "                                 'read_infused', 'read_infused_unit', \n",
    "                                 'read_withdrawn', 'read_withdrawn_unit',\n",
    "                                 'read_infuse_rate', 'read_infuse_rate_unit',\n",
    "                                 'read_withdraw_rate', 'read_withdraw_rate_unit'])"
   ]
  },
  {
   "cell_type": "code",
   "execution_count": 99,
   "id": "76d9c99d-4b26-452f-b000-f779fcb2db08",
   "metadata": {},
   "outputs": [
    {
     "data": {
      "text/plain": [
       "()"
      ]
     },
     "execution_count": 99,
     "metadata": {},
     "output_type": "execute_result"
    }
   ],
   "source": [
    "RE(dds1_p1.infuse_pump2())"
   ]
  },
  {
   "cell_type": "code",
   "execution_count": 100,
   "id": "2612392d-532f-4762-8f67-6bfee06f1f64",
   "metadata": {
    "tags": []
   },
   "outputs": [
    {
     "name": "stdout",
     "output_type": "stream",
     "text": [
      "\n",
      "\n",
      "Transient Scan ID: 3     Time: 2022-10-13 18:00:04\n",
      "Persistent Unique Scan ID: '2b56a2ec-5571-4f33-ba9c-85f0d227678e'\n",
      "\n",
      "\n",
      "Transient Scan ID: 3     Time: 2022-10-13 18:00:04\n",
      "Persistent Unique Scan ID: '2b56a2ec-5571-4f33-ba9c-85f0d227678e'\n",
      "New stream: 'primary'\n",
      "+-----------+------------+--------------------------+\n",
      "|   seq_num |       time | DDS1_p1_read_infuse_rate |\n",
      "+-----------+------------+--------------------------+\n",
      "New stream: 'primary'\n",
      "+-----------+------------+--------------------------+\n",
      "|   seq_num |       time | DDS1_p1_read_infuse_rate |\n",
      "+-----------+------------+--------------------------+\n",
      "|         1 | 18:00:04.3 |                101.00000 |\n",
      "|         1 | 18:00:04.3 |                101.00000 |\n",
      "|         2 | 18:00:04.3 |                101.00000 |\n",
      "|         2 | 18:00:04.3 |                101.00000 |\n",
      "|         3 | 18:00:04.3 |                101.00000 |\n",
      "|         3 | 18:00:04.3 |                101.00000 |\n",
      "|         4 | 18:00:04.3 |                101.00000 |\n",
      "|         4 | 18:00:04.3 |                101.00000 |\n",
      "+-----------+------------+--------------------------+\n",
      "generator count ['2b56a2ec'] (scan num: 3)\n",
      "\n",
      "\n",
      "\n",
      "+-----------+------------+--------------------------+\n",
      "generator count ['2b56a2ec'] (scan num: 3)\n",
      "\n",
      "\n",
      "\n"
     ]
    },
    {
     "data": {
      "text/plain": [
       "('2b56a2ec-5571-4f33-ba9c-85f0d227678e',)"
      ]
     },
     "execution_count": 100,
     "metadata": {},
     "output_type": "execute_result"
    }
   ],
   "source": [
    "RE(count([dds1_p1.read_infuse_rate], num=4))"
   ]
  },
  {
   "cell_type": "code",
   "execution_count": 86,
   "id": "c5430a8e-87fd-4a22-a2ca-fc530a05bac1",
   "metadata": {},
   "outputs": [
    {
     "data": {
      "text/html": [
       "<div>\n",
       "<style scoped>\n",
       "    .dataframe tbody tr th:only-of-type {\n",
       "        vertical-align: middle;\n",
       "    }\n",
       "\n",
       "    .dataframe tbody tr th {\n",
       "        vertical-align: top;\n",
       "    }\n",
       "\n",
       "    .dataframe thead th {\n",
       "        text-align: right;\n",
       "    }\n",
       "</style>\n",
       "<table border=\"1\" class=\"dataframe\">\n",
       "  <thead>\n",
       "    <tr style=\"text-align: right;\">\n",
       "      <th></th>\n",
       "      <th>det4</th>\n",
       "      <th>time</th>\n",
       "    </tr>\n",
       "    <tr>\n",
       "      <th>seq_num</th>\n",
       "      <th></th>\n",
       "      <th></th>\n",
       "    </tr>\n",
       "  </thead>\n",
       "  <tbody>\n",
       "    <tr>\n",
       "      <th>1</th>\n",
       "      <td>1.0</td>\n",
       "      <td>2022-10-13 20:36:00.104439552</td>\n",
       "    </tr>\n",
       "    <tr>\n",
       "      <th>2</th>\n",
       "      <td>1.0</td>\n",
       "      <td>2022-10-13 20:36:00.114189056</td>\n",
       "    </tr>\n",
       "    <tr>\n",
       "      <th>3</th>\n",
       "      <td>1.0</td>\n",
       "      <td>2022-10-13 20:36:00.120435200</td>\n",
       "    </tr>\n",
       "    <tr>\n",
       "      <th>4</th>\n",
       "      <td>1.0</td>\n",
       "      <td>2022-10-13 20:36:00.125087232</td>\n",
       "    </tr>\n",
       "    <tr>\n",
       "      <th>5</th>\n",
       "      <td>1.0</td>\n",
       "      <td>2022-10-13 20:36:00.130627840</td>\n",
       "    </tr>\n",
       "    <tr>\n",
       "      <th>6</th>\n",
       "      <td>1.0</td>\n",
       "      <td>2022-10-13 20:36:00.135511552</td>\n",
       "    </tr>\n",
       "    <tr>\n",
       "      <th>7</th>\n",
       "      <td>1.0</td>\n",
       "      <td>2022-10-13 20:36:00.142042368</td>\n",
       "    </tr>\n",
       "    <tr>\n",
       "      <th>8</th>\n",
       "      <td>1.0</td>\n",
       "      <td>2022-10-13 20:36:00.146438656</td>\n",
       "    </tr>\n",
       "    <tr>\n",
       "      <th>9</th>\n",
       "      <td>1.0</td>\n",
       "      <td>2022-10-13 20:36:00.150929408</td>\n",
       "    </tr>\n",
       "    <tr>\n",
       "      <th>10</th>\n",
       "      <td>1.0</td>\n",
       "      <td>2022-10-13 20:36:00.155147264</td>\n",
       "    </tr>\n",
       "    <tr>\n",
       "      <th>11</th>\n",
       "      <td>1.0</td>\n",
       "      <td>2022-10-13 20:36:00.159301888</td>\n",
       "    </tr>\n",
       "    <tr>\n",
       "      <th>12</th>\n",
       "      <td>1.0</td>\n",
       "      <td>2022-10-13 20:36:00.164995840</td>\n",
       "    </tr>\n",
       "    <tr>\n",
       "      <th>13</th>\n",
       "      <td>1.0</td>\n",
       "      <td>2022-10-13 20:36:00.170074880</td>\n",
       "    </tr>\n",
       "    <tr>\n",
       "      <th>14</th>\n",
       "      <td>1.0</td>\n",
       "      <td>2022-10-13 20:36:00.174790912</td>\n",
       "    </tr>\n",
       "    <tr>\n",
       "      <th>15</th>\n",
       "      <td>1.0</td>\n",
       "      <td>2022-10-13 20:36:00.180292608</td>\n",
       "    </tr>\n",
       "    <tr>\n",
       "      <th>16</th>\n",
       "      <td>1.0</td>\n",
       "      <td>2022-10-13 20:36:00.187375872</td>\n",
       "    </tr>\n",
       "    <tr>\n",
       "      <th>17</th>\n",
       "      <td>1.0</td>\n",
       "      <td>2022-10-13 20:36:00.191898368</td>\n",
       "    </tr>\n",
       "    <tr>\n",
       "      <th>18</th>\n",
       "      <td>1.0</td>\n",
       "      <td>2022-10-13 20:36:00.197325824</td>\n",
       "    </tr>\n",
       "    <tr>\n",
       "      <th>19</th>\n",
       "      <td>1.0</td>\n",
       "      <td>2022-10-13 20:36:00.201959168</td>\n",
       "    </tr>\n",
       "    <tr>\n",
       "      <th>20</th>\n",
       "      <td>1.0</td>\n",
       "      <td>2022-10-13 20:36:00.207474176</td>\n",
       "    </tr>\n",
       "    <tr>\n",
       "      <th>21</th>\n",
       "      <td>1.0</td>\n",
       "      <td>2022-10-13 20:36:00.212923648</td>\n",
       "    </tr>\n",
       "    <tr>\n",
       "      <th>22</th>\n",
       "      <td>1.0</td>\n",
       "      <td>2022-10-13 20:36:00.218656000</td>\n",
       "    </tr>\n",
       "  </tbody>\n",
       "</table>\n",
       "</div>"
      ],
      "text/plain": [
       "         det4                          time\n",
       "seq_num                                    \n",
       "1         1.0 2022-10-13 20:36:00.104439552\n",
       "2         1.0 2022-10-13 20:36:00.114189056\n",
       "3         1.0 2022-10-13 20:36:00.120435200\n",
       "4         1.0 2022-10-13 20:36:00.125087232\n",
       "5         1.0 2022-10-13 20:36:00.130627840\n",
       "6         1.0 2022-10-13 20:36:00.135511552\n",
       "7         1.0 2022-10-13 20:36:00.142042368\n",
       "8         1.0 2022-10-13 20:36:00.146438656\n",
       "9         1.0 2022-10-13 20:36:00.150929408\n",
       "10        1.0 2022-10-13 20:36:00.155147264\n",
       "11        1.0 2022-10-13 20:36:00.159301888\n",
       "12        1.0 2022-10-13 20:36:00.164995840\n",
       "13        1.0 2022-10-13 20:36:00.170074880\n",
       "14        1.0 2022-10-13 20:36:00.174790912\n",
       "15        1.0 2022-10-13 20:36:00.180292608\n",
       "16        1.0 2022-10-13 20:36:00.187375872\n",
       "17        1.0 2022-10-13 20:36:00.191898368\n",
       "18        1.0 2022-10-13 20:36:00.197325824\n",
       "19        1.0 2022-10-13 20:36:00.201959168\n",
       "20        1.0 2022-10-13 20:36:00.207474176\n",
       "21        1.0 2022-10-13 20:36:00.212923648\n",
       "22        1.0 2022-10-13 20:36:00.218656000"
      ]
     },
     "execution_count": 86,
     "metadata": {},
     "output_type": "execute_result"
    }
   ],
   "source": [
    "db[-1].table()"
   ]
  },
  {
   "cell_type": "code",
   "execution_count": 50,
   "id": "68127d37-7405-4d4d-8a1d-78ee6d43de4a",
   "metadata": {},
   "outputs": [
    {
     "data": {
      "text/plain": [
       "50"
      ]
     },
     "execution_count": 50,
     "metadata": {},
     "output_type": "execute_result"
    }
   ],
   "source": [
    "dds1_p2.steel_syringe_size()"
   ]
  },
  {
   "cell_type": "code",
   "execution_count": 52,
   "id": "c17dd46f-ec7d-4d6a-86cc-6ab0dc6b4285",
   "metadata": {},
   "outputs": [],
   "source": [
    "dds2_p1.set_pump(clear=True, target_vol=1, target_unit='ml', infuse_rate=200, infuse_unit='ul/min')"
   ]
  },
  {
   "cell_type": "code",
   "execution_count": 188,
   "id": "4f658d76-4a6c-4d67-9335-31c6e8dc5c0f",
   "metadata": {},
   "outputs": [
    {
     "data": {
      "text/plain": [
       "'Withdrawing'"
      ]
     },
     "execution_count": 188,
     "metadata": {},
     "output_type": "execute_result"
    }
   ],
   "source": [
    "dds2_p1.withdraw_pump()"
   ]
  },
  {
   "cell_type": "code",
   "execution_count": 190,
   "id": "d1459548-df9e-4490-968b-4ec5ab80f75d",
   "metadata": {},
   "outputs": [
    {
     "data": {
      "text/plain": [
       "'Withdrawing'"
      ]
     },
     "execution_count": 190,
     "metadata": {},
     "output_type": "execute_result"
    }
   ],
   "source": [
    "dds2_p1.stop_pump()"
   ]
  },
  {
   "cell_type": "code",
   "execution_count": 210,
   "id": "733fd395-0f27-49bb-8bdc-4031b145ae12",
   "metadata": {},
   "outputs": [
    {
     "data": {
      "text/plain": [
       "'Idle'"
      ]
     },
     "execution_count": 210,
     "metadata": {},
     "output_type": "execute_result"
    }
   ],
   "source": [
    "dds2_p1.disable_pump()"
   ]
  },
  {
   "cell_type": "code",
   "execution_count": 14,
   "id": "552f684f-c029-47d3-8fe3-e1c4da263856",
   "metadata": {
    "tags": []
   },
   "outputs": [
    {
     "data": {
      "text/plain": [
       "('Pump_Ultra1_status', {'value': 'Idle', 'timestamp': 1661547429.626132})"
      ]
     },
     "execution_count": 14,
     "metadata": {},
     "output_type": "execute_result"
    }
   ],
   "source": [
    "a = list(ultra1.read().items())\n",
    "a[0]"
   ]
  },
  {
   "cell_type": "code",
   "execution_count": 6,
   "id": "d9adf378-c728-47ee-be16-faa53e7bd304",
   "metadata": {},
   "outputs": [],
   "source": [
    "from bluesky import RunEngine\n",
    "import bluesky.plan_stubs as bps\n",
    "RE = RunEngine({})"
   ]
  },
  {
   "cell_type": "code",
   "execution_count": 13,
   "id": "2dc2eab4-12b2-4e1c-8c45-f03cc207dc3a",
   "metadata": {},
   "outputs": [],
   "source": [
    "ultra1.communication.put(0)"
   ]
  },
  {
   "cell_type": "code",
   "execution_count": 15,
   "id": "3e4fe684-cd6d-4fd9-9103-195ae0849c73",
   "metadata": {},
   "outputs": [],
   "source": [
    "ultra1.update_pump.put(6)"
   ]
  },
  {
   "cell_type": "code",
   "execution_count": 16,
   "id": "18187854-6837-4f39-a8bf-357809d89763",
   "metadata": {},
   "outputs": [
    {
     "data": {
      "text/plain": [
       "()"
      ]
     },
     "execution_count": 16,
     "metadata": {},
     "output_type": "execute_result"
    }
   ],
   "source": [
    "RE(bps.abs_set(ultra1.pump_withdraw, 1))"
   ]
  },
  {
   "cell_type": "code",
   "execution_count": 109,
   "id": "a5501c2f-5727-4914-b872-0db293864a15",
   "metadata": {},
   "outputs": [
    {
     "data": {
      "text/plain": [
       "()"
      ]
     },
     "execution_count": 109,
     "metadata": {},
     "output_type": "execute_result"
    }
   ],
   "source": [
    "RE(bps.abs_set(ultra1.pump_stop, 1))"
   ]
  },
  {
   "cell_type": "code",
   "execution_count": 19,
   "id": "b2227def-a78a-4cb0-a0e8-9e7b26220141",
   "metadata": {},
   "outputs": [
    {
     "data": {
      "text/plain": [
       "()"
      ]
     },
     "execution_count": 19,
     "metadata": {},
     "output_type": "execute_result"
    }
   ],
   "source": [
    "RE(bps.abs_set(ultra1.clear_withdrawn, 1))"
   ]
  },
  {
   "cell_type": "code",
   "execution_count": 148,
   "id": "94cecefa-594e-4f0a-85ec-66faf348828c",
   "metadata": {},
   "outputs": [
    {
     "data": {
      "text/plain": [
       "{'Pump_Ultra1_read_target_vol_unit': {'value': 'ml',\n",
       "  'timestamp': 1661470893.351323}}"
      ]
     },
     "execution_count": 148,
     "metadata": {},
     "output_type": "execute_result"
    }
   ],
   "source": [
    "RE(bps.abs_set(ultra1.target_vol_unit, 'ul'))\n",
    "RE(bps.abs_set(ultra1.target_vol, 5))\n",
    "#RE(bps.abs_set(ultra1.target_vol_unit, 'ml'))\n",
    "#ultra1.read_target_vol.read()\n",
    "ultra1.read_target_vol_unit.read()\n",
    "#RE(bps.read(ultra1))"
   ]
  },
  {
   "cell_type": "code",
   "execution_count": null,
   "id": "1d12ffb3-05a0-445f-a892-951f81311008",
   "metadata": {},
   "outputs": [],
   "source": []
  },
  {
   "cell_type": "code",
   "execution_count": null,
   "id": "daf2b1d1-9305-4037-b979-561ccd8d3685",
   "metadata": {},
   "outputs": [],
   "source": []
  }
 ],
 "metadata": {
  "kernelspec": {
   "display_name": "Python 3 (ipykernel)",
   "language": "python",
   "name": "python3"
  },
  "language_info": {
   "codemirror_mode": {
    "name": "ipython",
    "version": 3
   },
   "file_extension": ".py",
   "mimetype": "text/x-python",
   "name": "python",
   "nbconvert_exporter": "python",
   "pygments_lexer": "ipython3",
   "version": "3.9.13"
  }
 },
 "nbformat": 4,
 "nbformat_minor": 5
}
