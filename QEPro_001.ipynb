{
 "cells": [
  {
   "cell_type": "code",
   "execution_count": 29,
   "id": "3e55aaef-9878-4eb5-993b-e53c547a283f",
   "metadata": {},
   "outputs": [],
   "source": [
    "from gc import collect\n",
    "import logging\n",
    "import time\n",
    "\n",
    "import epics\n",
    "\n",
    "from ophyd import (Device, Component as Cpt, FormattedComponent as FC,\n",
    "                   Signal)\n",
    "from ophyd import (EpicsSignal, EpicsSignalRO, DeviceStatus, DerivedSignal)\n",
    "from ophyd.areadetector import EpicsSignalWithRBV as SignalWithRBV\n",
    "from ophyd.status import SubscriptionStatus, Status\n",
    "#from ophyd import status"
   ]
  },
  {
   "cell_type": "code",
   "execution_count": 57,
   "id": "becb2185-5730-457f-9d9f-df01d9a9b8dc",
   "metadata": {},
   "outputs": [],
   "source": [
    "class QEProTEC(Device):\n",
    "\n",
    "    # Thermal electric cooler settings\n",
    "    tec = Cpt(SignalWithRBV, 'TEC')\n",
    "    tec_temp = Cpt(SignalWithRBV, 'TEC_TEMP', kind='config')\n",
    "    curr_tec_temp = Cpt(EpicsSignalRO, 'CURR_TEC_TEMP_RBV')\n",
    "\n",
    "    def __init__(self, *args, tolerance=1, **kwargs):\n",
    "        self.tolerance = tolerance\n",
    "        super().__init__(*args, **kwargs)\n",
    "\n",
    "    def set(self, value):\n",
    "\n",
    "        def check_setpoint(value, old_value, **kwargs):\n",
    "            if abs(value - self.tec_temp.get()) < self.tolerance:\n",
    "                print(f'Reached setpoint {self.tec_temp.get()}.')\n",
    "                return True\n",
    "            return False\n",
    "\n",
    "        status = SubscriptionStatus(self.curr_tec_temp, run=False, callback=check_setpoint)\n",
    "        self.tec_temp.put(value)\n",
    "        self.tec.put(1)\n",
    "\n",
    "        return status\n",
    "\n",
    "\n",
    "class QEPro(Device):\n",
    "\n",
    "    # Device information\n",
    "    serial = Cpt(EpicsSignal, 'SERIAL')\n",
    "    model = Cpt(EpicsSignal, 'MODEL')\n",
    "\n",
    "    # Device Status\n",
    "    status = Cpt(EpicsSignal, 'STATUS')\n",
    "    status_msg = Cpt(EpicsSignal, 'STATUS_MSG')\n",
    "    device_connected = Cpt(EpicsSignalRO, 'CONNECTED_RBV')\n",
    "\n",
    "    # Utility signal that periodically checks device temps.\n",
    "    __check_status = Cpt(EpicsSignal, 'CHECK_STATUS')\n",
    "\n",
    "    # Bit array outlining which features are supported by the device\n",
    "    features = Cpt(EpicsSignalRO, 'FEATURES_RBV')\n",
    "    \n",
    "    # Togglable features (if supported)\n",
    "    strobe = Cpt(SignalWithRBV, 'STROBE')\n",
    "    electric_dark_correction = Cpt(SignalWithRBV, 'EDC', kind='config')\n",
    "    non_linearity_correction = Cpt(SignalWithRBV, 'NLC', kind='config')\n",
    "    shutter = Cpt(SignalWithRBV, 'SHUTTER')\n",
    "    \n",
    "    # Thermal electric cooler\n",
    "    tec_device = Cpt(QEProTEC, '')\n",
    "    \n",
    "    # Light source feature signals\n",
    "    light_source = Cpt(SignalWithRBV, 'LIGHT_SOURCE')\n",
    "    light_source_intensity = Cpt(SignalWithRBV, 'LIGHT_SOURCE_INTENSITY')\n",
    "    light_source_count = Cpt(EpicsSignalRO, 'LIGHT_SOURCE_COUNT_RBV')\n",
    "\n",
    "    # Signals for specifying the number of spectra to average and counter for spectra\n",
    "    # collected in current scan\n",
    "    num_spectra = Cpt(SignalWithRBV, 'NUM_SPECTRA', kind='hinted')\n",
    "    spectra_collected = Cpt(EpicsSignalRO, 'SPECTRA_COLLECTED_RBV')\n",
    "\n",
    "    # Integration time settings (in ms)\n",
    "    int_min_time = Cpt(EpicsSignalRO, 'INT_MIN_TIME_RBV')\n",
    "    int_max_time = Cpt(EpicsSignalRO, 'INT_MAX_TIME_RBV')\n",
    "    integration_time = Cpt(SignalWithRBV, 'INTEGRATION_TIME', kind='hinted')\n",
    "    \n",
    "    # Internal buffer feature settings\n",
    "    buff_min_capacity = Cpt(EpicsSignalRO, 'BUFF_MIN_CAPACITY_RBV')\n",
    "    buff_max_capacity = Cpt(EpicsSignalRO, 'BUFF_MAX_CAPACITY_RBV')\n",
    "    buff_capacity = Cpt(SignalWithRBV, 'BUFF_CAPACITY')\n",
    "    buff_element_count = Cpt(EpicsSignalRO, 'BUFF_ELEMENT_COUNT_RBV')\n",
    "\n",
    "    # Formatted Spectra\n",
    "    output = Cpt(EpicsSignal, 'OUTPUT', kind='hinted')\n",
    "    sample = Cpt(EpicsSignal, 'SAMPLE', kind='hinted')\n",
    "    dark = Cpt(EpicsSignal, 'DARK', kind='hinted')\n",
    "    reference = Cpt(EpicsSignal, 'REFERENCE', kind='hinted')\n",
    "    \n",
    "    # Length of spectrum (in pixels)\n",
    "    formatted_spectrum_len = Cpt(EpicsSignalRO, 'FORMATTED_SPECTRUM_LEN_RBV')\n",
    "\n",
    "    # X-axis format and array\n",
    "    x_axis = Cpt(EpicsSignal, 'X_AXIS', kind='hinted')\n",
    "    x_axis_format = Cpt(SignalWithRBV, 'X_AXIS_FORMAT')\n",
    "\n",
    "    # Dark/Ref available signals\n",
    "    dark_available = Cpt(EpicsSignalRO, 'DARK_AVAILABLE_RBV')\n",
    "    ref_available = Cpt(EpicsSignalRO, 'REF_AVAILABLE_RBV')\n",
    "\n",
    "    # Collection settings and start signals.\n",
    "    acquire = Cpt(SignalWithRBV, 'COLLECT')\n",
    "    collect_mode = Cpt(SignalWithRBV, 'COLLECT_MODE', kind='hinted')\n",
    "    spectrum_type = Cpt(SignalWithRBV, 'SPECTRUM_TYPE', kind='hinted')\n",
    "    correction = Cpt(SignalWithRBV, 'CORRECTION', kind='hinted')\n",
    "    trigger_mode = Cpt(SignalWithRBV, 'TRIGGER_MODE')\n",
    "\n",
    "\n",
    "    @property\n",
    "    def has_nlc_feature(self):\n",
    "        return self.features.get() & 32\n",
    "\n",
    "    @property\n",
    "    def has_lightsource_feature(self):\n",
    "        return self.features.get() & 16\n",
    "\n",
    "    @property\n",
    "    def has_edc_feature(self):\n",
    "        return self.features.get() & 8\n",
    "\n",
    "    @property\n",
    "    def has_buffer_feature(self):\n",
    "        return self.features.get() & 4\n",
    "\n",
    "    @property\n",
    "    def has_tec_feature(self):\n",
    "        return self.features.get() & 2\n",
    "\n",
    "    @property\n",
    "    def has_irrad_feature(self):\n",
    "        return self.features.get() & 1\n",
    "\n",
    "\n",
    "    def set_temp(self, temperature):\n",
    "        self.tec_device.set(temperature).wait()\n",
    "\n",
    "\n",
    "    def get_dark_frame(self):\n",
    "\n",
    "        current_spectrum = self.spectrum_type.get()\n",
    "        self.spectrum_type.put('Dark')\n",
    "        self.acquire.put(1, wait=True)\n",
    "        time.sleep(1)\n",
    "        self.spectrum_type.put(current_spectrum)\n",
    "    \n",
    "    def get_reference_frame(self):\n",
    "\n",
    "        current_spectrum = self.spectrum_type.get()\n",
    "        self.spectrum_type.put('Reference')\n",
    "        self.acquire.put(1, wait=True)\n",
    "        time.sleep(1)\n",
    "        self.spectrum_type.put(current_spectrum)\n",
    "\n",
    "\n",
    "    def setup_collection(self, integration_time=100, num_spectra_to_average=10, spectrum_type='Absorbtion', correction_type='Reference', electric_dark_correction=True):\n",
    "        self.integration_time.put(integration_time)\n",
    "        self.num_spectra.put(num_spectra_to_average)\n",
    "        if num_spectra_to_average > 1:\n",
    "            self.collect_mode.put('Average')\n",
    "        else:\n",
    "            self.collect_mode.put('Single')\n",
    "\n",
    "        if electric_dark_correction:\n",
    "            self.electric_dark_correction.put(1)\n",
    "\n",
    "        self.correction.put(correction_type)\n",
    "\n",
    "        self.spectrum_type.put(spectrum_type)\n",
    "\n",
    "\n",
    "    def grab_frame(self):\n",
    "\n",
    "        def is_done(value, old_value, **kwargs):\n",
    "            if old_value == 1 and value ==0:\n",
    "                return True\n",
    "            return False\n",
    "\n",
    "        status = SubscriptionStatus(self.acquire, run=False, callback=is_done)\n",
    "\n",
    "        self.acquire.put(1)\n",
    "        return status\n",
    "\n",
    "    def trigger(self):\n",
    "        #self.grab_frame().wait()\n",
    "        return self.grab_frame()\n",
    "\n",
    "    def write_as_csv(self, write_path):\n",
    "    \n",
    "        print(f'Writing out CSV file to {write_path}...')\n",
    "\n",
    "        with open(write_path, 'w') as fp:\n",
    "            x_axis_data = self.x_axis.get()\n",
    "            output_data = self.output.get()\n",
    "            sample_data = self.sample.get()\n",
    "            dark_data = self.dark.get()\n",
    "            reference_data = self.reference.get()\n",
    "            if self.spectrum_type.get(as_string=True) == 'Absorbtion':\n",
    "                fp.write('Energy,Dark,Reference,Sample,Absorbtion\\n')\n",
    "            else:\n",
    "                fp.write('Energy,Dark,Raw Sample,Corrected Sample\\n')\n",
    "\n",
    "            for i in range(len(output_data)):\n",
    "                if self.spectrum_type.get(as_string=True) == 'Absorbtion':\n",
    "                    fp.write(f'{x_axis_data[i]},{dark_data[i]},{reference_data[i]},{sample_data[i]},{output_data[i]}\\n')\n",
    "                else:\n",
    "                    fp.write(f'{x_axis_data[i]},{dark_data[i]},{sample_data[i]},{output_data[i]}\\n')\n",
    "\n",
    "            print('Done.')\n",
    "\n",
    "    def plot_spectra(self):\n",
    "        x_axis_data = self.x_axis.get()\n",
    "        output_data = self.output.get()\n",
    "\n",
    "        x_axis_label = self.x_axis_format.get(as_string=True)\n",
    "        y_axis_label = self.spectrum_type.get(as_string=True)\n",
    "\n",
    "\n",
    "        plt.plot(x_axis_data, output_data)\n",
    "        plt.xlabel(x_axis_label)\n",
    "        plt.ylabel(y_axis_label)\n",
    "        plt.show()\n",
    "\n",
    "\n",
    "qepro = QEPro('XF:28ID2-ES{QEPro:Spec-1}:', name='QEPro', )\n"
   ]
  },
  {
   "cell_type": "code",
   "execution_count": 18,
   "id": "c62044ca-6060-4587-8de0-e86d32acb82f",
   "metadata": {},
   "outputs": [
    {
     "name": "stdout",
     "output_type": "stream",
     "text": [
      "Reached setpoint -5.0.\n"
     ]
    }
   ],
   "source": [
    "qepro.set_temp(-5)"
   ]
  },
  {
   "cell_type": "code",
   "execution_count": 31,
   "id": "abf41940-b6f3-4896-a7ad-0a7d43d114b3",
   "metadata": {},
   "outputs": [],
   "source": [
    "qepro.get_dark_frame()"
   ]
  },
  {
   "cell_type": "code",
   "execution_count": 32,
   "id": "e184fdbd-614f-43bf-a041-1f20cf1375e0",
   "metadata": {},
   "outputs": [],
   "source": [
    "qepro.get_reference_frame()"
   ]
  },
  {
   "cell_type": "code",
   "execution_count": 33,
   "id": "d627cd8d-a56e-4033-b331-2e14f4b9fb7f",
   "metadata": {},
   "outputs": [],
   "source": [
    "qepro.setup_collection()"
   ]
  },
  {
   "cell_type": "code",
   "execution_count": 34,
   "id": "fcdce24a-8cb4-4c99-848e-802d5622f964",
   "metadata": {},
   "outputs": [
    {
     "name": "stdout",
     "output_type": "stream",
     "text": [
      "\n",
      "\n",
      "Transient Scan ID: 3     Time: 2022-10-21 14:51:31\n",
      "Persistent Unique Scan ID: '36c25898-c47c-4444-ac08-4e34bdf05564'\n",
      "QEPro_acquire [In progress. No progress bar available.]                         \n",
      "QEPro_acquire [In progress. No progress bar available.]                         \n",
      "                                                                                \n",
      "New stream: 'primary'\n"
     ]
    },
    {
     "name": "stderr",
     "output_type": "stream",
     "text": [
      "/nsls2/conda/envs/2022-3.0-py39-tiled/lib/python3.9/site-packages/bluesky/callbacks/core.py:332: UserWarning: The key QEPro_output will be skipped because LiveTable does not know how to display the dtype array\n",
      "  warnings.warn(\"The key {} will be skipped because LiveTable \"\n",
      "/nsls2/conda/envs/2022-3.0-py39-tiled/lib/python3.9/site-packages/bluesky/callbacks/core.py:332: UserWarning: The key QEPro_sample will be skipped because LiveTable does not know how to display the dtype array\n",
      "  warnings.warn(\"The key {} will be skipped because LiveTable \"\n",
      "/nsls2/conda/envs/2022-3.0-py39-tiled/lib/python3.9/site-packages/bluesky/callbacks/core.py:332: UserWarning: The key QEPro_dark will be skipped because LiveTable does not know how to display the dtype array\n",
      "  warnings.warn(\"The key {} will be skipped because LiveTable \"\n",
      "/nsls2/conda/envs/2022-3.0-py39-tiled/lib/python3.9/site-packages/bluesky/callbacks/core.py:332: UserWarning: The key QEPro_reference will be skipped because LiveTable does not know how to display the dtype array\n",
      "  warnings.warn(\"The key {} will be skipped because LiveTable \"\n",
      "/nsls2/conda/envs/2022-3.0-py39-tiled/lib/python3.9/site-packages/bluesky/callbacks/core.py:332: UserWarning: The key QEPro_x_axis will be skipped because LiveTable does not know how to display the dtype array\n",
      "  warnings.warn(\"The key {} will be skipped because LiveTable \"\n"
     ]
    },
    {
     "name": "stdout",
     "output_type": "stream",
     "text": [
      "+-----------+------------+-------------------+------------------------+--------------------+---------------------+------------------+\n",
      "|   seq_num |       time | QEPro_num_spectra | QEPro_integration_time | QEPro_collect_mode | QEPro_spectrum_type | QEPro_correction |\n",
      "+-----------+------------+-------------------+------------------------+--------------------+---------------------+------------------+\n",
      "|         1 | 14:51:33.1 |                10 |                100.000 |                  1 |                   3 |                2 |\n",
      "+-----------+------------+-------------------+------------------------+--------------------+---------------------+------------------+\n",
      "generator count ['36c25898'] (scan num: 3)\n",
      "\n",
      "\n",
      "\n"
     ]
    },
    {
     "data": {
      "text/plain": [
       "('36c25898-c47c-4444-ac08-4e34bdf05564',)"
      ]
     },
     "execution_count": 34,
     "metadata": {},
     "output_type": "execute_result"
    }
   ],
   "source": [
    "RE(count([qepro]))"
   ]
  },
  {
   "cell_type": "code",
   "execution_count": 50,
   "id": "ab743c93-2cb5-42ea-9a4d-d2659080c945",
   "metadata": {},
   "outputs": [
    {
     "name": "stderr",
     "output_type": "stream",
     "text": [
      "WARNING:databroker.mongo_normalized:'QEPro_status_msg' actually has dtype '<i8' but was reported as having dtype '<f8'. It will be converted to the reported type, but this should be fixed by setting 'dtype_str' in the data_key of the EventDescriptor. RunStart UID: '36c25898-c47c-4444-ac08-4e34bdf05564'\n"
     ]
    },
    {
     "data": {
      "text/plain": [
       "Index(['QEPro_serial', 'QEPro_model', 'QEPro_status', 'QEPro_status_msg',\n",
       "       'QEPro_device_connected', 'QEPro__QEPro__check_status',\n",
       "       'QEPro_features', 'QEPro_strobe', 'QEPro_shutter',\n",
       "       'QEPro_tec_device_tec', 'QEPro_tec_device_curr_tec_temp',\n",
       "       'QEPro_light_source', 'QEPro_light_source_intensity',\n",
       "       'QEPro_light_source_count', 'QEPro_num_spectra',\n",
       "       'QEPro_spectra_collected', 'QEPro_int_min_time', 'QEPro_int_max_time',\n",
       "       'QEPro_integration_time', 'QEPro_buff_min_capacity',\n",
       "       'QEPro_buff_max_capacity', 'QEPro_buff_capacity',\n",
       "       'QEPro_buff_element_count', 'QEPro_output', 'QEPro_sample',\n",
       "       'QEPro_dark', 'QEPro_reference', 'QEPro_formatted_spectrum_len',\n",
       "       'QEPro_x_axis', 'QEPro_x_axis_format', 'QEPro_dark_available',\n",
       "       'QEPro_ref_available', 'QEPro_acquire', 'QEPro_collect_mode',\n",
       "       'QEPro_spectrum_type', 'QEPro_correction', 'QEPro_trigger_mode',\n",
       "       'time'],\n",
       "      dtype='object')"
      ]
     },
     "execution_count": 50,
     "metadata": {},
     "output_type": "execute_result"
    }
   ],
   "source": [
    "db[-1].table().columns"
   ]
  },
  {
   "cell_type": "code",
   "execution_count": 47,
   "id": "17c598ef-6f32-4c1f-89ed-401bb4d93080",
   "metadata": {},
   "outputs": [
    {
     "data": {
      "text/plain": [
       "array([10.875, -2.125, -1.125, ...,  0.875, -4.125, -0.125])"
      ]
     },
     "execution_count": 47,
     "metadata": {},
     "output_type": "execute_result"
    }
   ],
   "source": [
    "qepro.dark.get()"
   ]
  },
  {
   "cell_type": "code",
   "execution_count": 56,
   "id": "7d5dc60a-f72e-4a6b-a962-2bfd88f063ea",
   "metadata": {},
   "outputs": [
    {
     "name": "stderr",
     "output_type": "stream",
     "text": [
      "WARNING:databroker.mongo_normalized:'QEPro_status_msg' actually has dtype '<i8' but was reported as having dtype '<f8'. It will be converted to the reported type, but this should be fixed by setting 'dtype_str' in the data_key of the EventDescriptor. RunStart UID: '36c25898-c47c-4444-ac08-4e34bdf05564'\n"
     ]
    },
    {
     "data": {
      "text/plain": [
       "seq_num\n",
       "1    [10.875, -2.125, -1.125, -2.125, -2.125, -2.12...\n",
       "Name: QEPro_dark, dtype: object"
      ]
     },
     "execution_count": 56,
     "metadata": {},
     "output_type": "execute_result"
    }
   ],
   "source": [
    "db[-1].table().QEPro_dark"
   ]
  },
  {
   "cell_type": "code",
   "execution_count": null,
   "id": "04714a64-450f-4acf-84e8-68f5ed1318c0",
   "metadata": {},
   "outputs": [],
   "source": []
  }
 ],
 "metadata": {
  "kernelspec": {
   "display_name": "Python 3 (ipykernel)",
   "language": "python",
   "name": "python3"
  },
  "language_info": {
   "codemirror_mode": {
    "name": "ipython",
    "version": 3
   },
   "file_extension": ".py",
   "mimetype": "text/x-python",
   "name": "python",
   "nbconvert_exporter": "python",
   "pygments_lexer": "ipython3",
   "version": "3.9.13"
  }
 },
 "nbformat": 4,
 "nbformat_minor": 5
}
