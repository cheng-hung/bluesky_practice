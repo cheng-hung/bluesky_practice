{
 "cells": [
  {
   "cell_type": "code",
   "execution_count": 1,
   "id": "64934e05-23ec-4c22-8f97-fd4420b0888e",
   "metadata": {},
   "outputs": [],
   "source": [
    "from ophyd import Device, EpicsMotor, EpicsSignal, EpicsSignalRO\n",
    "from ophyd import Component as Cpt\n",
    "import time\n",
    "import pandas as pd\n",
    "import numpy as np\n",
    "from ophyd.sim import det4, noisy_det, motor  # simulated detector, motor\n",
    "import h5py\n",
    "from datetime import datetime\n",
    "\n",
    "import bluesky.plan_stubs as bps\n",
    "from bluesky.plans import count\n",
    "\n",
    "import matplotlib.pyplot as plt\n",
    "import glob"
   ]
  },
  {
   "cell_type": "code",
   "execution_count": 2,
   "id": "294854a7-b115-48c8-8fee-04da1b53c408",
   "metadata": {},
   "outputs": [],
   "source": [
    "#%matplotlib widget\n",
    "%matplotlib inline\n",
    "#%matplotlib notebook"
   ]
  },
  {
   "cell_type": "code",
   "execution_count": 2,
   "id": "ca6dd45e-e84d-41bd-afcd-0c36c4bf9a60",
   "metadata": {},
   "outputs": [],
   "source": [
    "from bluesky import RunEngine\n",
    "import bluesky.plan_stubs as bps\n",
    "from bluesky.plans import count, scan\n",
    "RE = RunEngine({})"
   ]
  },
  {
   "cell_type": "code",
   "execution_count": 4,
   "id": "8d28cb59-d510-420a-badf-a5f1a74cd723",
   "metadata": {},
   "outputs": [
    {
     "name": "stderr",
     "output_type": "stream",
     "text": [
      "OBJECT CACHE: Will use up to 40_490_850_508 bytes (15% of total physical RAM)\n",
      "INFO:tiled.server.object_cache:Will use up to 40_490_850_508 bytes (15% of total physical RAM)\n"
     ]
    }
   ],
   "source": [
    "## Prepare Live Visualization\n",
    "from bluesky.callbacks.best_effort import BestEffortCallback\n",
    "bec = BestEffortCallback()\n",
    "\n",
    "# Send all metadata/data captured to the BestEffortCallback.\n",
    "RE.subscribe(bec)\n",
    "\n",
    "# Make plots update live while scans run.\n",
    "# from bluesky.utils import install_kicker\n",
    "# install_kicker()\n",
    "#%matplotlib notebook\n",
    "#from bluesky.utils import install_nb_kicker\n",
    "#install_nb_kicker()\n",
    "\n",
    "\n",
    "## Prepare Data Storage\n",
    "from databroker import Broker\n",
    "db = Broker.named('xpd')\n",
    "                  \n",
    "# from databroker import catalog\n",
    "# db = catalog['xpd']\n",
    "    \n",
    "# Insert all metadata/data captured into db.\n",
    "RE.subscribe(db.insert)\n",
    "\n",
    "\n",
    "## Add a Progress Bar\n",
    "from bluesky.utils import ProgressBarManager\n",
    "RE.waiting_hook = ProgressBarManager()\n"
   ]
  },
  {
   "cell_type": "code",
   "execution_count": 5,
   "id": "2eb815b6-a40a-4160-825f-3fa58a3ad3e9",
   "metadata": {},
   "outputs": [
    {
     "name": "stdout",
     "output_type": "stream",
     "text": [
      "\n",
      "\n",
      "Transient Scan ID: 1     Time: 2022-11-07 15:12:39\n",
      "Persistent Unique Scan ID: '9a76adfb-a8ae-42a3-8770-2ea381312373'\n",
      "\n",
      "\n",
      "Transient Scan ID: 1     Time: 2022-11-07 15:12:39\n",
      "Persistent Unique Scan ID: '9a76adfb-a8ae-42a3-8770-2ea381312373'\n",
      "New stream: 'primary'\n",
      "+-----------+------------+------------+\n",
      "|   seq_num |       time |       det4 |\n",
      "+-----------+------------+------------+\n",
      "New stream: 'primary'\n",
      "+-----------+------------+------------+\n",
      "|   seq_num |       time |       det4 |\n",
      "+-----------+------------+------------+\n",
      "|         1 | 15:12:39.2 |      1.000 |\n",
      "|         1 | 15:12:39.2 |      1.000 |\n",
      "+-----------+------------+------------+\n",
      "generator count ['9a76adfb'] (scan num: 1)\n",
      "\n",
      "\n",
      "\n",
      "+-----------+------------+------------+\n",
      "generator count ['9a76adfb'] (scan num: 1)\n",
      "\n",
      "\n",
      "\n"
     ]
    },
    {
     "data": {
      "text/plain": [
       "('9a76adfb-a8ae-42a3-8770-2ea381312373',)"
      ]
     },
     "execution_count": 5,
     "metadata": {},
     "output_type": "execute_result"
    }
   ],
   "source": [
    "RE(count([det4], num=1))"
   ]
  },
  {
   "cell_type": "code",
   "execution_count": 12,
   "id": "2f66ca66-475f-41c3-a9ef-04e8a5fea1fa",
   "metadata": {},
   "outputs": [],
   "source": [
    "def reset_pumps(pump_list, clear=True, update = '.2 second'):\n",
    "    for pump in pump_list:\n",
    "        pump.initialize_pump(clear=clear, update = update)\n",
    "        pump.infuse_rate_unit.put('ul/min', wait=True)\n",
    "        pump.infuse_rate.put(100, wait=True)\n",
    "        pump.withdraw_rate_unit.put('ul/min', wait=True)\n",
    "        pump.withdraw_rate.put(100, wait=True)\n",
    "        pump.target_vol_unit.put('ml', wait=True)\n",
    "        pump.target_vol.put(20, wait=True)\n",
    "        \n",
    "        \n",
    "def reset_pumps2(pump_list, clear=True, update = '.2 second'):\n",
    "    for pump in pump_list:\n",
    "        pump.initialize_pump(clear=clear, update = update)\n",
    "        yield from bps.mv(pump.infuse_rate_unit, 'ul/min', \n",
    "                          pump.infuse_rate, 100, \n",
    "                          pump.withdraw_rate_unit, 'ul/min', \n",
    "                          pump.withdraw_rate, 100, \n",
    "                          pump.target_vol_unit, 'ml', \n",
    "                          pump.target_vol, 20)\n",
    "\n",
    "\n",
    "def show_pump_status(syringe_list, pump_list, precursor_list, wait=False):\n",
    "    for input_size, pump, precursor in zip(syringe_list, pump_list, precursor_list):\n",
    "        print('Name: ' + f'{pump.name}')\n",
    "        print('Precursor: ' + f'{precursor}')\n",
    "        pump.check_pump_condition(input_size, wait=wait)\n",
    "        print('\\n')\n",
    "        \n",
    "\n",
    "def set_group_infuse(syringe_list, pump_list, target_vol_list=['50 ml', '50 ml'], rate_list = ['100 ul/min', '100 ul/min']):\n",
    "    for i, j, k, l in zip(pump_list, target_vol_list, infuse_rate_list, syringe_list):\n",
    "        vol = float(j.split(' ')[0])\n",
    "        vol_unit = j.split(' ')[1]\n",
    "        rate = float(k.split(' ')[0])\n",
    "        rate_unit = k.split(' ')[1]        \n",
    "        yield from i.set_infuse(l, target_vol = vol, target_unit = vol_unit, infuse_rate = rate, infuse_unit = rate_unit)\n",
    "        \n",
    "def set_group_withdraw(syringe_list, pump_list, target_vol_list=['50 ml', '50 ml'], rate_list = ['100 ul/min', '100 ul/min']):\n",
    "    for i, j, k, l in zip(pump_list, target_vol_list, rate_list, syringe_list):\n",
    "        vol = float(j.split(' ')[0])\n",
    "        vol_unit = j.split(' ')[1]\n",
    "        rate = float(k.split(' ')[0])\n",
    "        rate_unit = k.split(' ')[1]        \n",
    "        yield from i.set_withdraw(l, target_vol = vol, target_unit = vol_unit, withdraw_rate = rate, withdraw_unit = rate_unit)\n",
    "\n",
    "\n",
    "def start_group_infuse(pump_list):\n",
    "    for pump in pump_list:\n",
    "        yield from pump.infuse_pump2()\n",
    "        \n",
    "\n",
    "def start_group_withdraw(pump_list):\n",
    "    for pump in pump_list:\n",
    "        yield from pump.withdraw_pump2()\n",
    "        \n",
    "\n",
    "def stop_group(pump_list):\n",
    "    for pump in pump_list:\n",
    "        yield from pump.stop_pump2()\n",
    "        \n",
    "\n",
    "\n",
    "def _readable_time(unix_time):\n",
    "    from datetime import datetime\n",
    "    dt = datetime.fromtimestamp(unix_time)\n",
    "    print(f'{dt.year}{dt.month:02d}{dt.day:02d},{dt.hour:02d}{dt.minute:02d}{dt.second:02d}')\n",
    "    return (f'{dt.year}{dt.month:02d}{dt.day:02d}'), (f'{dt.hour:02d}{dt.minute:02d}{dt.second:02d}')\n",
    "\n",
    "\n",
    "\n",
    "def insitu_test(abs_repeat, cor_repeat, csv_path=None, sample='rhodamine', pump_list=None, precursor_list=None):\n",
    "    for i in range(abs_repeat):\n",
    "        yield from qepro.take_uvvis_save_csv(sample_type=sample, csv_path=csv_path, \n",
    "                                              spectrum_type='Absorbtion', correction_type='Reference', \n",
    "                                              pump_list=pump_list, precursor_list=precursor_list)\n",
    "        \n",
    "    for j in range(cor_repeat):\n",
    "        yield from qepro.take_uvvis_save_csv(sample_type=sample, csv_path=csv_path, \n",
    "                                              spectrum_type='Corrected Sample', correction_type='Dark', \n",
    "                                              pump_list=pump_list, precursor_list=precursor_list)\n",
    "\n",
    "\n",
    "def insitu_test2(abs_repeat, cor_repeat, csv_path=None, sample='rhodamine', pump_list=None, precursor_list=None):\n",
    "    for i in range(abs_repeat):\n",
    "        yield from qepro.take_uvvis_save_csv2(sample_type=sample, csv_path=csv_path, \n",
    "                                              spectrum_type='Absorbtion', correction_type='Reference', \n",
    "                                              pump_list=pump_list, precursor_list=precursor_list)\n",
    "        \n",
    "    for j in range(cor_repeat):\n",
    "        yield from qepro.take_uvvis_save_csv2(sample_type=sample, csv_path=csv_path, \n",
    "                                              spectrum_type='Corrected Sample', correction_type='Dark', \n",
    "                                              pump_list=pump_list, precursor_list=precursor_list)\n"
   ]
  },
  {
   "cell_type": "code",
   "execution_count": 36,
   "id": "c8a7db3c-773a-4436-9997-f681df2072eb",
   "metadata": {},
   "outputs": [],
   "source": [
    "## Available pump list : [dds1_p1, dds1_p2, dds2_p1, dds2_p2, ultra1, ultra2]\n",
    "pump_list = [dds1_p1, dds1_p2, dds2_p1]\n",
    "syringe_list = [50, 50, 50]\n",
    "target_vol_list = ['18 ml', '49 ml', '50 ml']\n",
    "infuse_rate_list = ['200 ul/min', '100 ul/min', '2 ml/min']\n",
    "precursor_list = ['CsPb 30 mM', 'TetraBr 30 mM', 'Tol+OA']"
   ]
  },
  {
   "cell_type": "code",
   "execution_count": 46,
   "id": "b11fd5ad-0830-469d-a0c7-1f410215d48a",
   "metadata": {},
   "outputs": [
    {
     "name": "stdout",
     "output_type": "stream",
     "text": [
      "Name: DDS1_p1\n",
      "Precursor: CsPb 30 mM\n",
      "Syringe Volume: 50 mL steel syringe\n",
      "Pump Stauts: Idle\n",
      "Cmmunication: Enabled\n",
      "Target Volume: 20.0 ml\n",
      "Infuse rate: 100.0 ul/min\n",
      "Withdraw rate: 100.0 ul/min\n",
      "Infused volume: 0.0 ul\n",
      "Withdrawn volume: 0.0 ul\n",
      "\n",
      "\n",
      "Name: DDS1_p2\n",
      "Precursor: TetraBr 30 mM\n",
      "Syringe Volume: 50 mL steel syringe\n",
      "Pump Stauts: Idle\n",
      "Cmmunication: Enabled\n",
      "Target Volume: 20.0 ml\n",
      "Infuse rate: 100.0 ul/min\n",
      "Withdraw rate: 100.0 ul/min\n",
      "Infused volume: 0.0 ul\n",
      "Withdrawn volume: 0.0 ul\n",
      "\n",
      "\n",
      "Name: DDS2_p1\n",
      "Precursor: Tol+OA\n",
      "Syringe Volume: 50 mL steel syringe\n",
      "Pump Stauts: Idle\n",
      "Cmmunication: Enabled\n",
      "Target Volume: 20.0 ml\n",
      "Infuse rate: 100.0 ul/min\n",
      "Withdraw rate: 100.0 ul/min\n",
      "Infused volume: 0.0 ul\n",
      "Withdrawn volume: 0.0 ul\n",
      "\n",
      "\n"
     ]
    }
   ],
   "source": [
    "show_pump_status(syringe_list, pump_list, precursor_list)"
   ]
  },
  {
   "cell_type": "code",
   "execution_count": 47,
   "id": "fd054d0d-ade9-4483-9fe6-375cbf11e36f",
   "metadata": {},
   "outputs": [
    {
     "data": {
      "text/plain": [
       "()"
      ]
     },
     "execution_count": 47,
     "metadata": {},
     "output_type": "execute_result"
    }
   ],
   "source": [
    "RE(set_group_infuse(syringe_list, pump_list, target_vol_list=target_vol_list, rate_list=infuse_rate_list))"
   ]
  },
  {
   "cell_type": "code",
   "execution_count": 48,
   "id": "774788d1-b064-4632-8bd9-4c96b18d87d3",
   "metadata": {},
   "outputs": [
    {
     "name": "stdout",
     "output_type": "stream",
     "text": [
      "Name: DDS1_p1\n",
      "Precursor: CsPb 30 mM\n",
      "Syringe Volume: 50 mL steel syringe\n",
      "Pump Stauts: Idle\n",
      "Cmmunication: Enabled\n",
      "Target Volume: 18.0 ml\n",
      "Infuse rate: 200.0 ul/min\n",
      "Withdraw rate: 100.0 ul/min\n",
      "Infused volume: 0.0 ul\n",
      "Withdrawn volume: 0.0 ul\n",
      "\n",
      "\n",
      "Name: DDS1_p2\n",
      "Precursor: TetraBr 30 mM\n",
      "Syringe Volume: 50 mL steel syringe\n",
      "Pump Stauts: Idle\n",
      "Cmmunication: Enabled\n",
      "Target Volume: 49.0 ml\n",
      "Infuse rate: 100.0 ul/min\n",
      "Withdraw rate: 100.0 ul/min\n",
      "Infused volume: 0.0 ul\n",
      "Withdrawn volume: 0.0 ul\n",
      "\n",
      "\n",
      "Name: DDS2_p1\n",
      "Precursor: Tol+OA\n",
      "Syringe Volume: 50 mL steel syringe\n",
      "Pump Stauts: Idle\n",
      "Cmmunication: Enabled\n",
      "Target Volume: 50.0 ml\n",
      "Infuse rate: 2.0 ml/min\n",
      "Withdraw rate: 100.0 ul/min\n",
      "Infused volume: 0.0 ul\n",
      "Withdrawn volume: 0.0 ul\n",
      "\n",
      "\n"
     ]
    }
   ],
   "source": [
    "show_pump_status(syringe_list, pump_list, precursor_list)"
   ]
  },
  {
   "cell_type": "code",
   "execution_count": 50,
   "id": "a41a0d51-fdb4-4d88-bbf6-7b2d89ab5a2f",
   "metadata": {},
   "outputs": [
    {
     "data": {
      "text/plain": [
       "()"
      ]
     },
     "execution_count": 50,
     "metadata": {},
     "output_type": "execute_result"
    }
   ],
   "source": [
    "RE(dds1_p1.infuse_pump2())"
   ]
  },
  {
   "cell_type": "code",
   "execution_count": null,
   "id": "633048e7-0783-41d3-99bc-e55f6d07ce8a",
   "metadata": {},
   "outputs": [],
   "source": [
    "qepro.set_temp(-5)"
   ]
  },
  {
   "cell_type": "code",
   "execution_count": null,
   "id": "daf2b1d1-9305-4037-b979-561ccd8d3685",
   "metadata": {},
   "outputs": [],
   "source": [
    "qepro.setup_collection(integration_time=15, num_spectra_to_average=16, electric_dark_correction=True)"
   ]
  },
  {
   "cell_type": "code",
   "execution_count": null,
   "id": "9bfc22a4-5e81-4114-aa9c-a47eb0eaa4a4",
   "metadata": {},
   "outputs": [],
   "source": [
    "RE(LED_off())"
   ]
  },
  {
   "cell_type": "code",
   "execution_count": null,
   "id": "9bb21f63-9579-446b-a35d-338197cf3493",
   "metadata": {},
   "outputs": [],
   "source": [
    "RE(shutter_close())"
   ]
  },
  {
   "cell_type": "code",
   "execution_count": null,
   "id": "cbcc6fed-50c5-462c-9ce0-31859186539c",
   "metadata": {},
   "outputs": [],
   "source": [
    "qepro.get_dark_frame()"
   ]
  },
  {
   "cell_type": "code",
   "execution_count": null,
   "id": "4a0c7b53-21ae-46fa-98ad-1bfcbadaab81",
   "metadata": {},
   "outputs": [],
   "source": [
    "RE(shutter_open())"
   ]
  },
  {
   "cell_type": "code",
   "execution_count": null,
   "id": "44b18fe9-1acc-48f2-b313-91686d8b70fb",
   "metadata": {},
   "outputs": [],
   "source": [
    "qepro.get_reference_frame()"
   ]
  },
  {
   "cell_type": "code",
   "execution_count": 18,
   "id": "f66b4484-20e4-4076-9d07-f106b0d573c4",
   "metadata": {},
   "outputs": [],
   "source": [
    "csv_path = '/nsls2/users/clin1/Documents/Cheng-Hung/temp/20221031_BSplan'"
   ]
  },
  {
   "cell_type": "code",
   "execution_count": 13,
   "id": "446eac26-1986-4b31-81e3-943926a6880c",
   "metadata": {},
   "outputs": [
    {
     "name": "stdout",
     "output_type": "stream",
     "text": [
      "\n",
      "\n",
      "Transient Scan ID: 1     Time: 2022-10-31 19:03:26\n",
      "Persistent Unique Scan ID: 'b05919c8-7c7e-4362-9758-da44b5e68c7e'\n",
      "QEPro_acquire [In progress. No progress bar available.]                         \n",
      "QEPro_acquire [In progress. No progress bar available.]                         \n",
      "                                                                                \n",
      "New stream: 'primary'\n"
     ]
    },
    {
     "name": "stderr",
     "output_type": "stream",
     "text": [
      "/nsls2/conda/envs/2022-3.2-py39-tiled/lib/python3.9/site-packages/bluesky/callbacks/core.py:332: UserWarning: The key QEPro_output will be skipped because LiveTable does not know how to display the dtype array\n",
      "  warnings.warn(\"The key {} will be skipped because LiveTable \"\n",
      "/nsls2/conda/envs/2022-3.2-py39-tiled/lib/python3.9/site-packages/bluesky/callbacks/core.py:332: UserWarning: The key QEPro_sample will be skipped because LiveTable does not know how to display the dtype array\n",
      "  warnings.warn(\"The key {} will be skipped because LiveTable \"\n",
      "/nsls2/conda/envs/2022-3.2-py39-tiled/lib/python3.9/site-packages/bluesky/callbacks/core.py:332: UserWarning: The key QEPro_dark will be skipped because LiveTable does not know how to display the dtype array\n",
      "  warnings.warn(\"The key {} will be skipped because LiveTable \"\n",
      "/nsls2/conda/envs/2022-3.2-py39-tiled/lib/python3.9/site-packages/bluesky/callbacks/core.py:332: UserWarning: The key QEPro_reference will be skipped because LiveTable does not know how to display the dtype array\n",
      "  warnings.warn(\"The key {} will be skipped because LiveTable \"\n",
      "/nsls2/conda/envs/2022-3.2-py39-tiled/lib/python3.9/site-packages/bluesky/callbacks/core.py:332: UserWarning: The key QEPro_x_axis will be skipped because LiveTable does not know how to display the dtype array\n",
      "  warnings.warn(\"The key {} will be skipped because LiveTable \"\n"
     ]
    },
    {
     "name": "stdout",
     "output_type": "stream",
     "text": [
      "+-----------+------------+-------------------+------------------------+--------------------+---------------------+------------------+\n",
      "|   seq_num |       time | QEPro_num_spectra | QEPro_integration_time | QEPro_collect_mode | QEPro_spectrum_type | QEPro_correction |\n",
      "+-----------+------------+-------------------+------------------------+--------------------+---------------------+------------------+\n",
      "|         1 | 19:03:28.7 |                16 |                 15.000 |                  1 |                   3 |                2 |\n",
      "+-----------+------------+-------------------+------------------------+--------------------+---------------------+------------------+\n",
      "generator count ['b05919c8'] (scan num: 1)\n",
      "\n",
      "\n",
      "\n"
     ]
    },
    {
     "data": {
      "text/plain": [
       "('b05919c8-7c7e-4362-9758-da44b5e68c7e',)"
      ]
     },
     "execution_count": 13,
     "metadata": {},
     "output_type": "execute_result"
    }
   ],
   "source": [
    "RE(count([qepro]))"
   ]
  },
  {
   "cell_type": "code",
   "execution_count": 51,
   "id": "f35437e3-b6f3-40cd-b874-508b766be3b2",
   "metadata": {},
   "outputs": [
    {
     "name": "stdout",
     "output_type": "stream",
     "text": [
      "LED is Low\n",
      "UV shutter is High\n",
      "QEPro_acquire [In progress. No progress bar available.]                         \n",
      "QEPro_acquire [In progress. No progress bar available.]                         \n",
      "                                                                                \n"
     ]
    },
    {
     "name": "stderr",
     "output_type": "stream",
     "text": [
      "WARNING:databroker.mongo_normalized:'QEPro_status_msg' actually has dtype '<i8' but was reported as having dtype '<f8'. It will be converted to the reported type, but this should be fixed by setting 'dtype_str' in the data_key of the EventDescriptor. RunStart UID: '79fe4fcf-858a-423e-b400-713bfb7332f9'\n",
      "/tmp/ipykernel_3430913/4048677518.py:55: DeprecationWarning: an integer is required (got type DataArray).  Implicit conversion to integers using __int__ is deprecated, and may be removed in a future version of Python.\n",
      "  dt = datetime.fromtimestamp(unix_time)\n"
     ]
    },
    {
     "name": "stdout",
     "output_type": "stream",
     "text": [
      "20221031,191913\n"
     ]
    },
    {
     "data": {
      "image/png": "[encoded data removed]",
      "text/plain": [
       "<Figure size 640x480 with 1 Axes>"
      ]
     },
     "metadata": {},
     "output_type": "display_data"
    },
    {
     "data": {
      "text/plain": [
       "('79fe4fcf-858a-423e-b400-713bfb7332f9',)"
      ]
     },
     "execution_count": 51,
     "metadata": {},
     "output_type": "execute_result"
    }
   ],
   "source": [
    "RE(qepro.take_uvvis_save_csv2(sample_type='rhodamine', plot=True, csv_path=csv_path, \n",
    "                            spectrum_type='Absorbtion', correction_type='Reference', \n",
    "                            pump_list=pump_list, precursor_list=precursor_list))"
   ]
  },
  {
   "cell_type": "code",
   "execution_count": 73,
   "id": "aa09cb92-d5e6-4deb-b6be-708153669767",
   "metadata": {},
   "outputs": [
    {
     "name": "stdout",
     "output_type": "stream",
     "text": [
      "LED is Low\n",
      "UV shutter is High\n",
      "QEPro_acquire [In progress. No progress bar available.]                         \n",
      "QEPro_acquire [In progress. No progress bar available.]                         \n",
      "                                                                                \n"
     ]
    },
    {
     "name": "stderr",
     "output_type": "stream",
     "text": [
      "WARNING:databroker.mongo_normalized:'QEPro_status_msg' actually has dtype '<i8' but was reported as having dtype '<f8'. It will be converted to the reported type, but this should be fixed by setting 'dtype_str' in the data_key of the EventDescriptor. RunStart UID: 'cc3ea728-447e-47f2-aa7d-4d870c8eee9e'\n",
      "/tmp/ipykernel_3430913/2980326845.py:55: DeprecationWarning: an integer is required (got type DataArray).  Implicit conversion to integers using __int__ is deprecated, and may be removed in a future version of Python.\n",
      "  dt = datetime.fromtimestamp(unix_time)\n"
     ]
    },
    {
     "name": "stdout",
     "output_type": "stream",
     "text": [
      "20221031,200231\n",
      "LED is Low\n",
      "UV shutter is High\n",
      "QEPro_acquire [In progress. No progress bar available.]                         \n",
      "QEPro_acquire [In progress. No progress bar available.]                         \n",
      "                                                                                \n"
     ]
    },
    {
     "name": "stderr",
     "output_type": "stream",
     "text": [
      "WARNING:databroker.mongo_normalized:'QEPro_status_msg' actually has dtype '<i8' but was reported as having dtype '<f8'. It will be converted to the reported type, but this should be fixed by setting 'dtype_str' in the data_key of the EventDescriptor. RunStart UID: '608217ec-14a3-4a39-8360-bf3644848099'\n",
      "/tmp/ipykernel_3430913/2980326845.py:55: DeprecationWarning: an integer is required (got type DataArray).  Implicit conversion to integers using __int__ is deprecated, and may be removed in a future version of Python.\n",
      "  dt = datetime.fromtimestamp(unix_time)\n"
     ]
    },
    {
     "name": "stdout",
     "output_type": "stream",
     "text": [
      "20221031,200234\n",
      "LED is Low\n",
      "UV shutter is High\n",
      "QEPro_acquire [In progress. No progress bar available.]                         \n",
      "QEPro_acquire [In progress. No progress bar available.]                         \n",
      "                                                                                \n"
     ]
    },
    {
     "name": "stderr",
     "output_type": "stream",
     "text": [
      "WARNING:databroker.mongo_normalized:'QEPro_status_msg' actually has dtype '<i8' but was reported as having dtype '<f8'. It will be converted to the reported type, but this should be fixed by setting 'dtype_str' in the data_key of the EventDescriptor. RunStart UID: 'd3501f31-7405-4804-9a40-ecacadc0fb93'\n",
      "/tmp/ipykernel_3430913/2980326845.py:55: DeprecationWarning: an integer is required (got type DataArray).  Implicit conversion to integers using __int__ is deprecated, and may be removed in a future version of Python.\n",
      "  dt = datetime.fromtimestamp(unix_time)\n"
     ]
    },
    {
     "name": "stdout",
     "output_type": "stream",
     "text": [
      "20221031,200237\n",
      "LED is Low\n",
      "UV shutter is High\n",
      "QEPro_acquire [In progress. No progress bar available.]                         \n",
      "QEPro_acquire [In progress. No progress bar available.]                         \n",
      "                                                                                \n"
     ]
    },
    {
     "name": "stderr",
     "output_type": "stream",
     "text": [
      "WARNING:databroker.mongo_normalized:'QEPro_status_msg' actually has dtype '<i8' but was reported as having dtype '<f8'. It will be converted to the reported type, but this should be fixed by setting 'dtype_str' in the data_key of the EventDescriptor. RunStart UID: '6af80f04-16a1-4133-a307-5873ae9cd62b'\n",
      "/tmp/ipykernel_3430913/2980326845.py:55: DeprecationWarning: an integer is required (got type DataArray).  Implicit conversion to integers using __int__ is deprecated, and may be removed in a future version of Python.\n",
      "  dt = datetime.fromtimestamp(unix_time)\n"
     ]
    },
    {
     "name": "stdout",
     "output_type": "stream",
     "text": [
      "20221031,200239\n",
      "UV shutter is Low\n",
      "LED is High.\n",
      "QEPro_acquire [In progress. No progress bar available.]                         \n",
      "QEPro_acquire [In progress. No progress bar available.]                         \n",
      "                                                                                \n"
     ]
    },
    {
     "name": "stderr",
     "output_type": "stream",
     "text": [
      "WARNING:databroker.mongo_normalized:'QEPro_status_msg' actually has dtype '<i8' but was reported as having dtype '<f8'. It will be converted to the reported type, but this should be fixed by setting 'dtype_str' in the data_key of the EventDescriptor. RunStart UID: '531e3478-3a38-4fd6-8ce5-fd9b14c5341d'\n",
      "/tmp/ipykernel_3430913/2980326845.py:55: DeprecationWarning: an integer is required (got type DataArray).  Implicit conversion to integers using __int__ is deprecated, and may be removed in a future version of Python.\n",
      "  dt = datetime.fromtimestamp(unix_time)\n"
     ]
    },
    {
     "name": "stdout",
     "output_type": "stream",
     "text": [
      "20221031,200242\n",
      "UV shutter is Low\n",
      "LED is High.\n",
      "QEPro_acquire [In progress. No progress bar available.]                         \n",
      "QEPro_acquire [In progress. No progress bar available.]                         \n",
      "                                                                                \n"
     ]
    },
    {
     "name": "stderr",
     "output_type": "stream",
     "text": [
      "WARNING:databroker.mongo_normalized:'QEPro_status_msg' actually has dtype '<i8' but was reported as having dtype '<f8'. It will be converted to the reported type, but this should be fixed by setting 'dtype_str' in the data_key of the EventDescriptor. RunStart UID: '6db9db96-41db-4004-a0ef-1c69501d45a8'\n",
      "/tmp/ipykernel_3430913/2980326845.py:55: DeprecationWarning: an integer is required (got type DataArray).  Implicit conversion to integers using __int__ is deprecated, and may be removed in a future version of Python.\n",
      "  dt = datetime.fromtimestamp(unix_time)\n"
     ]
    },
    {
     "name": "stdout",
     "output_type": "stream",
     "text": [
      "20221031,200245\n",
      "UV shutter is Low\n",
      "LED is High.\n",
      "QEPro_acquire [In progress. No progress bar available.]                         \n",
      "QEPro_acquire [In progress. No progress bar available.]                         \n",
      "                                                                                \n"
     ]
    },
    {
     "name": "stderr",
     "output_type": "stream",
     "text": [
      "WARNING:databroker.mongo_normalized:'QEPro_status_msg' actually has dtype '<i8' but was reported as having dtype '<f8'. It will be converted to the reported type, but this should be fixed by setting 'dtype_str' in the data_key of the EventDescriptor. RunStart UID: '8e71fe15-048e-46b8-97c6-19db47af0c93'\n",
      "/tmp/ipykernel_3430913/2980326845.py:55: DeprecationWarning: an integer is required (got type DataArray).  Implicit conversion to integers using __int__ is deprecated, and may be removed in a future version of Python.\n",
      "  dt = datetime.fromtimestamp(unix_time)\n"
     ]
    },
    {
     "name": "stdout",
     "output_type": "stream",
     "text": [
      "20221031,200247\n",
      "UV shutter is Low\n",
      "LED is High.\n",
      "QEPro_acquire [In progress. No progress bar available.]                         \n",
      "QEPro_acquire [In progress. No progress bar available.]                         \n",
      "                                                                                \n"
     ]
    },
    {
     "name": "stderr",
     "output_type": "stream",
     "text": [
      "WARNING:databroker.mongo_normalized:'QEPro_status_msg' actually has dtype '<i8' but was reported as having dtype '<f8'. It will be converted to the reported type, but this should be fixed by setting 'dtype_str' in the data_key of the EventDescriptor. RunStart UID: '187cf079-0b15-482d-a461-d3142092d8d8'\n",
      "/tmp/ipykernel_3430913/2980326845.py:55: DeprecationWarning: an integer is required (got type DataArray).  Implicit conversion to integers using __int__ is deprecated, and may be removed in a future version of Python.\n",
      "  dt = datetime.fromtimestamp(unix_time)\n"
     ]
    },
    {
     "name": "stdout",
     "output_type": "stream",
     "text": [
      "20221031,200250\n",
      "UV shutter is Low\n",
      "LED is High.\n",
      "QEPro_acquire [In progress. No progress bar available.]                         \n",
      "QEPro_acquire [In progress. No progress bar available.]                         \n",
      "                                                                                \n"
     ]
    },
    {
     "name": "stderr",
     "output_type": "stream",
     "text": [
      "WARNING:databroker.mongo_normalized:'QEPro_status_msg' actually has dtype '<i8' but was reported as having dtype '<f8'. It will be converted to the reported type, but this should be fixed by setting 'dtype_str' in the data_key of the EventDescriptor. RunStart UID: 'c4cbe7f9-f36f-43c9-a3ad-28a04ef6b53d'\n",
      "/tmp/ipykernel_3430913/2980326845.py:55: DeprecationWarning: an integer is required (got type DataArray).  Implicit conversion to integers using __int__ is deprecated, and may be removed in a future version of Python.\n",
      "  dt = datetime.fromtimestamp(unix_time)\n"
     ]
    },
    {
     "name": "stdout",
     "output_type": "stream",
     "text": [
      "20221031,200253\n",
      "UV shutter is Low\n",
      "LED is High.\n",
      "QEPro_acquire [In progress. No progress bar available.]                         \n",
      "QEPro_acquire [In progress. No progress bar available.]                         \n",
      "                                                                                \n"
     ]
    },
    {
     "name": "stderr",
     "output_type": "stream",
     "text": [
      "WARNING:databroker.mongo_normalized:'QEPro_status_msg' actually has dtype '<i8' but was reported as having dtype '<f8'. It will be converted to the reported type, but this should be fixed by setting 'dtype_str' in the data_key of the EventDescriptor. RunStart UID: '8b39d0b6-ef07-4d33-9a37-27a7a84faf09'\n",
      "/tmp/ipykernel_3430913/2980326845.py:55: DeprecationWarning: an integer is required (got type DataArray).  Implicit conversion to integers using __int__ is deprecated, and may be removed in a future version of Python.\n",
      "  dt = datetime.fromtimestamp(unix_time)\n"
     ]
    },
    {
     "name": "stdout",
     "output_type": "stream",
     "text": [
      "20221031,200256\n",
      "UV shutter is Low\n",
      "LED is High.\n",
      "QEPro_acquire [In progress. No progress bar available.]                         \n",
      "QEPro_acquire [In progress. No progress bar available.]                         \n",
      "                                                                                \n"
     ]
    },
    {
     "name": "stderr",
     "output_type": "stream",
     "text": [
      "WARNING:databroker.mongo_normalized:'QEPro_status_msg' actually has dtype '<i8' but was reported as having dtype '<f8'. It will be converted to the reported type, but this should be fixed by setting 'dtype_str' in the data_key of the EventDescriptor. RunStart UID: '5e3c3c70-7e7f-4d91-836e-31e579939226'\n",
      "/tmp/ipykernel_3430913/2980326845.py:55: DeprecationWarning: an integer is required (got type DataArray).  Implicit conversion to integers using __int__ is deprecated, and may be removed in a future version of Python.\n",
      "  dt = datetime.fromtimestamp(unix_time)\n"
     ]
    },
    {
     "name": "stdout",
     "output_type": "stream",
     "text": [
      "20221031,200259\n"
     ]
    },
    {
     "data": {
      "text/plain": [
       "('cc3ea728-447e-47f2-aa7d-4d870c8eee9e',\n",
       " '608217ec-14a3-4a39-8360-bf3644848099',\n",
       " 'd3501f31-7405-4804-9a40-ecacadc0fb93',\n",
       " '6af80f04-16a1-4133-a307-5873ae9cd62b',\n",
       " '531e3478-3a38-4fd6-8ce5-fd9b14c5341d',\n",
       " '6db9db96-41db-4004-a0ef-1c69501d45a8',\n",
       " '8e71fe15-048e-46b8-97c6-19db47af0c93',\n",
       " '187cf079-0b15-482d-a461-d3142092d8d8',\n",
       " 'c4cbe7f9-f36f-43c9-a3ad-28a04ef6b53d',\n",
       " '8b39d0b6-ef07-4d33-9a37-27a7a84faf09',\n",
       " '5e3c3c70-7e7f-4d91-836e-31e579939226')"
      ]
     },
     "execution_count": 73,
     "metadata": {},
     "output_type": "execute_result"
    }
   ],
   "source": [
    "RE(insitu_test(4, 7, csv_path=csv_path, sample='rhodamine', pump_list=pump_list, precursor_list=precursor_list))"
   ]
  },
  {
   "cell_type": "code",
   "execution_count": 17,
   "id": "3abf3c0e-944e-4d82-8383-d43febaaa9cd",
   "metadata": {},
   "outputs": [
    {
     "name": "stderr",
     "output_type": "stream",
     "text": [
      "WARNING:databroker.mongo_normalized:'QEPro_status_msg' actually has dtype '<i8' but was reported as having dtype '<f8'. It will be converted to the reported type, but this should be fixed by setting 'dtype_str' in the data_key of the EventDescriptor. RunStart UID: '5e3c3c70-7e7f-4d91-836e-31e579939226'\n"
     ]
    },
    {
     "data": {
      "text/plain": [
       "'QEP02875'"
      ]
     },
     "execution_count": 17,
     "metadata": {},
     "output_type": "execute_result"
    }
   ],
   "source": [
    "uid = '5e3c3c70-7e7f-4d91-836e-31e579939226'\n",
    "db[uid].xarray()['QEPro_serial'].values[0]\n",
    "\n"
   ]
  },
  {
   "cell_type": "code",
   "execution_count": 69,
   "id": "b5f152e2-66da-45ed-aa56-9bccefae6fda",
   "metadata": {},
   "outputs": [
    {
     "data": {
      "image/png": "[encoded data removed]",
      "text/plain": [
       "<Figure size 640x480 with 1 Axes>"
      ]
     },
     "metadata": {},
     "output_type": "display_data"
    }
   ],
   "source": [
    "qepro.plot_spectra()"
   ]
  },
  {
   "cell_type": "code",
   "execution_count": null,
   "id": "9889649b-526c-4aa9-89c7-9c5272280cea",
   "metadata": {},
   "outputs": [],
   "source": [
    "def h5_rate_spectra(h5_path, h5_name, pump_list, precursor_list, absor=qepro, xray=det4, delay=None):\n",
    "\n",
    "    fout = h5_path + h5_name\n",
    "    t_q = list(absor.read().items())[0][1]['timestamp']\n",
    "    dt = datetime.fromtimestamp(t_q)\n",
    "\n",
    "    \n",
    "    with h5py.File(fout, 'w') as hf:\n",
    "        hf.create_dataset('Time_QEPro', data=[f'{dt.year}{dt.month:02d}{dt.day:02d}', f'{dt.hour:02d}{dt.minute:02d}{dt.second:02d}'])\n",
    "        hf.create_dataset('Wavelength', data=absor.x_axis.get())\n",
    "        hf.create_dataset('Dark', data=absor.dark.get())\n",
    "        if absor.spectrum_type.get(as_string=True) == 'Absorbtion':           \n",
    "            hf.create_dataset('Reference', data=absor.reference.get())\n",
    "            hf.create_dataset('Sample_UV', data=absor.sample.get())\n",
    "            hf.create_dataset('Abosrbance', data=absor.output.get())\n",
    "        else:\n",
    "            hf.create_dataset('Sample_PL', data=absor.sample.get())\n",
    "            hf.create_dataset('PL', data=absor.output.get())            \n",
    "        for pump, precursor in zip(pump_list, precursor_list):\n",
    "            hf.create_dataset(pump.name, data=[f'{precursor}', f'{pump.read_infuse_rate.get()}', \n",
    "                                               pump.read_infuse_rate_unit.get()])      \n",
    "    print(f'{fout} is saved.')\n",
    "    hf.close()\n",
    "\n",
    "    \n",
    "\n",
    "    \n",
    "def csv_rate_spectra(csv_path, csv_name, pump_list, precursor_list, absor=qepro, xray=det4, delay=None):\n",
    "\n",
    "    fout = csv_path + csv_name\n",
    "    t_q = list(absor.read().items())[0][1]['timestamp']\n",
    "    dt = datetime.fromtimestamp(t_q)\n",
    "    \n",
    "    with open(fout, 'w') as fp:\n",
    "        for pump, precursor in zip(pump_list, precursor_list):\n",
    "            fp.write(f'{pump.name},{precursor},{pump.read_infuse_rate.get()},{pump.read_infuse_rate_unit.get()}\\n')        \n",
    "        \n",
    "        fp.write(f'Time_QEPro,{dt.year}{dt.month:02d}{dt.day:02d},{dt.hour:02d}{dt.minute:02d}{dt.second:02d}\\n')\n",
    "        x_axis_data = absor.x_axis.get()\n",
    "        output_data = absor.output.get()\n",
    "        sample_data = absor.sample.get()\n",
    "        dark_data = absor.dark.get()\n",
    "        reference_data = absor.reference.get()\n",
    "        if absor.spectrum_type.get(as_string=True) == 'Absorbtion':\n",
    "            fp.write('Energy,Dark,Reference,Sample,Absorbance\\n')\n",
    "        else:\n",
    "            fp.write('Energy,Dark,Raw Sample,PL\\n')\n",
    "\n",
    "        for i in range(len(output_data)):\n",
    "            if absor.spectrum_type.get(as_string=True) == 'Absorbtion':\n",
    "                fp.write(f'{x_axis_data[i]},{dark_data[i]},{reference_data[i]},{sample_data[i]},{output_data[i]}\\n')\n",
    "            else:\n",
    "                fp.write(f'{x_axis_data[i]},{dark_data[i]},{sample_data[i]},{output_data[i]}\\n')\n",
    "\n",
    "        print('Done.')\n"
   ]
  },
  {
   "cell_type": "code",
   "execution_count": null,
   "id": "a584f8a3-f297-41c4-bc55-8a3adbedc224",
   "metadata": {},
   "outputs": [],
   "source": [
    "h5_path = '/nsls2/users/clin1/Documents/Cheng-Hung/temp/'\n",
    "h5_name = '20220912_test6.h5'\n",
    "h5_rate_spectra(h5_path, h5_name, pump_list, precursor_list, absor=qepro)"
   ]
  },
  {
   "cell_type": "code",
   "execution_count": null,
   "id": "4d1a6527-2855-4cfd-8250-ebeebe79c197",
   "metadata": {},
   "outputs": [],
   "source": [
    "csv_path = '/nsls2/users/clin1/Documents/Cheng-Hung/temp/'\n",
    "csv_name = '20220912_test3.csv'\n",
    "csv_rate_spectra(csv_path, csv_name, pump_list, precursor_list, absor=qepro)"
   ]
  },
  {
   "cell_type": "code",
   "execution_count": null,
   "id": "6380df0f-acb6-479c-95f2-806d367452fa",
   "metadata": {},
   "outputs": [],
   "source": [
    "f = '/nsls2/users/clin1/Documents/Cheng-Hung/temp/20220912_test2.csv'\n",
    "df = pd.read_csv(f, skiprows=3)\n",
    "df"
   ]
  },
  {
   "cell_type": "code",
   "execution_count": null,
   "id": "62341183-8dca-40e4-89d7-55be962d7d2b",
   "metadata": {},
   "outputs": [],
   "source": [
    "b = list(dds1_p1.read().items())\n",
    "b[0][1]['timestamp']\n",
    "dt = datetime.fromtimestamp(b[0][1]['timestamp'])\n",
    "dt?"
   ]
  },
  {
   "cell_type": "code",
   "execution_count": null,
   "id": "d79afa52-e367-4d10-928b-6d48b42a60e1",
   "metadata": {},
   "outputs": [],
   "source": [
    "dds1_p1.name"
   ]
  },
  {
   "cell_type": "code",
   "execution_count": null,
   "id": "0bc687c6-9bc2-4615-9d17-2e60ba653608",
   "metadata": {},
   "outputs": [],
   "source": [
    "for pump, precursor in zip(pump_list, precursor_list):\n",
    "    print(pump.name)\n",
    "    data=[f'{precursor}', pump.read_infuse_rate.get(), pump.read_infuse_rate_unit.get()]\n",
    "    print(data)"
   ]
  },
  {
   "cell_type": "code",
   "execution_count": null,
   "id": "a8966b2f-5e5b-4dd3-a7a1-bac58c64e5da",
   "metadata": {},
   "outputs": [],
   "source": []
  }
 ],
 "metadata": {
  "kernelspec": {
   "display_name": "Python 3 (ipykernel)",
   "language": "python",
   "name": "python3"
  },
  "language_info": {
   "codemirror_mode": {
    "name": "ipython",
    "version": 3
   },
   "file_extension": ".py",
   "mimetype": "text/x-python",
   "name": "python",
   "nbconvert_exporter": "python",
   "pygments_lexer": "ipython3",
   "version": "3.9.13"
  }
 },
 "nbformat": 4,
 "nbformat_minor": 5
}
